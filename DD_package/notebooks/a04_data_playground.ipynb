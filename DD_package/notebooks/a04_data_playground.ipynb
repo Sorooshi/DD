{
 "cells": [
  {
   "cell_type": "code",
   "execution_count": null,
   "id": "587852fe",
   "metadata": {},
   "outputs": [],
   "source": [
    "\n",
    "\n",
    "\n",
    "import os\n",
    "import sys\n",
    "import time\n",
    "import numpy as np\n",
    "import pandas as pd\n",
    "import seaborn as sns\n",
    "from pathlib import Path\n",
    "import matplotlib.pyplot as plt \n",
    "from collections import defaultdict \n",
    "\n",
    "\n"
   ]
  },
  {
   "cell_type": "code",
   "execution_count": null,
   "id": "a38b959d",
   "metadata": {},
   "outputs": [],
   "source": [
    "\n",
    "sys.path.append(\"../\")\n",
    "\n"
   ]
  },
  {
   "cell_type": "code",
   "execution_count": null,
   "id": "abce040e",
   "metadata": {},
   "outputs": [],
   "source": [
    "from dd_package.data.dyslexia_data import DyslexiaData"
   ]
  },
  {
   "cell_type": "code",
   "execution_count": null,
   "id": "e9f7d645",
   "metadata": {},
   "outputs": [],
   "source": [
    "\n",
    "dd = DyslexiaData(path=\"../../datasets/\", )\n",
    "\n",
    "\n",
    "\n",
    "demos = dd.get_demo_datasets()\n",
    "ias = dd.get_ia_datasets()\n",
    "fixs = dd.get_fix_datasets()\n",
    "\n",
    "\n"
   ]
  },
  {
   "cell_type": "code",
   "execution_count": null,
   "id": "9171d483",
   "metadata": {},
   "outputs": [],
   "source": [
    "\n",
    "demo = dd.concat_classes_demo()\n",
    "\n",
    "demo\n",
    "\n"
   ]
  },
  {
   "cell_type": "code",
   "execution_count": null,
   "id": "3be7341e",
   "metadata": {},
   "outputs": [],
   "source": [
    "ia = dd.concat_classes_ia()\n",
    "\n",
    "ia"
   ]
  },
  {
   "cell_type": "code",
   "execution_count": null,
   "id": "41e63ff2",
   "metadata": {},
   "outputs": [],
   "source": [
    "fix = dd.concat_classes_fix()\n",
    "\n",
    "fix\n"
   ]
  },
  {
   "cell_type": "code",
   "execution_count": null,
   "id": "08b9a751",
   "metadata": {},
   "outputs": [],
   "source": [
    "\n",
    "\n",
    "norms_d = set(demos[\"norm\"].SubjID)\n",
    "risks_d = set(demos[\"risk\"].SubjID)\n",
    "dyslexics_d = set(demos[\"dyslexia\"].SubjID)\n",
    "\n",
    "\n",
    "\n",
    "print(len(norms_d), len(risks_d), len(dyslexics_d),\n",
    "      \"Sum =\", len(norms_d)+len(risks_d)+ len(dyslexics_d),\n",
    "     )\n",
    "\n",
    "\n",
    "\n"
   ]
  },
  {
   "cell_type": "code",
   "execution_count": null,
   "id": "b8d98764",
   "metadata": {},
   "outputs": [],
   "source": [
    "\n",
    "\n",
    "\n",
    "\n",
    "norms_f = set(fixs[\"norm\"].SubjectID)\n",
    "risks_f = set(fixs[\"risk\"].SubjectID)\n",
    "dyslexics_f = set(fixs[\"dyslexia\"].SubjectID)\n",
    "\n",
    "\n",
    "\n",
    "print(len(norms_f), len(risks_f), len(dyslexics_f),\n",
    "      \"Sum =\", len(norms_f)+len(risks_f)+ len(dyslexics_f)\n",
    "     )\n",
    "\n",
    "\n",
    "\n",
    "\n",
    "\n"
   ]
  },
  {
   "cell_type": "code",
   "execution_count": null,
   "id": "18624f9d",
   "metadata": {},
   "outputs": [],
   "source": [
    "\n",
    "\n",
    "\n",
    "\n",
    "\n",
    "norms_i = set(ias[\"norm\"].SubjectID)\n",
    "risks_i = set(ias[\"risk\"].SubjectID)\n",
    "dyslexics_i = set(ias[\"dyslexia\"].SubjectID)\n",
    "\n",
    "\n",
    "\n",
    "print(len(norms_i), len(risks_i), len(dyslexics_i),\n",
    "      \"Sum =\", len(norms_i)+len(risks_i)+ len(dyslexics_i)\n",
    "     )\n",
    "\n",
    "\n",
    "\n",
    "\n"
   ]
  },
  {
   "cell_type": "code",
   "execution_count": null,
   "id": "82176d1c",
   "metadata": {},
   "outputs": [],
   "source": [
    "\n",
    "\n",
    "norms_d.difference(norms_f)\n"
   ]
  },
  {
   "cell_type": "code",
   "execution_count": null,
   "id": "f8b5eb96",
   "metadata": {},
   "outputs": [],
   "source": [
    "\n",
    "norms_d.difference(norms_i)\n",
    "\n"
   ]
  },
  {
   "cell_type": "code",
   "execution_count": null,
   "id": "f4f04925",
   "metadata": {},
   "outputs": [],
   "source": [
    "\n",
    "norms_i.difference(norms_f)\n",
    "\n"
   ]
  },
  {
   "cell_type": "code",
   "execution_count": null,
   "id": "f97cf998",
   "metadata": {},
   "outputs": [],
   "source": [
    "\n",
    "\n",
    "norms_f.difference(norms_d)\n",
    "\n"
   ]
  },
  {
   "cell_type": "code",
   "execution_count": null,
   "id": "092f0f3b",
   "metadata": {},
   "outputs": [],
   "source": [
    "\n",
    "\n",
    "norms_i.difference(norms_d)\n",
    "\n"
   ]
  },
  {
   "cell_type": "code",
   "execution_count": null,
   "id": "0137f826",
   "metadata": {},
   "outputs": [],
   "source": [
    "\n",
    "\n",
    "\n",
    "x =  {'m29', 'm47', 's163', 's180'}\n",
    "\n",
    "for i in x:\n",
    "    if i in dyslexics_i:\n",
    "        print(i, \"Fuck D\")\n",
    "    if  i in norms_i:\n",
    "        print(i, \"Fuck N\")\n",
    "        \n",
    "\n",
    "\n",
    "        "
   ]
  },
  {
   "cell_type": "code",
   "execution_count": null,
   "id": "c2434a26",
   "metadata": {},
   "outputs": [],
   "source": [
    "\n",
    "\n",
    "\n",
    "\n",
    "fix_demo = dd.concat_dfs(df1=demo, df2=fix, \n",
    "                         subject_ids=demo.SubjID,\n",
    "                         features1=demo.columns[2:], \n",
    "                         features2=fix.columns\n",
    ")\n",
    "\n",
    "\n"
   ]
  },
  {
   "cell_type": "code",
   "execution_count": null,
   "id": "6e7ca1b2",
   "metadata": {},
   "outputs": [],
   "source": [
    "\n",
    "\n",
    "fix_ia = dd.concat_dfs(df1=ia, df2=fix, \n",
    "                         subject_ids=demo.SubjID,\n",
    "                         features1=ia.columns[2:5], \n",
    "                         features2=fix.columns\n",
    ")\n",
    "\n",
    "\n",
    "\n",
    "\n",
    "\n"
   ]
  },
  {
   "cell_type": "code",
   "execution_count": null,
   "id": "a8281fbd",
   "metadata": {},
   "outputs": [],
   "source": [
    "\n",
    "\n",
    "fix.shape[0], fix_demo.shape[0]\n"
   ]
  },
  {
   "cell_type": "code",
   "execution_count": null,
   "id": "6c34f36a",
   "metadata": {},
   "outputs": [],
   "source": [
    "\n",
    "\n"
   ]
  },
  {
   "cell_type": "code",
   "execution_count": null,
   "id": "415bbb00",
   "metadata": {},
   "outputs": [],
   "source": []
  },
  {
   "cell_type": "code",
   "execution_count": null,
   "id": "74111ef9",
   "metadata": {},
   "outputs": [],
   "source": []
  },
  {
   "cell_type": "code",
   "execution_count": null,
   "id": "2e0a6bf2",
   "metadata": {},
   "outputs": [],
   "source": [
    "\n",
    "norms_i.difference(norms_d)\n",
    "\n",
    "\n"
   ]
  },
  {
   "cell_type": "code",
   "execution_count": null,
   "id": "26eeaa6f",
   "metadata": {},
   "outputs": [],
   "source": [
    "\n",
    "norms_d.difference(norms_i)\n",
    "\n",
    "\n"
   ]
  },
  {
   "cell_type": "code",
   "execution_count": null,
   "id": "06ebf7b5",
   "metadata": {},
   "outputs": [],
   "source": [
    "\n",
    "norms_f.difference(norms_d)\n",
    "\n"
   ]
  },
  {
   "cell_type": "code",
   "execution_count": null,
   "id": "b64b786b",
   "metadata": {},
   "outputs": [],
   "source": [
    "\n",
    "\n",
    "from sklearn.model_selection import KFold, TimeSeriesSplit \n",
    "\n",
    "\n",
    "\n"
   ]
  },
  {
   "cell_type": "code",
   "execution_count": null,
   "id": "c02a246d",
   "metadata": {},
   "outputs": [],
   "source": []
  },
  {
   "cell_type": "code",
   "execution_count": null,
   "id": "40341ef8",
   "metadata": {},
   "outputs": [],
   "source": []
  },
  {
   "cell_type": "code",
   "execution_count": null,
   "id": "e00e81ef",
   "metadata": {},
   "outputs": [],
   "source": []
  },
  {
   "cell_type": "code",
   "execution_count": null,
   "id": "379ad003",
   "metadata": {},
   "outputs": [],
   "source": []
  }
 ],
 "metadata": {
  "kernelspec": {
   "display_name": "venv_Jan2022",
   "language": "python",
   "name": "venv_jan2022"
  },
  "language_info": {
   "codemirror_mode": {
    "name": "ipython",
    "version": 3
   },
   "file_extension": ".py",
   "mimetype": "text/x-python",
   "name": "python",
   "nbconvert_exporter": "python",
   "pygments_lexer": "ipython3",
   "version": "3.9.7"
  }
 },
 "nbformat": 4,
 "nbformat_minor": 5
}
