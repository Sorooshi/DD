{
 "cells": [
  {
   "cell_type": "code",
   "execution_count": 1,
   "id": "587852fe",
   "metadata": {},
   "outputs": [],
   "source": [
    "\n",
    "\n",
    "\n",
    "import os\n",
    "import sys\n",
    "import time\n",
    "import numpy as np\n",
    "import pandas as pd\n",
    "import seaborn as sns\n",
    "from pathlib import Path\n",
    "import matplotlib.pyplot as plt \n",
    "from collections import defaultdict \n",
    "\n",
    "\n"
   ]
  },
  {
   "cell_type": "code",
   "execution_count": 2,
   "id": "a38b959d",
   "metadata": {},
   "outputs": [],
   "source": [
    "\n",
    "sys.path.append(\"../\")\n",
    "\n"
   ]
  },
  {
   "cell_type": "code",
   "execution_count": null,
   "id": "7ce24920",
   "metadata": {},
   "outputs": [],
   "source": [
    "\n",
    "\n",
    "from dd_package.data.dyslexia_data import DyslexiaData\n",
    "\n"
   ]
  },
  {
   "cell_type": "code",
   "execution_count": null,
   "id": "e9f7d645",
   "metadata": {},
   "outputs": [],
   "source": [
    "\n",
    "dd = DyslexiaData(path=\"../../datasets/\", )\n",
    "\n",
    "\n",
    "\n",
    "demos = dd.get_demo_datasets()\n",
    "ias = dd.get_ia_datasets()\n",
    "fixs = dd.get_fix_datasets()\n",
    "\n",
    "\n"
   ]
  },
  {
   "cell_type": "code",
   "execution_count": null,
   "id": "9171d483",
   "metadata": {},
   "outputs": [],
   "source": [
    "\n",
    "demo = dd.concat_classes_demo()\n",
    "\n",
    "demo\n",
    "\n"
   ]
  },
  {
   "cell_type": "code",
   "execution_count": null,
   "id": "3be7341e",
   "metadata": {},
   "outputs": [],
   "source": [
    "ia = dd.concat_classes_ia()\n",
    "\n",
    "ia"
   ]
  },
  {
   "cell_type": "code",
   "execution_count": null,
   "id": "41e63ff2",
   "metadata": {},
   "outputs": [],
   "source": [
    "fix = dd.concat_classes_fix()\n",
    "\n",
    "fix\n"
   ]
  },
  {
   "cell_type": "code",
   "execution_count": null,
   "id": "eae62e39",
   "metadata": {},
   "outputs": [],
   "source": [
    "\n",
    "\n",
    "norms_d = set(demos[\"norm\"].SubjectID)\n",
    "risks_d = set(demos[\"risk\"].SubjectID)\n",
    "dyslexics_d = set(demos[\"dyslexia\"].SubjectID)\n",
    "\n",
    "\n",
    "\n",
    "print(len(norms_d), len(risks_d), len(dyslexics_d),\n",
    "      \"Sum =\", len(norms_d)+len(risks_d)+ len(dyslexics_d),\n",
    "     )\n",
    "\n",
    "\n",
    "\n"
   ]
  },
  {
   "cell_type": "code",
   "execution_count": null,
   "id": "515f35d0",
   "metadata": {},
   "outputs": [],
   "source": [
    "\n",
    "\n",
    "\n",
    "\n",
    "norms_f = set(fixs[\"norm\"].SubjectID)\n",
    "risks_f = set(fixs[\"risk\"].SubjectID)\n",
    "dyslexics_f = set(fixs[\"dyslexia\"].SubjectID)\n",
    "\n",
    "\n",
    "\n",
    "print(len(norms_f), len(risks_f), len(dyslexics_f),\n",
    "      \"Sum =\", len(norms_f)+len(risks_f)+ len(dyslexics_f)\n",
    "     )\n",
    "\n",
    "\n",
    "\n",
    "\n",
    "\n"
   ]
  },
  {
   "cell_type": "code",
   "execution_count": null,
   "id": "0ebf059f",
   "metadata": {},
   "outputs": [],
   "source": [
    "\n",
    "\n",
    "\n",
    "\n",
    "\n",
    "norms_i = set(ias[\"norm\"].SubjectID)\n",
    "risks_i = set(ias[\"risk\"].SubjectID)\n",
    "dyslexics_i = set(ias[\"dyslexia\"].SubjectID)\n",
    "\n",
    "\n",
    "\n",
    "print(len(norms_i), len(risks_i), len(dyslexics_i),\n",
    "      \"Sum =\", len(norms_i)+len(risks_i)+ len(dyslexics_i)\n",
    "     )\n",
    "\n",
    "\n",
    "\n",
    "\n"
   ]
  },
  {
   "cell_type": "code",
   "execution_count": null,
   "id": "4b52b86e",
   "metadata": {},
   "outputs": [],
   "source": [
    "\n",
    "\n",
    "norms_d.difference(norms_f)\n"
   ]
  },
  {
   "cell_type": "code",
   "execution_count": null,
   "id": "9132a065",
   "metadata": {},
   "outputs": [],
   "source": [
    "\n",
    "norms_d.difference(norms_i)\n",
    "\n"
   ]
  },
  {
   "cell_type": "code",
   "execution_count": null,
   "id": "76dafb19",
   "metadata": {},
   "outputs": [],
   "source": [
    "\n",
    "norms_i.difference(norms_f)\n",
    "\n"
   ]
  },
  {
   "cell_type": "code",
   "execution_count": null,
   "id": "47033b99",
   "metadata": {},
   "outputs": [],
   "source": [
    "\n",
    "\n",
    "norms_f.difference(norms_d)\n",
    "\n"
   ]
  },
  {
   "cell_type": "code",
   "execution_count": null,
   "id": "718e8deb",
   "metadata": {},
   "outputs": [],
   "source": [
    "\n",
    "\n",
    "norms_i.difference(norms_d)\n",
    "\n"
   ]
  },
  {
   "cell_type": "code",
   "execution_count": null,
   "id": "c2434a26",
   "metadata": {},
   "outputs": [],
   "source": [
    "\n",
    "\n",
    "\n",
    "\n",
    "fix_demo = dd.concat_dfs(demo=demo, df2=fix, \n",
    "                                   subject_ids=demo.SubjectID,\n",
    "                         features1=demo.columns[2:], \n",
    "                                   features2=fix.columns\n",
    "                                  )\n",
    "\n",
    "\n"
   ]
  },
  {
   "cell_type": "code",
   "execution_count": null,
   "id": "b0fd69cf",
   "metadata": {},
   "outputs": [],
   "source": [
    "\n",
    "print(fix_demo.shape)\n",
    "fix_demo.head()\n",
    "\n"
   ]
  },
  {
   "cell_type": "code",
   "execution_count": null,
   "id": "6ae92652",
   "metadata": {},
   "outputs": [],
   "source": [
    "\n",
    "\n",
    "\n",
    "\n",
    "\n",
    "ia_demo = dd.concat_dfs(demo=demo, df2=ia, \n",
    "                                  subject_ids=demo.SubjectID,\n",
    "                                  features1=demo.columns[2:], \n",
    "                                  features2=ia.columns\n",
    "                                 )\n",
    "\n",
    "\n"
   ]
  },
  {
   "cell_type": "code",
   "execution_count": null,
   "id": "f2c0b1d3",
   "metadata": {},
   "outputs": [],
   "source": [
    "\n",
    "print(ia_demo.shape)\n",
    "ia_demo.head()\n",
    "\n",
    "\n"
   ]
  },
  {
   "cell_type": "code",
   "execution_count": null,
   "id": "6e7ca1b2",
   "metadata": {},
   "outputs": [],
   "source": [
    "\n",
    "\n",
    "fix_ia = dd.concat_dfs(demo=ia, df2=fix, \n",
    "                         subject_ids=demo.SubjectID,\n",
    "                         features1=ia.columns[2:5], \n",
    "                         features2=fix.columns\n",
    ")\n",
    "\n",
    "\n",
    "\n",
    "\n",
    "\n"
   ]
  },
  {
   "cell_type": "code",
   "execution_count": null,
   "id": "6c34f36a",
   "metadata": {},
   "outputs": [],
   "source": [
    "\n",
    "fix_ia.head()\n"
   ]
  },
  {
   "cell_type": "code",
   "execution_count": null,
   "id": "415bbb00",
   "metadata": {},
   "outputs": [],
   "source": [
    "\n",
    "\n",
    "import skopt\n"
   ]
  },
  {
   "cell_type": "code",
   "execution_count": null,
   "id": "2a777ae5",
   "metadata": {},
   "outputs": [],
   "source": [
    "\n",
    "print('skopt %s' % skopt.__version__)\n"
   ]
  },
  {
   "cell_type": "code",
   "execution_count": 6,
   "id": "b64b786b",
   "metadata": {},
   "outputs": [],
   "source": [
    "\n",
    "\n",
    "from sklearn.model_selection import KFold, StratifiedKFold, RepeatedStratifiedKFold, TimeSeriesSplit\n",
    "\n"
   ]
  },
  {
   "cell_type": "code",
   "execution_count": 3,
   "id": "c02a246d",
   "metadata": {},
   "outputs": [
    {
     "data": {
      "text/plain": [
       "((21,), (21,))"
      ]
     },
     "execution_count": 3,
     "metadata": {},
     "output_type": "execute_result"
    }
   ],
   "source": [
    "\n",
    "\n",
    "x = np.arange(0, 21)\n",
    "y = [np.repeat(i, 7) for i in range(3)]\n",
    "y = [j for i in y for j in i]\n",
    "y = np.asarray(y)\n",
    "\n",
    "x.shape, y.shape\n",
    "\n",
    "\n"
   ]
  },
  {
   "cell_type": "code",
   "execution_count": null,
   "id": "45bd9df3",
   "metadata": {},
   "outputs": [],
   "source": []
  },
  {
   "cell_type": "code",
   "execution_count": 4,
   "id": "f973468b",
   "metadata": {},
   "outputs": [],
   "source": [
    "\n",
    "n_splits = 3\n",
    "\n",
    "\n"
   ]
  },
  {
   "cell_type": "code",
   "execution_count": null,
   "id": "f7bbb965",
   "metadata": {},
   "outputs": [],
   "source": [
    "\n",
    "\n",
    "kf = KFold(n_splits=n_splits, shuffle=False, random_state=None)\n",
    "\n",
    "\n",
    "for train_idx, test_idx in kf.split(X=x, y=y):\n",
    "    print(\"Train Index:\", train_idx, \"\\n Test Index:\", test_idx)\n",
    "    print(\"\\n ************************************************************************* \\n\")\n",
    "    \n",
    "    \n",
    "    "
   ]
  },
  {
   "cell_type": "code",
   "execution_count": null,
   "id": "d5c19baf",
   "metadata": {},
   "outputs": [],
   "source": [
    "\n",
    "kf = KFold(n_splits=n_splits, shuffle=True, random_state=None)\n",
    "\n",
    "\n",
    "for train_idx, test_idx in kf.split(X=x, y=y):\n",
    "    print(\"Train Index:\", train_idx, \"\\n Test Index:\", test_idx)\n",
    "    print(\"\\n ************************************************************************* \\n\")\n",
    "    \n",
    "    \n",
    "    "
   ]
  },
  {
   "cell_type": "code",
   "execution_count": null,
   "id": "f29e42a2",
   "metadata": {},
   "outputs": [],
   "source": [
    "\n",
    "skf = StratifiedKFold(n_splits=n_splits, shuffle=False, )\n",
    "\n",
    "\n",
    "for train_idx, test_idx in skf.split(X=x, y=y):\n",
    "    print(\"Train Index:\", train_idx, \"Test Index:\", test_idx)\n",
    "    \n",
    "    \n",
    "    \n"
   ]
  },
  {
   "cell_type": "code",
   "execution_count": null,
   "id": "ea266c59",
   "metadata": {},
   "outputs": [],
   "source": [
    "\n",
    "\n",
    "skf = StratifiedKFold(n_splits=n_splits, shuffle=True, )\n",
    "\n",
    "for train_idx, test_idx in skf.split(X=x, y=y):\n",
    "    print(\"Train Index:\", train_idx, \"Test Index:\", test_idx)\n",
    "\n"
   ]
  },
  {
   "cell_type": "code",
   "execution_count": null,
   "id": "df7f8419",
   "metadata": {},
   "outputs": [],
   "source": [
    "\n",
    "\n",
    "\n",
    "\n",
    "tss = TimeSeriesSplit(n_splits=n_splits,  )\n",
    "\n",
    "for train_idx, test_idx in tss.split(X=x, y=y):\n",
    "    print(\"Train Index:\", train_idx, \"Test Index:\", test_idx)\n",
    "\n",
    "\n",
    "    "
   ]
  },
  {
   "cell_type": "code",
   "execution_count": null,
   "id": "82be0ce9",
   "metadata": {},
   "outputs": [],
   "source": []
  },
  {
   "cell_type": "code",
   "execution_count": 7,
   "id": "4b34d0ad",
   "metadata": {},
   "outputs": [
    {
     "name": "stdout",
     "output_type": "stream",
     "text": [
      "Train Index: [ 0  2  4  6  7  8  9 11 12 14 15 16 17 20] Test Index: [ 1  3  5 10 13 18 19]\n",
      "Train Index: [ 1  3  4  5  6  9 10 12 13 14 16 18 19 20] Test Index: [ 0  2  7  8 11 15 17]\n",
      "Train Index: [ 0  1  2  3  5  7  8 10 11 13 15 17 18 19] Test Index: [ 4  6  9 12 14 16 20]\n",
      "Train Index: [ 0  2  4  6  7  8  9 10 12 14 15 16 18 19] Test Index: [ 1  3  5 11 13 17 20]\n",
      "Train Index: [ 0  1  2  3  5  7  8 11 13 16 17 18 19 20] Test Index: [ 4  6  9 10 12 14 15]\n",
      "Train Index: [ 1  3  4  5  6  9 10 11 12 13 14 15 17 20] Test Index: [ 0  2  7  8 16 18 19]\n"
     ]
    }
   ],
   "source": [
    "\n",
    "\n",
    "\n",
    "rskf = RepeatedStratifiedKFold(n_splits=n_splits, n_repeats=2, )\n",
    "cntr = 0\n",
    "for train_idx, test_idx in rskf.split(X=x, y=y):\n",
    "    print(\"Train Index:\", train_idx, \"Test Index:\", test_idx)\n",
    "    cntr += 1\n",
    "\n",
    "\n",
    "\n"
   ]
  },
  {
   "cell_type": "code",
   "execution_count": null,
   "id": "22e01f9b",
   "metadata": {},
   "outputs": [],
   "source": [
    "\n",
    "\n",
    "cntr\n",
    "\n",
    "\n"
   ]
  },
  {
   "cell_type": "code",
   "execution_count": null,
   "id": "555bd7de",
   "metadata": {},
   "outputs": [],
   "source": []
  }
 ],
 "metadata": {
  "kernelspec": {
   "display_name": "venv_Jan2022",
   "language": "python",
   "name": "venv_jan2022"
  },
  "language_info": {
   "codemirror_mode": {
    "name": "ipython",
    "version": 3
   },
   "file_extension": ".py",
   "mimetype": "text/x-python",
   "name": "python",
   "nbconvert_exporter": "python",
   "pygments_lexer": "ipython3",
   "version": "3.9.7"
  }
 },
 "nbformat": 4,
 "nbformat_minor": 5
}
