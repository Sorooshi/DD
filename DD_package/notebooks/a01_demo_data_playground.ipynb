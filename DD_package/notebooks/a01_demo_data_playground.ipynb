{
 "cells": [
  {
   "cell_type": "code",
   "execution_count": 1,
   "metadata": {},
   "outputs": [],
   "source": [
    "\n",
    "import os\n",
    "import sys\n",
    "import time\n",
    "import numpy as np\n",
    "import pandas as pd\n",
    "import seaborn as sns\n",
    "import matplotlib.pyplot as plt \n",
    "from collections import defaultdict \n",
    "\n",
    "\n"
   ]
  },
  {
   "cell_type": "code",
   "execution_count": 2,
   "metadata": {},
   "outputs": [],
   "source": [
    "def remove_missing_data(df):\n",
    "        for col in df.columns:\n",
    "            try:\n",
    "                df[col].replace({\".\": np.nan}, inplace=True)\n",
    "            except Exception as e:\n",
    "                print(e, \"\\n No missing values in\", col)\n",
    "\n",
    "        return df.dropna()\n"
   ]
  },
  {
   "cell_type": "markdown",
   "metadata": {},
   "source": [
    "# Load data"
   ]
  },
  {
   "cell_type": "code",
   "execution_count": 3,
   "metadata": {},
   "outputs": [
    {
     "name": "stdout",
     "output_type": "stream",
     "text": [
      "['dyslexia', 'norm', 'risk']\n"
     ]
    }
   ],
   "source": [
    "\n",
    "# data_sets_xls = pd.ExcelFile(\"../data/Old data/demo_dub_sbj.xlsx\")\n",
    "\n",
    "data_sets_xls = pd.ExcelFile(\"../../datasets/demo.xlsx\")\n",
    "\n",
    "print(data_sets_xls.sheet_names)\n",
    "\n",
    "\n"
   ]
  },
  {
   "cell_type": "code",
   "execution_count": null,
   "metadata": {},
   "outputs": [],
   "source": [
    "\n",
    "    \n",
    "data_sets = defaultdict(list)\n",
    "\n",
    "\n",
    "for sheet in data_sets_xls.sheet_names:\n",
    "    tmp =  pd.read_excel(data_sets_xls, sheet)\n",
    "    tmp = remove_missing_data(df=tmp)\n",
    "    tmp.replace({\"fem\": 1, \"f\": 1, \"masc\": 2, \"m\": 2}, inplace=True)\n",
    "    tmp.replace({\"norm\": 1, \"dyslexia\":2, \"risk\": 3}, inplace=True)\n",
    "    tmp = tmp.astype({\n",
    "        \"Group\": str,\n",
    "        \"SubjectID\": str,\n",
    "        \"Sex\":int, \n",
    "        \"Grade\": int, \n",
    "        \"Age\": int, \n",
    "        \"IQ\": int, \n",
    "        \"Reading_speed\": float,\n",
    "        \"Sound_detection\": float, \n",
    "        \"Sound_change\": float,\n",
    "    })  \n",
    "\n",
    "    data_sets[sheet] = tmp.sort_values(by=[\"SubjectID\"]).dropna()\n",
    "\n",
    "    print(sheet, tmp.shape)\n",
    "\n",
    "    "
   ]
  },
  {
   "cell_type": "code",
   "execution_count": 5,
   "metadata": {},
   "outputs": [],
   "source": [
    "\n",
    "names = [\"Group\", \"SubjectID\", \"Sex\" \"Grade\",  \"Age\", \"IQ\",\n",
    "        \"Reading_speed\", \"Sound_detection\", \n",
    "        \"Sound_change\",]\n",
    "\n",
    "\n"
   ]
  },
  {
   "cell_type": "code",
   "execution_count": 6,
   "metadata": {},
   "outputs": [
    {
     "data": {
      "text/plain": [
       "{'Group': str,\n",
       " 'SubjectID': str,\n",
       " 'Sex': int,\n",
       " 'Grade': int,\n",
       " 'Age': int,\n",
       " 'IQ': int,\n",
       " 'Reading_speed': float,\n",
       " 'Sound_detection': float,\n",
       " 'Sound_change': float}"
      ]
     },
     "execution_count": 6,
     "metadata": {},
     "output_type": "execute_result"
    }
   ],
   "source": [
    "dt = {\n",
    "    \"Group\": str,\n",
    "    \"SubjectID\": str,\n",
    "    \"Sex\":int, \n",
    "    \"Grade\": int, \n",
    "    \"Age\": int, \n",
    "    \"IQ\": int, \n",
    "    \"Reading_speed\": float,\n",
    "    \"Sound_detection\": float, \n",
    "    \"Sound_change\": float,\n",
    "}\n",
    "\n",
    "dt"
   ]
  },
  {
   "cell_type": "code",
   "execution_count": 11,
   "metadata": {},
   "outputs": [
    {
     "name": "stdout",
     "output_type": "stream",
     "text": [
      "Reading sheet dyslexia\n"
     ]
    }
   ],
   "source": [
    "\n",
    "\n",
    "tmp =  pd.read_excel(\n",
    "    io=data_sets_xls, sheet_name=\"dyslexia\", \n",
    "    names=names, usecols=names, dtype=dt, verbose=True,\n",
    "\n",
    ")\n",
    "\n"
   ]
  },
  {
   "cell_type": "code",
   "execution_count": 12,
   "metadata": {},
   "outputs": [
    {
     "data": {
      "text/plain": [
       "0     2\n",
       "1     2\n",
       "2     2\n",
       "3     2\n",
       "4     2\n",
       "     ..\n",
       "67    2\n",
       "68    2\n",
       "69    2\n",
       "70    2\n",
       "71    2\n",
       "Name: Group, Length: 72, dtype: object"
      ]
     },
     "execution_count": 12,
     "metadata": {},
     "output_type": "execute_result"
    }
   ],
   "source": [
    "\n",
    "\n",
    "tmp.\n",
    "\n"
   ]
  },
  {
   "cell_type": "code",
   "execution_count": null,
   "metadata": {},
   "outputs": [],
   "source": []
  },
  {
   "cell_type": "code",
   "execution_count": null,
   "metadata": {},
   "outputs": [],
   "source": []
  },
  {
   "cell_type": "markdown",
   "metadata": {},
   "source": [
    "## Remove the duplicated users from normal data\n"
   ]
  },
  {
   "cell_type": "code",
   "execution_count": null,
   "metadata": {},
   "outputs": [],
   "source": [
    "\n",
    "\n",
    "# duplicated_subjects = {'m29', 'm47', 's163', 's180'}\n",
    "\n",
    "\n",
    "# tmp_norm = data_sets[\"norm\"]\n",
    "\n",
    "# norm_new = tmp_norm.loc[~tmp_norm.SubjID.isin(duplicated_subjects)]\n",
    "\n",
    "\n",
    "# print(norm_new.shape, data_sets[\"norm\"].shape)\n",
    "\n",
    "\n",
    "# data_sets[\"norm\"] = norm_new\n",
    "\n",
    "\n",
    "# data_sets[\"norm\"].shape\n",
    "\n",
    "\n",
    "# with pd.ExcelWriter('../data/demo.xlsx') as writer:\n",
    "#     for k, v in data_sets.items():\n",
    "#         v.to_excel(writer, sheet_name=k, index=False)\n",
    "\n"
   ]
  },
  {
   "cell_type": "markdown",
   "metadata": {},
   "source": [
    "## Remove users without sound_change and sound_detection"
   ]
  },
  {
   "cell_type": "code",
   "execution_count": null,
   "metadata": {},
   "outputs": [],
   "source": [
    "\n",
    "\n",
    "\n",
    "bad_subjects = {'russir25', 'russir28', 'russir29', 'russir32', 'russir37'}\n",
    "\n",
    "all_subjects = set(data.SubjectID)\n",
    "\n",
    "\n",
    "for i in bad_subjects:\n",
    "    if i in all_subjects:\n",
    "        print(i, \"Should be removed!\")"
   ]
  },
  {
   "cell_type": "code",
   "execution_count": null,
   "metadata": {},
   "outputs": [],
   "source": []
  },
  {
   "cell_type": "code",
   "execution_count": null,
   "metadata": {},
   "outputs": [],
   "source": [
    "data_sets[\"norm\"].head()"
   ]
  },
  {
   "cell_type": "code",
   "execution_count": null,
   "metadata": {},
   "outputs": [],
   "source": [
    "data_sets[\"dyslexia\"].head()"
   ]
  },
  {
   "cell_type": "code",
   "execution_count": null,
   "metadata": {},
   "outputs": [],
   "source": [
    "data_sets[\"risk\"].head()"
   ]
  },
  {
   "cell_type": "code",
   "execution_count": null,
   "metadata": {},
   "outputs": [],
   "source": [
    "data_dyslexia_cols = data_sets[\"dyslexia\"].columns\n",
    "data_norm_cols = data_sets[\"norm\"].columns\n",
    "data_risk_cols = data_sets[\"risk\"].columns\n"
   ]
  },
  {
   "cell_type": "code",
   "execution_count": null,
   "metadata": {},
   "outputs": [],
   "source": [
    "set(data_dyslexia_cols == data_norm_cols)"
   ]
  },
  {
   "cell_type": "code",
   "execution_count": null,
   "metadata": {},
   "outputs": [],
   "source": [
    "set(data_norm_cols ==  data_risk_cols)"
   ]
  },
  {
   "cell_type": "code",
   "execution_count": null,
   "metadata": {},
   "outputs": [],
   "source": [
    "\n",
    "data = pd.concat([v for k, v in data_sets.items()], axis=0)\n",
    "data.shape\n",
    "\n"
   ]
  },
  {
   "cell_type": "code",
   "execution_count": null,
   "metadata": {},
   "outputs": [],
   "source": [
    "data.head()"
   ]
  },
  {
   "cell_type": "code",
   "execution_count": null,
   "metadata": {},
   "outputs": [],
   "source": [
    "data.columns == data_dyslexia_cols"
   ]
  },
  {
   "cell_type": "code",
   "execution_count": null,
   "metadata": {},
   "outputs": [],
   "source": [
    "\n",
    "# pd.get_dummies(data, columns=[\"Sex\"])\n",
    "\n"
   ]
  },
  {
   "cell_type": "code",
   "execution_count": null,
   "metadata": {},
   "outputs": [],
   "source": [
    "# dyslexia = data.loc[data[\"Group\"]==\"dyslexia\"]\n",
    "\n",
    "# dyslexia = data_sets[\"dyslexia\"]"
   ]
  },
  {
   "cell_type": "code",
   "execution_count": null,
   "metadata": {},
   "outputs": [],
   "source": []
  },
  {
   "cell_type": "code",
   "execution_count": null,
   "metadata": {},
   "outputs": [],
   "source": [
    "def plot_pies(data, col, labels):\n",
    "    \n",
    "    fig = plt.figure(figsize=(19, 13))\n",
    "\n",
    "    ctr = 1\n",
    "    for k, v in data.items():\n",
    "\n",
    "        ax = fig.add_subplot(1, 3, ctr)  # three datasets\n",
    "        x = [len(v[col].loc[v[col]==f]) for f in set(v[col])]\n",
    "        if not labels:\n",
    "            labels = set(v[col])\n",
    "            patches, texts, autotexts = ax.pie(x=x, \n",
    "                                               labels=labels,\n",
    "                                               autopct='%.2f', \n",
    "                                               textprops={'fontsize': 14},\n",
    "                                              )\n",
    "            labels = None\n",
    "        else:   \n",
    "            patches, texts, autotexts = ax.pie(x=x, \n",
    "                                               labels=labels, \n",
    "                                               autopct='%.2f', \n",
    "                                               textprops={'fontsize': 14}\n",
    "                                              )\n",
    "            \n",
    "        plt.title(k, fontsize=20)\n",
    "        ctr += 1\n",
    "    plt.show()\n",
    "\n",
    "\n",
    "    return None\n",
    "    "
   ]
  },
  {
   "cell_type": "code",
   "execution_count": null,
   "metadata": {},
   "outputs": [],
   "source": [
    "\n",
    "# Gender percentage: \n",
    "plot_pies(data=data_sets, col=\"Sex\", labels=[\"Female\", \"Male\"])\n",
    "\n",
    "\n"
   ]
  },
  {
   "cell_type": "markdown",
   "metadata": {},
   "source": [
    "\n",
    "- the majority of participants are male, and the situation becomes more extreme in the at-risk dataset.\n",
    "\n",
    "\n"
   ]
  },
  {
   "cell_type": "code",
   "execution_count": null,
   "metadata": {},
   "outputs": [],
   "source": [
    "\n",
    "# Grages percentage:\n",
    "plot_pies(data=data_sets, col=\"Grade\", labels=None)\n",
    "\n"
   ]
  },
  {
   "cell_type": "markdown",
   "metadata": {},
   "source": [
    "\n",
    "- Except for the normal dataset, the distribution of participants' grades is relatively imbalanced. \n",
    "\n",
    "    - This imbalanced representation may lead to a wrong correlation between the target values and the grades.\n",
    "    \n",
    "    "
   ]
  },
  {
   "cell_type": "code",
   "execution_count": null,
   "metadata": {
    "scrolled": false
   },
   "outputs": [],
   "source": [
    "\n",
    "# Dyslexia pairplots:\n",
    "sns.pairplot(data=data_sets[\"dyslexia\"], )\n",
    "plt.show()\n",
    "    \n",
    "    \n"
   ]
  },
  {
   "cell_type": "markdown",
   "metadata": {},
   "source": [
    "\n",
    "\n",
    "- No **meaning-full** linear correlation between any features (age & grade)\n",
    "\n",
    "- features distribution could be important \n",
    "\n",
    "- note the relation between grade and reading_speed, specially the wide range for grade 4.\n",
    "\n",
    "- no such clear cut relation between grade and sound change as we observe in normal "
   ]
  },
  {
   "cell_type": "code",
   "execution_count": null,
   "metadata": {
    "scrolled": false
   },
   "outputs": [],
   "source": [
    "\n",
    "# Normal data pair-plots\n",
    "sns.pairplot(data=data_sets[\"norm\"], )\n",
    "plt.show()\n",
    "\n"
   ]
  },
  {
   "cell_type": "markdown",
   "metadata": {},
   "source": [
    "\n",
    "\n",
    "- No **meaning-full** linear correlation between any features (age & grade)\n",
    "\n",
    "- Features distribution could be important \n",
    "\n",
    "- The higher the grade larger the sound change (unlike dyslexix) \n"
   ]
  },
  {
   "cell_type": "code",
   "execution_count": null,
   "metadata": {
    "scrolled": false
   },
   "outputs": [],
   "source": [
    "\n",
    "\n",
    "sns.pairplot(data=data_sets[\"risk\"], )\n",
    "plt.show()\n",
    "\n"
   ]
  },
  {
   "cell_type": "markdown",
   "metadata": {},
   "source": [
    "\n",
    "\n",
    "- No **meaning-full** linear correlation between any features (age & grade)\n",
    "\n",
    "- features distribution could be important \n",
    "\n",
    "\n"
   ]
  },
  {
   "cell_type": "code",
   "execution_count": null,
   "metadata": {},
   "outputs": [],
   "source": []
  },
  {
   "cell_type": "code",
   "execution_count": null,
   "metadata": {},
   "outputs": [],
   "source": []
  },
  {
   "cell_type": "code",
   "execution_count": null,
   "metadata": {},
   "outputs": [],
   "source": []
  },
  {
   "cell_type": "code",
   "execution_count": null,
   "metadata": {},
   "outputs": [],
   "source": [
    "\n",
    "\n"
   ]
  },
  {
   "cell_type": "code",
   "execution_count": null,
   "metadata": {},
   "outputs": [],
   "source": []
  },
  {
   "cell_type": "code",
   "execution_count": null,
   "metadata": {},
   "outputs": [],
   "source": []
  },
  {
   "cell_type": "code",
   "execution_count": null,
   "metadata": {},
   "outputs": [],
   "source": []
  },
  {
   "cell_type": "code",
   "execution_count": null,
   "metadata": {},
   "outputs": [],
   "source": []
  }
 ],
 "metadata": {
  "kernelspec": {
   "display_name": "venv_Jan2022",
   "language": "python",
   "name": "venv_jan2022"
  },
  "language_info": {
   "codemirror_mode": {
    "name": "ipython",
    "version": 3
   },
   "file_extension": ".py",
   "mimetype": "text/x-python",
   "name": "python",
   "nbconvert_exporter": "python",
   "pygments_lexer": "ipython3",
   "version": "3.9.7"
  }
 },
 "nbformat": 4,
 "nbformat_minor": 2
}
