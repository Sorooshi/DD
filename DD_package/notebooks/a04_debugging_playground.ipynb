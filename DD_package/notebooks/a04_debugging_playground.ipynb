{
 "cells": [
  {
   "cell_type": "code",
   "execution_count": 8,
   "id": "587852fe",
   "metadata": {},
   "outputs": [],
   "source": [
    "\n",
    "\n",
    "\n",
    "import os\n",
    "import sys\n",
    "import time\n",
    "import numpy as np\n",
    "import pandas as pd\n",
    "import seaborn as sns\n",
    "from pathlib import Path\n",
    "import matplotlib.pyplot as plt \n",
    "from collections import defaultdict \n",
    "from types import SimpleNamespace\n",
    "\n",
    "\n"
   ]
  },
  {
   "cell_type": "code",
   "execution_count": null,
   "id": "fc0b3ba2",
   "metadata": {},
   "outputs": [],
   "source": []
  },
  {
   "cell_type": "code",
   "execution_count": 9,
   "id": "a38b959d",
   "metadata": {},
   "outputs": [],
   "source": [
    "\n",
    "sys.path.append(\"../\")\n",
    "\n",
    "from dd_package.data.dyslexia_data import DyslexiaData\n",
    "from dd_package.data.preprocess import preprocess_data\n",
    "\n",
    "from dd_package.models.regression_estimators import RegressionEstimators\n",
    "from dd_package.models.classification_estimators import ClassificationEstimators\n",
    "\n",
    "from dd_package.common.utils import save_a_dict, load_a_dict, print_the_evaluated_results\n",
    "\n",
    "\n"
   ]
  },
  {
   "cell_type": "code",
   "execution_count": 11,
   "id": "2e2ad6d2",
   "metadata": {},
   "outputs": [],
   "source": [
    "tmp = load_a_dict(name=\"dd_ia_demo_phono-rf_reg--shuffled:True--exclude at risk:0\", \n",
    "                  save_path=\"../../Results/\")\n",
    "\n"
   ]
  },
  {
   "cell_type": "code",
   "execution_count": 12,
   "id": "fd29da4b",
   "metadata": {},
   "outputs": [
    {
     "name": "stdout",
     "output_type": "stream",
     "text": [
      "   mae     rmse  \t mrae \t r2_score  \t meape  \t jsd \n",
      " Ave   std  Ave   std   Ave   std   Ave   std   Ave   std   Ave   std \n",
      "0.426 0.033 1.814 0.284 0.006 0.000 0.997 0.001 0.049 0.018 0.008 0.001\n"
     ]
    }
   ],
   "source": [
    "print_the_evaluated_results(results=tmp, learning_method=\"regression\")\n",
    "\n"
   ]
  },
  {
   "cell_type": "code",
   "execution_count": 10,
   "id": "d43eb2d2",
   "metadata": {},
   "outputs": [],
   "source": [
    "\n",
    "\n",
    "configs = {\n",
    "    \"models_path\": Path(\"/home/soroosh/Programmes/DD/Models\"),\n",
    "    \"results_path\": Path(\"/home/soroosh/Programmes/DD/Results\"),\n",
    "    \"figures_path\": Path(\"/home/soroosh/Programmes/DD/Figures\"),\n",
    "    \"params_path\": Path(\"/home/soroosh/Programmes/DD//Params\"),\n",
    "    \"n_repeats\": 10,\n",
    "    \"n_splits\": 5,\n",
    "}\n",
    "\n",
    "configs = SimpleNamespace(**configs)\n",
    "\n",
    "estimator_name = \"SV_cls\"\n",
    "data_name = \"DD_demo\"\n",
    "to_shuffle = True\n",
    "learning_method = \"classification\"\n",
    "\n",
    "specifier = data_name+\"-\"+estimator_name+\"-\"+str(to_shuffle)\n",
    "configs.specifier = specifier\n",
    "configs.data_name = data_name\n",
    "configs.name_wb = data_name+\": \"+specifier\n",
    "configs.learning_method = learning_method\n",
    "# configs.project = \"DD_test\"\n",
    "# configs.group = \"debug\"\n",
    "\n",
    "\n"
   ]
  },
  {
   "cell_type": "code",
   "execution_count": 11,
   "id": "ea3abe01",
   "metadata": {},
   "outputs": [],
   "source": [
    "\n",
    "# res = load_a_dict(name=\"dd_demo-l_cls--shuffled:True--exclude at risk:0\",\n",
    "#                   save_path=\"/home/soroosh/Programmes/DD/Results/\")\n",
    "\n",
    "\n",
    "# print_the_evaluated_results(results=res, learning_method=\"classification\")\n",
    "\n",
    "\n",
    "# for k, v in res.items():\n",
    "#     print(\"k:\", k)\n",
    "#     print(\"y_true:\", v[\"y_test\"])\n",
    "#     print(\"y_pred:\", v[\"y_pred\"])\n",
    "#     print(\" \")\n",
    "    \n"
   ]
  },
  {
   "cell_type": "code",
   "execution_count": 12,
   "id": "ff7f6503",
   "metadata": {},
   "outputs": [],
   "source": [
    "\n",
    "# from sklearn.preprocessing import OneHotEncoder\n",
    "\n",
    "# enc = OneHotEncoder(sparse=False)\n",
    "# y_true_ = v[\"y_test\"].reshape(-1, 1)\n",
    "# y_true_ = enc.fit_transform(y_true_)\n",
    "\n"
   ]
  },
  {
   "cell_type": "code",
   "execution_count": 13,
   "id": "e9f7d645",
   "metadata": {},
   "outputs": [
    {
     "name": "stdout",
     "output_type": "stream",
     "text": [
      "Loading Demo data: \n",
      "  dyslexia (72, 9)\n",
      "  norm (213, 9)\n",
      "  risk (22, 9)\n",
      " \n",
      "Loading IA_report data: \n",
      "  dyslexia (12641, 17)\n",
      "  norm (38075, 17)\n",
      "  risk (4148, 17)\n",
      " \n",
      "Loading Fixation report data:\n",
      "  dyslexia (59770, 7)\n",
      "  norm (139507, 7)\n",
      "  risk (26073, 7)\n",
      " \n"
     ]
    }
   ],
   "source": [
    "\n",
    "dd = DyslexiaData(path=\"../../datasets/\", n_repeats=5)\n",
    "\n",
    "\n",
    "\n",
    "demos = dd.get_demo_datasets()\n",
    "ias = dd.get_ia_datasets()\n",
    "fixs = dd.get_fix_datasets()\n",
    "\n",
    "\n"
   ]
  },
  {
   "cell_type": "code",
   "execution_count": null,
   "id": "713e32f0",
   "metadata": {},
   "outputs": [],
   "source": []
  },
  {
   "cell_type": "code",
   "execution_count": null,
   "id": "9171d483",
   "metadata": {},
   "outputs": [],
   "source": [
    "\n",
    "demo = dd.concat_classes_demo()  # .reset_index(drop=True)\n",
    "\n",
    "demo\n",
    "\n"
   ]
  },
  {
   "cell_type": "code",
   "execution_count": null,
   "id": "d19019f7",
   "metadata": {},
   "outputs": [],
   "source": [
    "\n",
    "\n",
    "# demo = demo.loc[demo.Group!=2]\n",
    "\n",
    "# demo\n",
    "\n"
   ]
  },
  {
   "cell_type": "code",
   "execution_count": null,
   "id": "d4a155fd",
   "metadata": {},
   "outputs": [],
   "source": [
    "\n"
   ]
  },
  {
   "cell_type": "code",
   "execution_count": 4,
   "id": "3560a5a0",
   "metadata": {},
   "outputs": [],
   "source": []
  },
  {
   "cell_type": "code",
   "execution_count": null,
   "id": "3be7341e",
   "metadata": {},
   "outputs": [],
   "source": [
    "\n",
    "# ia = dd.concat_classes_ia()  # .reset_index(drop=True)\n",
    "\n",
    "# ia\n",
    "\n"
   ]
  },
  {
   "cell_type": "code",
   "execution_count": null,
   "id": "41e63ff2",
   "metadata": {},
   "outputs": [],
   "source": [
    "\n",
    "\n",
    "# fix = dd.concat_classes_fix()  # .reset_index(drop=True)\n",
    "\n",
    "# fix\n",
    "\n",
    "\n"
   ]
  },
  {
   "cell_type": "code",
   "execution_count": null,
   "id": "459f3b72",
   "metadata": {
    "scrolled": false
   },
   "outputs": [],
   "source": [
    "\n",
    "\n",
    "\n",
    "\n",
    "# fix_demo = dd.concat_dfs(df1=fix,  \n",
    "#                          df2=demo,\n",
    "#                          features1=fix.columns, \n",
    "#                          features2=demo.columns[2:],\n",
    "#                         )\n",
    "\n",
    "\n",
    "\n",
    "# fix_demo\n",
    "\n",
    "\n",
    "\n"
   ]
  },
  {
   "cell_type": "code",
   "execution_count": null,
   "id": "6ae92652",
   "metadata": {},
   "outputs": [],
   "source": [
    "\n",
    "\n",
    "\n",
    "\n",
    "# ia_demo = dd.concat_dfs(df1=ia,  \n",
    "#                         df2=demo,\n",
    "#                         features1=ia.columns, \n",
    "#                         features2=demo.columns[2:],\n",
    "#                         )\n",
    "\n",
    "# ia_demo\n",
    "\n",
    "\n"
   ]
  },
  {
   "cell_type": "code",
   "execution_count": null,
   "id": "55379d2e",
   "metadata": {},
   "outputs": [],
   "source": [
    "\n",
    "\n",
    "x_org, y_org = dd.get_onehot_features_targets(\n",
    "        data=demo,\n",
    "        c_features= [\"Sex\", \"Grade\", ],  # \n",
    "        indicators=[\"SubjectID\"],\n",
    "    )\n"
   ]
  },
  {
   "cell_type": "code",
   "execution_count": null,
   "id": "19360866",
   "metadata": {},
   "outputs": [],
   "source": [
    "\n",
    "\n",
    "x = preprocess_data(x=x_org, pp='mm')  # only x is standardized\n",
    "\n"
   ]
  },
  {
   "cell_type": "code",
   "execution_count": null,
   "id": "f0eae56b",
   "metadata": {},
   "outputs": [],
   "source": [
    "\n",
    "cv = dd.get_stratified_kfold_cv(\n",
    "    to_shuffle=to_shuffle,\n",
    "    n_splits=configs.n_splits,\n",
    ")\n",
    "\n"
   ]
  },
  {
   "cell_type": "code",
   "execution_count": null,
   "id": "00c09e88",
   "metadata": {},
   "outputs": [],
   "source": [
    "\n",
    "\n",
    "y = y_org.Group.values\n",
    "\n",
    "\n",
    "# y = preprocess_data(x=y, pp='mm')  # only x is standardized\n"
   ]
  },
  {
   "cell_type": "code",
   "execution_count": null,
   "id": "29dd94af",
   "metadata": {},
   "outputs": [],
   "source": [
    "\n",
    "\n",
    "data = dd.get_stratified_train_test_splits(\n",
    "    x=x, y=y,\n",
    "    labels=y_org.Group.values,\n",
    "    to_shuffle=to_shuffle,\n",
    "    n_splits=configs.n_repeats\n",
    ")\n",
    "\n"
   ]
  },
  {
   "cell_type": "code",
   "execution_count": null,
   "id": "e897d8e7",
   "metadata": {},
   "outputs": [],
   "source": [
    "\n",
    "\n",
    "reg_est = ClassificationEstimators(\n",
    "    x=x, y=y, cv=cv, data=data,\n",
    "    estimator_name=estimator_name,\n",
    "    configs=configs,\n",
    ")\n",
    "\n",
    "\n"
   ]
  },
  {
   "cell_type": "code",
   "execution_count": null,
   "id": "5b51cb1b",
   "metadata": {},
   "outputs": [],
   "source": []
  },
  {
   "cell_type": "code",
   "execution_count": null,
   "id": "fc374aee",
   "metadata": {},
   "outputs": [],
   "source": [
    "\n",
    "\n",
    "reg_est.instantiate_tuning_estimator_and_parameters()\n",
    "\n"
   ]
  },
  {
   "cell_type": "code",
   "execution_count": null,
   "id": "80c1de32",
   "metadata": {},
   "outputs": [],
   "source": [
    "\n",
    "\n",
    "reg_est.tune_hyper_parameters()\n",
    "\n",
    "\n",
    "\n"
   ]
  },
  {
   "cell_type": "code",
   "execution_count": null,
   "id": "92c5646c",
   "metadata": {},
   "outputs": [],
   "source": [
    "\n",
    "\n",
    "reg_est.instantiate_train_test_estimator()\n",
    "\n",
    "\n"
   ]
  },
  {
   "cell_type": "code",
   "execution_count": null,
   "id": "55dc2992",
   "metadata": {},
   "outputs": [],
   "source": [
    "\n",
    "reg_est.train_test_tuned_estimator()\n",
    "\n",
    "\n",
    "\n"
   ]
  },
  {
   "cell_type": "code",
   "execution_count": null,
   "id": "84613055",
   "metadata": {},
   "outputs": [],
   "source": []
  },
  {
   "cell_type": "code",
   "execution_count": null,
   "id": "10f4ba40",
   "metadata": {},
   "outputs": [],
   "source": [
    "\n",
    "# reg_est.save_params_results()\n",
    "\n",
    "\n"
   ]
  },
  {
   "cell_type": "code",
   "execution_count": null,
   "id": "6df34305",
   "metadata": {},
   "outputs": [],
   "source": [
    "\n",
    "reg_est.print_results()\n",
    "\n",
    "\n"
   ]
  },
  {
   "cell_type": "code",
   "execution_count": null,
   "id": "dd5efa74",
   "metadata": {},
   "outputs": [],
   "source": [
    "\n",
    "\n"
   ]
  },
  {
   "cell_type": "code",
   "execution_count": null,
   "id": "c0723825",
   "metadata": {},
   "outputs": [],
   "source": [
    "\n",
    "\n",
    "\n",
    "res = load_a_dict(name=\"DD_demo-L_cls-True_TEST\",\n",
    "                  save_path=\"/home/soroosh/Programmes/DD/Results/\")\n",
    "\n",
    "\n",
    "print_the_evaluated_results(results=res, learning_method=\"classification\")\n"
   ]
  },
  {
   "cell_type": "code",
   "execution_count": null,
   "id": "ad8a13c3",
   "metadata": {},
   "outputs": [],
   "source": [
    "\n",
    "\n",
    "for k, v in res.items():\n",
    "    print(\"probs:\", v[\"y_pred_prob\"])\n",
    "    "
   ]
  },
  {
   "cell_type": "code",
   "execution_count": null,
   "id": "21494360",
   "metadata": {},
   "outputs": [],
   "source": []
  },
  {
   "cell_type": "code",
   "execution_count": 15,
   "id": "bc5b7f20",
   "metadata": {},
   "outputs": [],
   "source": []
  },
  {
   "cell_type": "code",
   "execution_count": 16,
   "id": "a4404936",
   "metadata": {},
   "outputs": [
    {
     "name": "stdout",
     "output_type": "stream",
     "text": [
      "Loading Demo data: \n",
      "  dyslexia (72, 9)\n",
      "  norm (213, 9)\n",
      "  risk (22, 9)\n",
      " \n"
     ]
    }
   ],
   "source": [
    "to_exclude_at_risk = False\n",
    "\n",
    "# dict of dicts, s.t each dict contains pd.df of a class, e.g normal\n",
    "_ = dd.get_demo_datasets()  # demos and phonological (which is initially part of demo)\n",
    "demo_phono = dd.concat_classes_demo()\n",
    "\n",
    "# The optimize way to exclude at-risk class\n",
    "if to_exclude_at_risk == 1:\n",
    "    to_exclude_at_risk = True\n",
    "    demo_phono = demo_phono.loc[demo_phono.Group != 2]\n",
    "\n",
    "df_data_to_use = demo_phono.loc[:, [\n",
    "                                       'Group', 'SubjectID', 'Sound_detection', 'Sound_change', 'Reading_speed'\n",
    "                                   ]]\n",
    "c_features = None\n",
    "indicators = ['SubjectID', ]\n",
    "targets = [\"Group\", \"Reading_speed\", ]"
   ]
  },
  {
   "cell_type": "code",
   "execution_count": 17,
   "id": "99e68f60",
   "metadata": {},
   "outputs": [
    {
     "data": {
      "text/html": [
       "<div>\n",
       "<style scoped>\n",
       "    .dataframe tbody tr th:only-of-type {\n",
       "        vertical-align: middle;\n",
       "    }\n",
       "\n",
       "    .dataframe tbody tr th {\n",
       "        vertical-align: top;\n",
       "    }\n",
       "\n",
       "    .dataframe thead th {\n",
       "        text-align: right;\n",
       "    }\n",
       "</style>\n",
       "<table border=\"1\" class=\"dataframe\">\n",
       "  <thead>\n",
       "    <tr style=\"text-align: right;\">\n",
       "      <th></th>\n",
       "      <th>Group</th>\n",
       "      <th>SubjectID</th>\n",
       "      <th>Sound_detection</th>\n",
       "      <th>Sound_change</th>\n",
       "      <th>Reading_speed</th>\n",
       "    </tr>\n",
       "  </thead>\n",
       "  <tbody>\n",
       "    <tr>\n",
       "      <th>0</th>\n",
       "      <td>1</td>\n",
       "      <td>10</td>\n",
       "      <td>0.620000</td>\n",
       "      <td>0.910000</td>\n",
       "      <td>102.0</td>\n",
       "    </tr>\n",
       "    <tr>\n",
       "      <th>1</th>\n",
       "      <td>1</td>\n",
       "      <td>108</td>\n",
       "      <td>1.000000</td>\n",
       "      <td>0.950000</td>\n",
       "      <td>139.0</td>\n",
       "    </tr>\n",
       "    <tr>\n",
       "      <th>2</th>\n",
       "      <td>1</td>\n",
       "      <td>11</td>\n",
       "      <td>1.000000</td>\n",
       "      <td>0.790000</td>\n",
       "      <td>110.0</td>\n",
       "    </tr>\n",
       "    <tr>\n",
       "      <th>3</th>\n",
       "      <td>1</td>\n",
       "      <td>11_norm1</td>\n",
       "      <td>0.950000</td>\n",
       "      <td>0.910000</td>\n",
       "      <td>71.0</td>\n",
       "    </tr>\n",
       "    <tr>\n",
       "      <th>4</th>\n",
       "      <td>1</td>\n",
       "      <td>12_norm1</td>\n",
       "      <td>0.950000</td>\n",
       "      <td>0.620000</td>\n",
       "      <td>60.0</td>\n",
       "    </tr>\n",
       "    <tr>\n",
       "      <th>...</th>\n",
       "      <td>...</td>\n",
       "      <td>...</td>\n",
       "      <td>...</td>\n",
       "      <td>...</td>\n",
       "      <td>...</td>\n",
       "    </tr>\n",
       "    <tr>\n",
       "      <th>212</th>\n",
       "      <td>1</td>\n",
       "      <td>varya_norm1</td>\n",
       "      <td>1.000000</td>\n",
       "      <td>0.920000</td>\n",
       "      <td>56.0</td>\n",
       "    </tr>\n",
       "    <tr>\n",
       "      <th>68</th>\n",
       "      <td>3</td>\n",
       "      <td>vpa21</td>\n",
       "      <td>0.916667</td>\n",
       "      <td>0.916667</td>\n",
       "      <td>22.0</td>\n",
       "    </tr>\n",
       "    <tr>\n",
       "      <th>69</th>\n",
       "      <td>3</td>\n",
       "      <td>yea20</td>\n",
       "      <td>0.875000</td>\n",
       "      <td>0.500000</td>\n",
       "      <td>20.0</td>\n",
       "    </tr>\n",
       "    <tr>\n",
       "      <th>70</th>\n",
       "      <td>3</td>\n",
       "      <td>zaa15</td>\n",
       "      <td>0.958333</td>\n",
       "      <td>0.916667</td>\n",
       "      <td>78.0</td>\n",
       "    </tr>\n",
       "    <tr>\n",
       "      <th>71</th>\n",
       "      <td>3</td>\n",
       "      <td>zrs09</td>\n",
       "      <td>0.956522</td>\n",
       "      <td>0.875000</td>\n",
       "      <td>97.0</td>\n",
       "    </tr>\n",
       "  </tbody>\n",
       "</table>\n",
       "<p>307 rows × 5 columns</p>\n",
       "</div>"
      ],
      "text/plain": [
       "     Group    SubjectID  Sound_detection  Sound_change  Reading_speed\n",
       "0        1           10         0.620000      0.910000          102.0\n",
       "1        1          108         1.000000      0.950000          139.0\n",
       "2        1           11         1.000000      0.790000          110.0\n",
       "3        1     11_norm1         0.950000      0.910000           71.0\n",
       "4        1     12_norm1         0.950000      0.620000           60.0\n",
       "..     ...          ...              ...           ...            ...\n",
       "212      1  varya_norm1         1.000000      0.920000           56.0\n",
       "68       3        vpa21         0.916667      0.916667           22.0\n",
       "69       3        yea20         0.875000      0.500000           20.0\n",
       "70       3        zaa15         0.958333      0.916667           78.0\n",
       "71       3        zrs09         0.956522      0.875000           97.0\n",
       "\n",
       "[307 rows x 5 columns]"
      ]
     },
     "execution_count": 17,
     "metadata": {},
     "output_type": "execute_result"
    }
   ],
   "source": [
    "df_data_to_use"
   ]
  },
  {
   "cell_type": "code",
   "execution_count": 18,
   "id": "bebccb7c",
   "metadata": {},
   "outputs": [
    {
     "name": "stdout",
     "output_type": "stream",
     "text": [
      "Loading Demo data: \n",
      "  dyslexia (72, 9)\n",
      "  norm (213, 9)\n",
      "  risk (22, 9)\n",
      " \n"
     ]
    }
   ],
   "source": [
    "to_exclude_at_risk = True\n",
    "\n",
    "# dict of dicts, s.t each dict contains pd.df of a class, e.g normal\n",
    "_ = dd.get_demo_datasets()  # demos and phonological (which is initially part of demo)\n",
    "demo_phono = dd.concat_classes_demo()\n",
    "\n",
    "# The optimize way to exclude at-risk class\n",
    "if to_exclude_at_risk == 1:\n",
    "    to_exclude_at_risk = True\n",
    "    demo_phono = demo_phono.loc[demo_phono.Group != 2]\n",
    "\n",
    "df_data_to_use = demo_phono.loc[:, [\n",
    "                                       'Group', 'SubjectID', 'Sound_detection', 'Sound_change', 'Reading_speed'\n",
    "                                   ]]\n",
    "c_features = None\n",
    "indicators = ['SubjectID', ]\n",
    "targets = [\"Group\", \"Reading_speed\", ]"
   ]
  },
  {
   "cell_type": "code",
   "execution_count": 19,
   "id": "9ef94ca8",
   "metadata": {},
   "outputs": [
    {
     "data": {
      "text/html": [
       "<div>\n",
       "<style scoped>\n",
       "    .dataframe tbody tr th:only-of-type {\n",
       "        vertical-align: middle;\n",
       "    }\n",
       "\n",
       "    .dataframe tbody tr th {\n",
       "        vertical-align: top;\n",
       "    }\n",
       "\n",
       "    .dataframe thead th {\n",
       "        text-align: right;\n",
       "    }\n",
       "</style>\n",
       "<table border=\"1\" class=\"dataframe\">\n",
       "  <thead>\n",
       "    <tr style=\"text-align: right;\">\n",
       "      <th></th>\n",
       "      <th>Group</th>\n",
       "      <th>SubjectID</th>\n",
       "      <th>Sound_detection</th>\n",
       "      <th>Sound_change</th>\n",
       "      <th>Reading_speed</th>\n",
       "    </tr>\n",
       "  </thead>\n",
       "  <tbody>\n",
       "    <tr>\n",
       "      <th>0</th>\n",
       "      <td>1</td>\n",
       "      <td>10</td>\n",
       "      <td>0.620000</td>\n",
       "      <td>0.910000</td>\n",
       "      <td>102.0</td>\n",
       "    </tr>\n",
       "    <tr>\n",
       "      <th>1</th>\n",
       "      <td>1</td>\n",
       "      <td>108</td>\n",
       "      <td>1.000000</td>\n",
       "      <td>0.950000</td>\n",
       "      <td>139.0</td>\n",
       "    </tr>\n",
       "    <tr>\n",
       "      <th>2</th>\n",
       "      <td>1</td>\n",
       "      <td>11</td>\n",
       "      <td>1.000000</td>\n",
       "      <td>0.790000</td>\n",
       "      <td>110.0</td>\n",
       "    </tr>\n",
       "    <tr>\n",
       "      <th>3</th>\n",
       "      <td>1</td>\n",
       "      <td>11_norm1</td>\n",
       "      <td>0.950000</td>\n",
       "      <td>0.910000</td>\n",
       "      <td>71.0</td>\n",
       "    </tr>\n",
       "    <tr>\n",
       "      <th>4</th>\n",
       "      <td>1</td>\n",
       "      <td>12_norm1</td>\n",
       "      <td>0.950000</td>\n",
       "      <td>0.620000</td>\n",
       "      <td>60.0</td>\n",
       "    </tr>\n",
       "    <tr>\n",
       "      <th>...</th>\n",
       "      <td>...</td>\n",
       "      <td>...</td>\n",
       "      <td>...</td>\n",
       "      <td>...</td>\n",
       "      <td>...</td>\n",
       "    </tr>\n",
       "    <tr>\n",
       "      <th>212</th>\n",
       "      <td>1</td>\n",
       "      <td>varya_norm1</td>\n",
       "      <td>1.000000</td>\n",
       "      <td>0.920000</td>\n",
       "      <td>56.0</td>\n",
       "    </tr>\n",
       "    <tr>\n",
       "      <th>68</th>\n",
       "      <td>3</td>\n",
       "      <td>vpa21</td>\n",
       "      <td>0.916667</td>\n",
       "      <td>0.916667</td>\n",
       "      <td>22.0</td>\n",
       "    </tr>\n",
       "    <tr>\n",
       "      <th>69</th>\n",
       "      <td>3</td>\n",
       "      <td>yea20</td>\n",
       "      <td>0.875000</td>\n",
       "      <td>0.500000</td>\n",
       "      <td>20.0</td>\n",
       "    </tr>\n",
       "    <tr>\n",
       "      <th>70</th>\n",
       "      <td>3</td>\n",
       "      <td>zaa15</td>\n",
       "      <td>0.958333</td>\n",
       "      <td>0.916667</td>\n",
       "      <td>78.0</td>\n",
       "    </tr>\n",
       "    <tr>\n",
       "      <th>71</th>\n",
       "      <td>3</td>\n",
       "      <td>zrs09</td>\n",
       "      <td>0.956522</td>\n",
       "      <td>0.875000</td>\n",
       "      <td>97.0</td>\n",
       "    </tr>\n",
       "  </tbody>\n",
       "</table>\n",
       "<p>285 rows × 5 columns</p>\n",
       "</div>"
      ],
      "text/plain": [
       "     Group    SubjectID  Sound_detection  Sound_change  Reading_speed\n",
       "0        1           10         0.620000      0.910000          102.0\n",
       "1        1          108         1.000000      0.950000          139.0\n",
       "2        1           11         1.000000      0.790000          110.0\n",
       "3        1     11_norm1         0.950000      0.910000           71.0\n",
       "4        1     12_norm1         0.950000      0.620000           60.0\n",
       "..     ...          ...              ...           ...            ...\n",
       "212      1  varya_norm1         1.000000      0.920000           56.0\n",
       "68       3        vpa21         0.916667      0.916667           22.0\n",
       "69       3        yea20         0.875000      0.500000           20.0\n",
       "70       3        zaa15         0.958333      0.916667           78.0\n",
       "71       3        zrs09         0.956522      0.875000           97.0\n",
       "\n",
       "[285 rows x 5 columns]"
      ]
     },
     "execution_count": 19,
     "metadata": {},
     "output_type": "execute_result"
    }
   ],
   "source": [
    "df_data_to_use"
   ]
  },
  {
   "cell_type": "code",
   "execution_count": 22,
   "id": "adf2e1e7",
   "metadata": {},
   "outputs": [
    {
     "data": {
      "text/plain": [
       "{1, 3}"
      ]
     },
     "execution_count": 22,
     "metadata": {},
     "output_type": "execute_result"
    }
   ],
   "source": [
    "set(df_data_to_use.Group)"
   ]
  },
  {
   "cell_type": "code",
   "execution_count": null,
   "id": "0f4ff111",
   "metadata": {},
   "outputs": [],
   "source": []
  }
 ],
 "metadata": {
  "kernelspec": {
   "display_name": "venv_Jan2022",
   "language": "python",
   "name": "venv_jan2022"
  },
  "language_info": {
   "codemirror_mode": {
    "name": "ipython",
    "version": 3
   },
   "file_extension": ".py",
   "mimetype": "text/x-python",
   "name": "python",
   "nbconvert_exporter": "python",
   "pygments_lexer": "ipython3",
   "version": "3.9.7"
  }
 },
 "nbformat": 4,
 "nbformat_minor": 5
}
