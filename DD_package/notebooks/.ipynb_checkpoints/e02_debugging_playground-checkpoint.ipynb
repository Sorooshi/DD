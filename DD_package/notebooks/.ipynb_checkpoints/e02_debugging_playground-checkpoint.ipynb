{
 "cells": [
  {
   "cell_type": "code",
   "execution_count": 9,
   "id": "587852fe",
   "metadata": {},
   "outputs": [],
   "source": [
    "\n",
    "\n",
    "\n",
    "import os\n",
    "import sys\n",
    "import time\n",
    "import numpy as np\n",
    "import pandas as pd\n",
    "import seaborn as sns\n",
    "from pathlib import Path\n",
    "import matplotlib.pyplot as plt \n",
    "from collections import defaultdict \n",
    "from types import SimpleNamespace\n",
    "\n",
    "\n"
   ]
  },
  {
   "cell_type": "code",
   "execution_count": 10,
   "id": "a38b959d",
   "metadata": {},
   "outputs": [],
   "source": [
    "\n",
    "sys.path.append(\"../\")\n",
    "\n",
    "from dd_package.data.dyslexia_data import DyslexiaData\n",
    "from dd_package.data.preprocess import preprocess_data\n",
    "\n",
    "from dd_package.models.regression_estimators import RegressionEstimators\n",
    "from dd_package.models.classification_estimators import ClassificationEstimators\n",
    "\n",
    "from dd_package.common.utils import save_a_dict, load_a_dict, print_the_evaluated_results\n",
    "\n",
    "\n"
   ]
  },
  {
   "cell_type": "code",
   "execution_count": 11,
   "id": "d43eb2d2",
   "metadata": {},
   "outputs": [],
   "source": [
    "\n",
    "\n",
    "configs = {\n",
    "    \"models_path\": Path(\"/home/soroosh/Programmes/DD/Models\"),\n",
    "    \"results_path\": Path(\"/home/soroosh/Programmes/DD/Results\"),\n",
    "    \"figures_path\": Path(\"/home/soroosh/Programmes/DD/Figures\"),\n",
    "    \"params_path\": Path(\"/home/soroosh/Programmes/DD//Params\"),\n",
    "    \"n_repeats\": 10,\n",
    "    \"n_splits\": 5,\n",
    "}\n",
    "\n",
    "configs = SimpleNamespace(**configs)\n",
    "\n",
    "estimator_name = \"sv_cls\"\n",
    "data_name = \"DD_demo\"\n",
    "to_shuffle = True\n",
    "learning_method = \"classification\"\n",
    "\n",
    "specifier = data_name+\"-\"+estimator_name+\"-\"+str(to_shuffle)\n",
    "configs.specifier = specifier\n",
    "configs.data_name = data_name\n",
    "configs.name_wb = data_name+\": \"+specifier\n",
    "configs.learning_method = learning_method\n",
    "# configs.project = \"DD_test\"\n",
    "# configs.group = \"debug\"\n",
    "\n",
    "\n",
    "configs.run = 1"
   ]
  },
  {
   "cell_type": "code",
   "execution_count": 12,
   "id": "f5b25258",
   "metadata": {},
   "outputs": [
    {
     "data": {
      "text/plain": [
       "'DD_demo-sv_cls-True'"
      ]
     },
     "execution_count": 12,
     "metadata": {},
     "output_type": "execute_result"
    }
   ],
   "source": [
    "specifier"
   ]
  },
  {
   "cell_type": "code",
   "execution_count": 13,
   "id": "e9f7d645",
   "metadata": {},
   "outputs": [
    {
     "name": "stdout",
     "output_type": "stream",
     "text": [
      "Loading Demo data: \n",
      "  dyslexia (72, 9)\n",
      "  norm (213, 9)\n",
      "  risk (22, 9)\n",
      " \n"
     ]
    }
   ],
   "source": [
    "\n",
    "dd = DyslexiaData(path=\"../../datasets/\", n_repeats=5)\n",
    "\n",
    "\n",
    "\n",
    "demos = dd.get_demo_datasets()\n",
    "\n",
    "\n"
   ]
  },
  {
   "cell_type": "code",
   "execution_count": null,
   "id": "4261052c",
   "metadata": {},
   "outputs": [
    {
     "name": "stdout",
     "output_type": "stream",
     "text": [
      "Loading Fixation report data:\n",
      "  dyslexia (59770, 7)\n",
      "  norm (139507, 7)\n"
     ]
    }
   ],
   "source": [
    "\n",
    "fixes = dd.get_fix_datasets()\n",
    "\n"
   ]
  },
  {
   "cell_type": "code",
   "execution_count": null,
   "id": "9171d483",
   "metadata": {},
   "outputs": [],
   "source": [
    "\n",
    "demo = dd.concat_classes_demo()  # .reset_index(drop=True)\n",
    "\n",
    "demo\n",
    "\n"
   ]
  },
  {
   "cell_type": "code",
   "execution_count": null,
   "id": "994176e8",
   "metadata": {},
   "outputs": [],
   "source": [
    "\n",
    "\n",
    "fix = dd.concat_classes_fix()  # .reset_index(drop=True)\n",
    "\n",
    "fix\n",
    "\n"
   ]
  },
  {
   "cell_type": "code",
   "execution_count": null,
   "id": "bc4daa64",
   "metadata": {},
   "outputs": [],
   "source": [
    "\n",
    "\n",
    "fix_stats = dd.get_fix_stats_dataset()\n",
    "\n"
   ]
  },
  {
   "cell_type": "code",
   "execution_count": null,
   "id": "0aa2b5b8",
   "metadata": {},
   "outputs": [],
   "source": [
    "\n",
    "fix_stats_demo \n"
   ]
  },
  {
   "cell_type": "code",
   "execution_count": null,
   "id": "612e6753",
   "metadata": {},
   "outputs": [],
   "source": [
    "fix_stats_demo = dd.concat_dfs(\n",
    "    df1=fix_stats,\n",
    "    df2=demo,\n",
    "    features1=fix_stats.columns,\n",
    "    features2=[\n",
    "        \"Sex\", \"Grade\", \"Age\", \"IQ\", \"Reading_speed\",\n",
    "    ],\n",
    ")\n",
    "\n",
    "\n",
    "df_data_to_use = fix_stats_demo\n",
    "c_features = ['Sex', 'Grade', ]\n",
    "indicators = [\n",
    "    'SubjectID', 'Sentence_ID',\n",
    "]\n",
    "\n",
    "targets = [\"Group\", \"Reading_speed\", ]"
   ]
  },
  {
   "cell_type": "code",
   "execution_count": null,
   "id": "3f852bcc",
   "metadata": {},
   "outputs": [],
   "source": [
    "\n",
    "\n",
    "fix_stats_demo\n",
    "\n",
    "\n"
   ]
  },
  {
   "cell_type": "code",
   "execution_count": null,
   "id": "c8bd8c3e",
   "metadata": {},
   "outputs": [],
   "source": [
    "\n",
    "\n"
   ]
  },
  {
   "cell_type": "code",
   "execution_count": null,
   "id": "6260e642",
   "metadata": {},
   "outputs": [],
   "source": [
    "m_d = fix_stats_demo.loc[fix_stats_demo.Group==1]"
   ]
  },
  {
   "cell_type": "code",
   "execution_count": null,
   "id": "55379d2e",
   "metadata": {},
   "outputs": [],
   "source": [
    "\n",
    "\n",
    "x_org, y_org = dd.get_onehot_features_targets(\n",
    "        data=fix_stats_demo,\n",
    "        c_features= [\"Sex\", \"Grade\", ],  # \n",
    "        indicators=[\"SubjectID\"],\n",
    "    )\n",
    "\n",
    "\n"
   ]
  },
  {
   "cell_type": "code",
   "execution_count": null,
   "id": "3099e55c",
   "metadata": {},
   "outputs": [],
   "source": [
    "\n",
    "x_org\n",
    "\n"
   ]
  },
  {
   "cell_type": "code",
   "execution_count": null,
   "id": "f5622a21",
   "metadata": {},
   "outputs": [],
   "source": [
    "\n",
    "y_org\n",
    "\n",
    "\n"
   ]
  },
  {
   "cell_type": "code",
   "execution_count": null,
   "id": "19360866",
   "metadata": {},
   "outputs": [],
   "source": [
    "\n",
    "\n",
    "x, x_df = dd.get_preprocessed_features(x_dum=x_org)\n",
    "\n"
   ]
  },
  {
   "cell_type": "code",
   "execution_count": null,
   "id": "123464f6",
   "metadata": {},
   "outputs": [],
   "source": [
    "x_df"
   ]
  },
  {
   "cell_type": "code",
   "execution_count": null,
   "id": "4ce6e613",
   "metadata": {},
   "outputs": [],
   "source": [
    "x = x_df.values"
   ]
  },
  {
   "cell_type": "code",
   "execution_count": null,
   "id": "f0eae56b",
   "metadata": {},
   "outputs": [],
   "source": [
    "\n",
    "cv = dd.get_stratified_kfold_cv(\n",
    "    to_shuffle=to_shuffle,\n",
    "    n_splits=configs.n_splits,\n",
    ")\n",
    "\n"
   ]
  },
  {
   "cell_type": "code",
   "execution_count": null,
   "id": "00c09e88",
   "metadata": {},
   "outputs": [],
   "source": [
    "\n",
    "\n",
    "y = y_org.Group.values\n",
    "\n",
    "\n",
    "\n"
   ]
  },
  {
   "cell_type": "code",
   "execution_count": null,
   "id": "29dd94af",
   "metadata": {},
   "outputs": [],
   "source": [
    "\n",
    "\n",
    "data = dd.get_stratified_train_test_splits(\n",
    "    x=x, y=y,\n",
    "    labels=y_org.Group.values,\n",
    "    to_shuffle=to_shuffle,\n",
    "    n_splits=configs.n_repeats\n",
    ")\n",
    "\n"
   ]
  },
  {
   "cell_type": "code",
   "execution_count": null,
   "id": "e897d8e7",
   "metadata": {},
   "outputs": [],
   "source": [
    "\n",
    "\n",
    "reg_est = ClassificationEstimators(\n",
    "    x=x, y=y, cv=cv, data=data,\n",
    "    estimator_name=estimator_name,\n",
    "    configs=configs,\n",
    ")\n",
    "\n",
    "\n"
   ]
  },
  {
   "cell_type": "code",
   "execution_count": null,
   "id": "fc374aee",
   "metadata": {},
   "outputs": [],
   "source": [
    "\n",
    "\n",
    "reg_est.instantiate_tuning_estimator_and_parameters()\n",
    "\n"
   ]
  },
  {
   "cell_type": "code",
   "execution_count": null,
   "id": "80c1de32",
   "metadata": {},
   "outputs": [],
   "source": [
    "\n",
    "\n",
    "reg_est.tune_hyper_parameters()\n",
    "\n",
    "\n",
    "\n"
   ]
  },
  {
   "cell_type": "code",
   "execution_count": null,
   "id": "92c5646c",
   "metadata": {},
   "outputs": [],
   "source": [
    "\n",
    "\n",
    "reg_est.instantiate_train_test_estimator()\n",
    "\n",
    "\n"
   ]
  },
  {
   "cell_type": "code",
   "execution_count": null,
   "id": "55dc2992",
   "metadata": {},
   "outputs": [],
   "source": [
    "\n",
    "reg_est.train_test_tuned_estimator()\n",
    "\n",
    "\n"
   ]
  },
  {
   "cell_type": "code",
   "execution_count": null,
   "id": "84613055",
   "metadata": {},
   "outputs": [],
   "source": []
  },
  {
   "cell_type": "code",
   "execution_count": null,
   "id": "10f4ba40",
   "metadata": {},
   "outputs": [],
   "source": [
    "\n",
    "# reg_est.save_params_results()\n",
    "\n",
    "\n"
   ]
  },
  {
   "cell_type": "code",
   "execution_count": null,
   "id": "6df34305",
   "metadata": {},
   "outputs": [],
   "source": [
    "\n",
    "reg_est.print_results()\n",
    "\n",
    "\n"
   ]
  },
  {
   "cell_type": "code",
   "execution_count": null,
   "id": "dd5efa74",
   "metadata": {},
   "outputs": [],
   "source": [
    "\n",
    "\n"
   ]
  },
  {
   "cell_type": "code",
   "execution_count": null,
   "id": "c0723825",
   "metadata": {},
   "outputs": [],
   "source": [
    "\n",
    "\n",
    "\n",
    "res = load_a_dict(name=\"DD_demo-L_cls-True_TEST\",\n",
    "                  save_path=\"/home/soroosh/Programmes/DD/Results/\")\n",
    "\n",
    "\n",
    "print_the_evaluated_results(results=res, learning_method=\"classification\")\n"
   ]
  },
  {
   "cell_type": "code",
   "execution_count": null,
   "id": "ad8a13c3",
   "metadata": {},
   "outputs": [],
   "source": [
    "\n",
    "\n",
    "for k, v in res.items():\n",
    "    print(\"probs:\", v[\"y_pred_prob\"])\n",
    "    "
   ]
  },
  {
   "cell_type": "code",
   "execution_count": null,
   "id": "21494360",
   "metadata": {},
   "outputs": [],
   "source": []
  },
  {
   "cell_type": "code",
   "execution_count": null,
   "id": "bc5b7f20",
   "metadata": {},
   "outputs": [],
   "source": []
  },
  {
   "cell_type": "code",
   "execution_count": null,
   "id": "a4404936",
   "metadata": {},
   "outputs": [],
   "source": [
    "to_exclude_at_risk = False\n",
    "\n",
    "# dict of dicts, s.t each dict contains pd.df of a class, e.g normal\n",
    "_ = dd.get_demo_datasets()  # demos and phonological (which is initially part of demo)\n",
    "demo_phono = dd.concat_classes_demo()\n",
    "\n",
    "# The optimize way to exclude at-risk class\n",
    "if to_exclude_at_risk == 1:\n",
    "    to_exclude_at_risk = True\n",
    "    demo_phono = demo_phono.loc[demo_phono.Group != 2]\n",
    "\n",
    "df_data_to_use = demo_phono.loc[:, [\n",
    "                                       'Group', 'SubjectID', 'Sound_detection', 'Sound_change', 'Reading_speed'\n",
    "                                   ]]\n",
    "c_features = None\n",
    "indicators = ['SubjectID', ]\n",
    "targets = [\"Group\", \"Reading_speed\", ]"
   ]
  },
  {
   "cell_type": "code",
   "execution_count": null,
   "id": "99e68f60",
   "metadata": {},
   "outputs": [],
   "source": [
    "df_data_to_use"
   ]
  },
  {
   "cell_type": "code",
   "execution_count": null,
   "id": "bebccb7c",
   "metadata": {},
   "outputs": [],
   "source": [
    "to_exclude_at_risk = True\n",
    "\n",
    "# dict of dicts, s.t each dict contains pd.df of a class, e.g normal\n",
    "_ = dd.get_demo_datasets()  # demos and phonological (which is initially part of demo)\n",
    "demo_phono = dd.concat_classes_demo()\n",
    "\n",
    "# The optimize way to exclude at-risk class\n",
    "if to_exclude_at_risk == 1:\n",
    "    to_exclude_at_risk = True\n",
    "    demo_phono = demo_phono.loc[demo_phono.Group != 2]\n",
    "\n",
    "df_data_to_use = demo_phono.loc[:, [\n",
    "                                       'Group', 'SubjectID', 'Sound_detection', 'Sound_change', 'Reading_speed'\n",
    "                                   ]]\n",
    "c_features = None\n",
    "indicators = ['SubjectID', ]\n",
    "targets = [\"Group\", \"Reading_speed\", ]"
   ]
  },
  {
   "cell_type": "code",
   "execution_count": null,
   "id": "9ef94ca8",
   "metadata": {},
   "outputs": [],
   "source": [
    "df_data_to_use"
   ]
  },
  {
   "cell_type": "code",
   "execution_count": null,
   "id": "adf2e1e7",
   "metadata": {},
   "outputs": [],
   "source": [
    "set(df_data_to_use.Group)"
   ]
  },
  {
   "cell_type": "code",
   "execution_count": null,
   "id": "0f4ff111",
   "metadata": {},
   "outputs": [],
   "source": []
  }
 ],
 "metadata": {
  "kernelspec": {
   "display_name": "venv_Jan2022",
   "language": "python",
   "name": "venv_jan2022"
  },
  "language_info": {
   "codemirror_mode": {
    "name": "ipython",
    "version": 3
   },
   "file_extension": ".py",
   "mimetype": "text/x-python",
   "name": "python",
   "nbconvert_exporter": "python",
   "pygments_lexer": "ipython3",
   "version": "3.9.7"
  }
 },
 "nbformat": 4,
 "nbformat_minor": 5
}
