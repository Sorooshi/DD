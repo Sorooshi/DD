{
 "cells": [
  {
   "cell_type": "code",
   "execution_count": 53,
   "id": "1b9d2cfc",
   "metadata": {},
   "outputs": [],
   "source": [
    "\n",
    "import sys\n",
    "import shap \n",
    "import pickle\n",
    "import sklearn \n",
    "import numpy as np\n",
    "import pandas as pd\n",
    "from pathlib import Path\n",
    "import matplotlib.pyplot as plt\n",
    "from types import SimpleNamespace\n",
    "\n"
   ]
  },
  {
   "cell_type": "code",
   "execution_count": 54,
   "id": "13a8aa90",
   "metadata": {},
   "outputs": [],
   "source": [
    "\n",
    "\n",
    "\n",
    "sys.path.append(\"../\")\n",
    "\n",
    "from dd_package.data.dyslexia_data import DyslexiaData\n",
    "from dd_package.data.preprocess import preprocess_data\n",
    "\n",
    "from dd_package.models.regression_estimators import RegressionEstimators\n",
    "\n",
    "from dd_package.common.utils import save_a_dict, load_a_dict, print_the_evaluated_results\n",
    "\n",
    "\n",
    "\n",
    "\n",
    "\n"
   ]
  },
  {
   "cell_type": "code",
   "execution_count": 55,
   "id": "0e0c1801",
   "metadata": {},
   "outputs": [],
   "source": [
    "\n",
    "configs = {\n",
    "    \"models_path\": Path(\"/home/soroosh/Programmes/DD/Models\"),\n",
    "    \"results_path\": Path(\"/home/soroosh/Programmes/DD/Results\"),\n",
    "    \"figures_path\": Path(\"/home/soroosh/Programmes/DD/Figures\"),\n",
    "    \"params_path\": Path(\"/home/soroosh/Programmes/DD/Params\"),\n",
    "    \"n_repeats\": 10,\n",
    "    \"n_splits\": 5,\n",
    "}\n",
    "\n",
    "configs = SimpleNamespace(**configs)\n",
    "\n"
   ]
  },
  {
   "cell_type": "code",
   "execution_count": 56,
   "id": "84bf7b99",
   "metadata": {},
   "outputs": [],
   "source": [
    "\n",
    "data_name=\"dd_demo\"\n",
    "\n",
    "estimator_name = \"rf_cls\"\n",
    "to_shuffle = True\n",
    "to_exclude_at_risk = 0\n",
    "\n",
    "\n"
   ]
  },
  {
   "cell_type": "code",
   "execution_count": 57,
   "id": "a27a1afd",
   "metadata": {},
   "outputs": [],
   "source": [
    "\n",
    "specifier = data_name + \"-\" + estimator_name + \\\n",
    "\"--shuffled:\" + str(to_shuffle) + \\\n",
    "\"--exclude at risk:\" + str(to_exclude_at_risk)\n",
    "\n"
   ]
  },
  {
   "cell_type": "code",
   "execution_count": 58,
   "id": "b6a10bd6",
   "metadata": {},
   "outputs": [],
   "source": [
    "\n",
    "configs.specifier = specifier\n",
    "configs.data_name = data_name\n",
    "\n"
   ]
  },
  {
   "cell_type": "code",
   "execution_count": 59,
   "id": "a569c1c7",
   "metadata": {},
   "outputs": [
    {
     "data": {
      "text/plain": [
       "'dd_demo-rf_cls--shuffled:True--exclude at risk:0'"
      ]
     },
     "execution_count": 59,
     "metadata": {},
     "output_type": "execute_result"
    }
   ],
   "source": [
    "\n",
    "configs.specifier\n",
    "\n"
   ]
  },
  {
   "cell_type": "markdown",
   "id": "a334f200",
   "metadata": {},
   "source": [
    "# demo-Fcls-mm:\n",
    "\n",
    "- Chosen model: **MLP**\n",
    "\n",
    "\n",
    "\n",
    "https://www.aidancooper.co.uk/a-non-technical-guide-to-interpreting-shap-analyses/"
   ]
  },
  {
   "cell_type": "markdown",
   "id": "94f70fb3",
   "metadata": {},
   "source": [
    "## Load Data"
   ]
  },
  {
   "cell_type": "code",
   "execution_count": 60,
   "id": "50b8b009",
   "metadata": {},
   "outputs": [],
   "source": [
    "\n",
    "dd = DyslexiaData(path=\"../../datasets/\", n_repeats=5)\n",
    "\n",
    "\n"
   ]
  },
  {
   "cell_type": "code",
   "execution_count": 61,
   "id": "ae3f4789",
   "metadata": {},
   "outputs": [
    {
     "name": "stdout",
     "output_type": "stream",
     "text": [
      "Loading Demo data: \n",
      "  dyslexia (72, 9)\n",
      "  norm (213, 9)\n",
      "  risk (22, 9)\n",
      " \n"
     ]
    }
   ],
   "source": [
    "\n",
    "\n",
    "if data_name == \"dd_demo\":\n",
    "    # dict of dicts, s.t each dict contains pd.df of a class, e.g normal\n",
    "    _ = dd.get_demo_datasets()  # demos and phonological (which is initially part of demo)\n",
    "    demo_phono = dd.concat_classes_demo()\n",
    "\n",
    "    # The optimize way to exclude at-risk class\n",
    "    if to_exclude_at_risk == 1:\n",
    "        to_exclude_at_risk = True\n",
    "        demo_phono = demo_phono.loc[demo_phono.Group != 2]\n",
    "\n",
    "    df_data_to_use = demo_phono.loc[:, [\n",
    "                                           'Group', 'SubjectID', 'Sex', 'Grade', 'Age', 'IQ', 'Reading_speed',\n",
    "                                       ]]\n",
    "    c_features = ['Sex', 'Grade', ]\n",
    "    indicators = ['SubjectID', ]\n",
    "    targets = [\"Group\", \"Reading_speed\", ]\n",
    "\n",
    "elif data_name == \"dd_fix_demo\":\n",
    "    # dict of dicts, s.t each dict contains pd.df of a class, e.g normal\n",
    "    _ = dd.get_demo_datasets()  # demos\n",
    "    _ = dd.get_fix_datasets()  # fixes\n",
    "\n",
    "    # concatenate pd.dfs to a pd.df\n",
    "    fix = dd.concat_classes_fix()\n",
    "    demo_phono = dd.concat_classes_demo()\n",
    "\n",
    "    # The optimize way to exclude at-risk class\n",
    "    if to_exclude_at_risk == 1:\n",
    "        to_exclude_at_risk = True\n",
    "        fix = fix.loc[fix.Group != 2]\n",
    "        demo_phono = demo_phono.loc[demo_phono.Group != 2]\n",
    "\n",
    "    fix_demo = dd.concat_dfs(\n",
    "        df1=fix,\n",
    "        df2=demo_phono,\n",
    "        features1=fix.columns,\n",
    "        features2=[\n",
    "            \"Sex\", \"Grade\", \"Age\", \"IQ\", \"Reading_speed\",\n",
    "        ],\n",
    "    )\n",
    "\n",
    "    df_data_to_use = fix_demo\n",
    "    c_features = ['Sex', 'Grade', ]\n",
    "    indicators = [\n",
    "        'SubjectID', 'Sentence_ID', 'Word_Number',\n",
    "    ]\n",
    "\n",
    "    targets = [\"Group\", \"Reading_speed\", ]\n",
    "    \n",
    "elif data_name == \"dd_fix\":\n",
    "\n",
    "    # dict of dicts, s.t each dict contains pd.df of a class, e.g normal\n",
    "    _ = dd.get_fix_datasets()  # fixes\n",
    "    # concatenate pd.dfs to a pd.df\n",
    "    fix = dd.concat_classes_fix()\n",
    "\n",
    "    # The optimize way to exclude at-risk class\n",
    "    if to_exclude_at_risk == 1:\n",
    "        to_exclude_at_risk = True\n",
    "        fix = fix.loc[fix.Group != 2]\n",
    "\n",
    "    df_data_to_use = fix\n",
    "    c_features = None\n",
    "    indicators = [\n",
    "        'SubjectID', 'Sentence_ID', 'Word_Number',\n",
    "    ]\n",
    "\n",
    "    targets = [\"Group\", ]\n",
    "    \n",
    "    "
   ]
  },
  {
   "cell_type": "code",
   "execution_count": 62,
   "id": "d5c67800",
   "metadata": {},
   "outputs": [
    {
     "data": {
      "text/html": [
       "<div>\n",
       "<style scoped>\n",
       "    .dataframe tbody tr th:only-of-type {\n",
       "        vertical-align: middle;\n",
       "    }\n",
       "\n",
       "    .dataframe tbody tr th {\n",
       "        vertical-align: top;\n",
       "    }\n",
       "\n",
       "    .dataframe thead th {\n",
       "        text-align: right;\n",
       "    }\n",
       "</style>\n",
       "<table border=\"1\" class=\"dataframe\">\n",
       "  <thead>\n",
       "    <tr style=\"text-align: right;\">\n",
       "      <th></th>\n",
       "      <th>Group</th>\n",
       "      <th>SubjectID</th>\n",
       "      <th>Sex</th>\n",
       "      <th>Grade</th>\n",
       "      <th>Age</th>\n",
       "      <th>IQ</th>\n",
       "      <th>Reading_speed</th>\n",
       "    </tr>\n",
       "  </thead>\n",
       "  <tbody>\n",
       "    <tr>\n",
       "      <th>0</th>\n",
       "      <td>1</td>\n",
       "      <td>10</td>\n",
       "      <td>1</td>\n",
       "      <td>4</td>\n",
       "      <td>10</td>\n",
       "      <td>23</td>\n",
       "      <td>102.0</td>\n",
       "    </tr>\n",
       "    <tr>\n",
       "      <th>1</th>\n",
       "      <td>1</td>\n",
       "      <td>108</td>\n",
       "      <td>1</td>\n",
       "      <td>4</td>\n",
       "      <td>10</td>\n",
       "      <td>34</td>\n",
       "      <td>139.0</td>\n",
       "    </tr>\n",
       "    <tr>\n",
       "      <th>2</th>\n",
       "      <td>1</td>\n",
       "      <td>11</td>\n",
       "      <td>2</td>\n",
       "      <td>4</td>\n",
       "      <td>10</td>\n",
       "      <td>34</td>\n",
       "      <td>110.0</td>\n",
       "    </tr>\n",
       "    <tr>\n",
       "      <th>3</th>\n",
       "      <td>1</td>\n",
       "      <td>11_norm1</td>\n",
       "      <td>1</td>\n",
       "      <td>2</td>\n",
       "      <td>9</td>\n",
       "      <td>28</td>\n",
       "      <td>71.0</td>\n",
       "    </tr>\n",
       "    <tr>\n",
       "      <th>4</th>\n",
       "      <td>1</td>\n",
       "      <td>12_norm1</td>\n",
       "      <td>2</td>\n",
       "      <td>2</td>\n",
       "      <td>8</td>\n",
       "      <td>32</td>\n",
       "      <td>60.0</td>\n",
       "    </tr>\n",
       "  </tbody>\n",
       "</table>\n",
       "</div>"
      ],
      "text/plain": [
       "   Group SubjectID  Sex  Grade  Age  IQ  Reading_speed\n",
       "0      1        10    1      4   10  23          102.0\n",
       "1      1       108    1      4   10  34          139.0\n",
       "2      1        11    2      4   10  34          110.0\n",
       "3      1  11_norm1    1      2    9  28           71.0\n",
       "4      1  12_norm1    2      2    8  32           60.0"
      ]
     },
     "execution_count": 62,
     "metadata": {},
     "output_type": "execute_result"
    }
   ],
   "source": [
    "\n",
    "df_data_to_use.head()\n",
    "\n"
   ]
  },
  {
   "cell_type": "code",
   "execution_count": 63,
   "id": "bd430062",
   "metadata": {},
   "outputs": [
    {
     "data": {
      "text/html": [
       "<div>\n",
       "<style scoped>\n",
       "    .dataframe tbody tr th:only-of-type {\n",
       "        vertical-align: middle;\n",
       "    }\n",
       "\n",
       "    .dataframe tbody tr th {\n",
       "        vertical-align: top;\n",
       "    }\n",
       "\n",
       "    .dataframe thead th {\n",
       "        text-align: right;\n",
       "    }\n",
       "</style>\n",
       "<table border=\"1\" class=\"dataframe\">\n",
       "  <thead>\n",
       "    <tr style=\"text-align: right;\">\n",
       "      <th></th>\n",
       "      <th>Group</th>\n",
       "      <th>SubjectID</th>\n",
       "      <th>Sex</th>\n",
       "      <th>Grade</th>\n",
       "      <th>Age</th>\n",
       "      <th>IQ</th>\n",
       "      <th>Reading_speed</th>\n",
       "    </tr>\n",
       "  </thead>\n",
       "  <tbody>\n",
       "    <tr>\n",
       "      <th>0</th>\n",
       "      <td>1</td>\n",
       "      <td>10</td>\n",
       "      <td>1</td>\n",
       "      <td>4</td>\n",
       "      <td>10</td>\n",
       "      <td>23</td>\n",
       "      <td>102.0</td>\n",
       "    </tr>\n",
       "    <tr>\n",
       "      <th>1</th>\n",
       "      <td>1</td>\n",
       "      <td>108</td>\n",
       "      <td>1</td>\n",
       "      <td>4</td>\n",
       "      <td>10</td>\n",
       "      <td>34</td>\n",
       "      <td>139.0</td>\n",
       "    </tr>\n",
       "    <tr>\n",
       "      <th>2</th>\n",
       "      <td>1</td>\n",
       "      <td>11</td>\n",
       "      <td>2</td>\n",
       "      <td>4</td>\n",
       "      <td>10</td>\n",
       "      <td>34</td>\n",
       "      <td>110.0</td>\n",
       "    </tr>\n",
       "    <tr>\n",
       "      <th>3</th>\n",
       "      <td>1</td>\n",
       "      <td>11_norm1</td>\n",
       "      <td>1</td>\n",
       "      <td>2</td>\n",
       "      <td>9</td>\n",
       "      <td>28</td>\n",
       "      <td>71.0</td>\n",
       "    </tr>\n",
       "    <tr>\n",
       "      <th>4</th>\n",
       "      <td>1</td>\n",
       "      <td>12_norm1</td>\n",
       "      <td>2</td>\n",
       "      <td>2</td>\n",
       "      <td>8</td>\n",
       "      <td>32</td>\n",
       "      <td>60.0</td>\n",
       "    </tr>\n",
       "    <tr>\n",
       "      <th>...</th>\n",
       "      <td>...</td>\n",
       "      <td>...</td>\n",
       "      <td>...</td>\n",
       "      <td>...</td>\n",
       "      <td>...</td>\n",
       "      <td>...</td>\n",
       "      <td>...</td>\n",
       "    </tr>\n",
       "    <tr>\n",
       "      <th>208</th>\n",
       "      <td>1</td>\n",
       "      <td>s94</td>\n",
       "      <td>1</td>\n",
       "      <td>4</td>\n",
       "      <td>10</td>\n",
       "      <td>36</td>\n",
       "      <td>154.0</td>\n",
       "    </tr>\n",
       "    <tr>\n",
       "      <th>209</th>\n",
       "      <td>1</td>\n",
       "      <td>s95</td>\n",
       "      <td>2</td>\n",
       "      <td>5</td>\n",
       "      <td>12</td>\n",
       "      <td>35</td>\n",
       "      <td>156.0</td>\n",
       "    </tr>\n",
       "    <tr>\n",
       "      <th>210</th>\n",
       "      <td>1</td>\n",
       "      <td>s96</td>\n",
       "      <td>2</td>\n",
       "      <td>5</td>\n",
       "      <td>11</td>\n",
       "      <td>32</td>\n",
       "      <td>121.0</td>\n",
       "    </tr>\n",
       "    <tr>\n",
       "      <th>211</th>\n",
       "      <td>1</td>\n",
       "      <td>s97</td>\n",
       "      <td>2</td>\n",
       "      <td>4</td>\n",
       "      <td>11</td>\n",
       "      <td>30</td>\n",
       "      <td>133.0</td>\n",
       "    </tr>\n",
       "    <tr>\n",
       "      <th>212</th>\n",
       "      <td>1</td>\n",
       "      <td>varya_norm1</td>\n",
       "      <td>1</td>\n",
       "      <td>1</td>\n",
       "      <td>7</td>\n",
       "      <td>34</td>\n",
       "      <td>56.0</td>\n",
       "    </tr>\n",
       "  </tbody>\n",
       "</table>\n",
       "<p>138450 rows × 7 columns</p>\n",
       "</div>"
      ],
      "text/plain": [
       "     Group    SubjectID  Sex  Grade  Age  IQ  Reading_speed\n",
       "0        1           10    1      4   10  23          102.0\n",
       "1        1          108    1      4   10  34          139.0\n",
       "2        1           11    2      4   10  34          110.0\n",
       "3        1     11_norm1    1      2    9  28           71.0\n",
       "4        1     12_norm1    2      2    8  32           60.0\n",
       "..     ...          ...  ...    ...  ...  ..            ...\n",
       "208      1          s94    1      4   10  36          154.0\n",
       "209      1          s95    2      5   12  35          156.0\n",
       "210      1          s96    2      5   11  32          121.0\n",
       "211      1          s97    2      4   11  30          133.0\n",
       "212      1  varya_norm1    1      1    7  34           56.0\n",
       "\n",
       "[138450 rows x 7 columns]"
      ]
     },
     "execution_count": 63,
     "metadata": {},
     "output_type": "execute_result"
    }
   ],
   "source": [
    "\n",
    "normals = pd.concat([df_data_to_use.loc[df_data_to_use.Group == 1]]*650)\n",
    "normals\n"
   ]
  },
  {
   "cell_type": "code",
   "execution_count": 64,
   "id": "b2826fda",
   "metadata": {},
   "outputs": [
    {
     "data": {
      "text/html": [
       "<div>\n",
       "<style scoped>\n",
       "    .dataframe tbody tr th:only-of-type {\n",
       "        vertical-align: middle;\n",
       "    }\n",
       "\n",
       "    .dataframe tbody tr th {\n",
       "        vertical-align: top;\n",
       "    }\n",
       "\n",
       "    .dataframe thead th {\n",
       "        text-align: right;\n",
       "    }\n",
       "</style>\n",
       "<table border=\"1\" class=\"dataframe\">\n",
       "  <thead>\n",
       "    <tr style=\"text-align: right;\">\n",
       "      <th></th>\n",
       "      <th>Group</th>\n",
       "      <th>SubjectID</th>\n",
       "      <th>Sex</th>\n",
       "      <th>Grade</th>\n",
       "      <th>Age</th>\n",
       "      <th>IQ</th>\n",
       "      <th>Reading_speed</th>\n",
       "    </tr>\n",
       "  </thead>\n",
       "  <tbody>\n",
       "    <tr>\n",
       "      <th>0</th>\n",
       "      <td>3</td>\n",
       "      <td>ake05</td>\n",
       "      <td>1</td>\n",
       "      <td>3</td>\n",
       "      <td>9</td>\n",
       "      <td>35</td>\n",
       "      <td>38.0</td>\n",
       "    </tr>\n",
       "    <tr>\n",
       "      <th>1</th>\n",
       "      <td>3</td>\n",
       "      <td>asd17</td>\n",
       "      <td>2</td>\n",
       "      <td>4</td>\n",
       "      <td>10</td>\n",
       "      <td>34</td>\n",
       "      <td>57.0</td>\n",
       "    </tr>\n",
       "    <tr>\n",
       "      <th>2</th>\n",
       "      <td>3</td>\n",
       "      <td>bai24</td>\n",
       "      <td>2</td>\n",
       "      <td>1</td>\n",
       "      <td>7</td>\n",
       "      <td>28</td>\n",
       "      <td>6.0</td>\n",
       "    </tr>\n",
       "    <tr>\n",
       "      <th>3</th>\n",
       "      <td>3</td>\n",
       "      <td>eki26</td>\n",
       "      <td>1</td>\n",
       "      <td>1</td>\n",
       "      <td>8</td>\n",
       "      <td>35</td>\n",
       "      <td>6.0</td>\n",
       "    </tr>\n",
       "    <tr>\n",
       "      <th>4</th>\n",
       "      <td>3</td>\n",
       "      <td>fka11</td>\n",
       "      <td>2</td>\n",
       "      <td>2</td>\n",
       "      <td>9</td>\n",
       "      <td>32</td>\n",
       "      <td>48.0</td>\n",
       "    </tr>\n",
       "    <tr>\n",
       "      <th>...</th>\n",
       "      <td>...</td>\n",
       "      <td>...</td>\n",
       "      <td>...</td>\n",
       "      <td>...</td>\n",
       "      <td>...</td>\n",
       "      <td>...</td>\n",
       "      <td>...</td>\n",
       "    </tr>\n",
       "    <tr>\n",
       "      <th>67</th>\n",
       "      <td>3</td>\n",
       "      <td>tka06</td>\n",
       "      <td>1</td>\n",
       "      <td>4</td>\n",
       "      <td>11</td>\n",
       "      <td>35</td>\n",
       "      <td>96.0</td>\n",
       "    </tr>\n",
       "    <tr>\n",
       "      <th>68</th>\n",
       "      <td>3</td>\n",
       "      <td>vpa21</td>\n",
       "      <td>2</td>\n",
       "      <td>1</td>\n",
       "      <td>7</td>\n",
       "      <td>32</td>\n",
       "      <td>22.0</td>\n",
       "    </tr>\n",
       "    <tr>\n",
       "      <th>69</th>\n",
       "      <td>3</td>\n",
       "      <td>yea20</td>\n",
       "      <td>1</td>\n",
       "      <td>3</td>\n",
       "      <td>9</td>\n",
       "      <td>34</td>\n",
       "      <td>20.0</td>\n",
       "    </tr>\n",
       "    <tr>\n",
       "      <th>70</th>\n",
       "      <td>3</td>\n",
       "      <td>zaa15</td>\n",
       "      <td>1</td>\n",
       "      <td>3</td>\n",
       "      <td>10</td>\n",
       "      <td>31</td>\n",
       "      <td>78.0</td>\n",
       "    </tr>\n",
       "    <tr>\n",
       "      <th>71</th>\n",
       "      <td>3</td>\n",
       "      <td>zrs09</td>\n",
       "      <td>2</td>\n",
       "      <td>3</td>\n",
       "      <td>10</td>\n",
       "      <td>32</td>\n",
       "      <td>97.0</td>\n",
       "    </tr>\n",
       "  </tbody>\n",
       "</table>\n",
       "<p>59760 rows × 7 columns</p>\n",
       "</div>"
      ],
      "text/plain": [
       "    Group SubjectID  Sex  Grade  Age  IQ  Reading_speed\n",
       "0       3     ake05    1      3    9  35           38.0\n",
       "1       3     asd17    2      4   10  34           57.0\n",
       "2       3     bai24    2      1    7  28            6.0\n",
       "3       3     eki26    1      1    8  35            6.0\n",
       "4       3     fka11    2      2    9  32           48.0\n",
       "..    ...       ...  ...    ...  ...  ..            ...\n",
       "67      3     tka06    1      4   11  35           96.0\n",
       "68      3     vpa21    2      1    7  32           22.0\n",
       "69      3     yea20    1      3    9  34           20.0\n",
       "70      3     zaa15    1      3   10  31           78.0\n",
       "71      3     zrs09    2      3   10  32           97.0\n",
       "\n",
       "[59760 rows x 7 columns]"
      ]
     },
     "execution_count": 64,
     "metadata": {},
     "output_type": "execute_result"
    }
   ],
   "source": [
    "\n",
    "dyslexics = pd.concat([df_data_to_use.loc[df_data_to_use.Group == 3]]*830)\n",
    "dyslexics\n"
   ]
  },
  {
   "cell_type": "code",
   "execution_count": 65,
   "id": "3f86e114",
   "metadata": {},
   "outputs": [
    {
     "data": {
      "text/html": [
       "<div>\n",
       "<style scoped>\n",
       "    .dataframe tbody tr th:only-of-type {\n",
       "        vertical-align: middle;\n",
       "    }\n",
       "\n",
       "    .dataframe tbody tr th {\n",
       "        vertical-align: top;\n",
       "    }\n",
       "\n",
       "    .dataframe thead th {\n",
       "        text-align: right;\n",
       "    }\n",
       "</style>\n",
       "<table border=\"1\" class=\"dataframe\">\n",
       "  <thead>\n",
       "    <tr style=\"text-align: right;\">\n",
       "      <th></th>\n",
       "      <th>Group</th>\n",
       "      <th>SubjectID</th>\n",
       "      <th>Sex</th>\n",
       "      <th>Grade</th>\n",
       "      <th>Age</th>\n",
       "      <th>IQ</th>\n",
       "      <th>Reading_speed</th>\n",
       "    </tr>\n",
       "  </thead>\n",
       "  <tbody>\n",
       "    <tr>\n",
       "      <th>0</th>\n",
       "      <td>2</td>\n",
       "      <td>m107</td>\n",
       "      <td>1</td>\n",
       "      <td>2</td>\n",
       "      <td>9</td>\n",
       "      <td>36</td>\n",
       "      <td>50.0</td>\n",
       "    </tr>\n",
       "    <tr>\n",
       "      <th>1</th>\n",
       "      <td>2</td>\n",
       "      <td>m108</td>\n",
       "      <td>2</td>\n",
       "      <td>4</td>\n",
       "      <td>10</td>\n",
       "      <td>34</td>\n",
       "      <td>85.0</td>\n",
       "    </tr>\n",
       "    <tr>\n",
       "      <th>2</th>\n",
       "      <td>2</td>\n",
       "      <td>m25</td>\n",
       "      <td>1</td>\n",
       "      <td>6</td>\n",
       "      <td>12</td>\n",
       "      <td>36</td>\n",
       "      <td>85.0</td>\n",
       "    </tr>\n",
       "    <tr>\n",
       "      <th>3</th>\n",
       "      <td>2</td>\n",
       "      <td>m29</td>\n",
       "      <td>2</td>\n",
       "      <td>6</td>\n",
       "      <td>12</td>\n",
       "      <td>34</td>\n",
       "      <td>95.0</td>\n",
       "    </tr>\n",
       "    <tr>\n",
       "      <th>4</th>\n",
       "      <td>2</td>\n",
       "      <td>m46</td>\n",
       "      <td>2</td>\n",
       "      <td>4</td>\n",
       "      <td>10</td>\n",
       "      <td>35</td>\n",
       "      <td>82.0</td>\n",
       "    </tr>\n",
       "    <tr>\n",
       "      <th>...</th>\n",
       "      <td>...</td>\n",
       "      <td>...</td>\n",
       "      <td>...</td>\n",
       "      <td>...</td>\n",
       "      <td>...</td>\n",
       "      <td>...</td>\n",
       "      <td>...</td>\n",
       "    </tr>\n",
       "    <tr>\n",
       "      <th>17</th>\n",
       "      <td>2</td>\n",
       "      <td>s25</td>\n",
       "      <td>1</td>\n",
       "      <td>1</td>\n",
       "      <td>7</td>\n",
       "      <td>30</td>\n",
       "      <td>25.0</td>\n",
       "    </tr>\n",
       "    <tr>\n",
       "      <th>18</th>\n",
       "      <td>2</td>\n",
       "      <td>s26</td>\n",
       "      <td>2</td>\n",
       "      <td>2</td>\n",
       "      <td>8</td>\n",
       "      <td>31</td>\n",
       "      <td>50.0</td>\n",
       "    </tr>\n",
       "    <tr>\n",
       "      <th>19</th>\n",
       "      <td>2</td>\n",
       "      <td>s29</td>\n",
       "      <td>2</td>\n",
       "      <td>1</td>\n",
       "      <td>6</td>\n",
       "      <td>27</td>\n",
       "      <td>29.0</td>\n",
       "    </tr>\n",
       "    <tr>\n",
       "      <th>20</th>\n",
       "      <td>2</td>\n",
       "      <td>s58</td>\n",
       "      <td>1</td>\n",
       "      <td>1</td>\n",
       "      <td>8</td>\n",
       "      <td>32</td>\n",
       "      <td>26.0</td>\n",
       "    </tr>\n",
       "    <tr>\n",
       "      <th>21</th>\n",
       "      <td>2</td>\n",
       "      <td>s71</td>\n",
       "      <td>2</td>\n",
       "      <td>5</td>\n",
       "      <td>11</td>\n",
       "      <td>31</td>\n",
       "      <td>77.0</td>\n",
       "    </tr>\n",
       "  </tbody>\n",
       "</table>\n",
       "<p>26070 rows × 7 columns</p>\n",
       "</div>"
      ],
      "text/plain": [
       "    Group SubjectID  Sex  Grade  Age  IQ  Reading_speed\n",
       "0       2      m107    1      2    9  36           50.0\n",
       "1       2      m108    2      4   10  34           85.0\n",
       "2       2       m25    1      6   12  36           85.0\n",
       "3       2       m29    2      6   12  34           95.0\n",
       "4       2       m46    2      4   10  35           82.0\n",
       "..    ...       ...  ...    ...  ...  ..            ...\n",
       "17      2       s25    1      1    7  30           25.0\n",
       "18      2       s26    2      2    8  31           50.0\n",
       "19      2       s29    2      1    6  27           29.0\n",
       "20      2       s58    1      1    8  32           26.0\n",
       "21      2       s71    2      5   11  31           77.0\n",
       "\n",
       "[26070 rows x 7 columns]"
      ]
     },
     "execution_count": 65,
     "metadata": {},
     "output_type": "execute_result"
    }
   ],
   "source": [
    "\n",
    "\n",
    "at_risk = pd.concat([df_data_to_use.loc[df_data_to_use.Group == 2]]*1185)\n",
    "at_risk\n",
    "\n"
   ]
  },
  {
   "cell_type": "code",
   "execution_count": 66,
   "id": "99fc0f22",
   "metadata": {},
   "outputs": [
    {
     "data": {
      "text/html": [
       "<div>\n",
       "<style scoped>\n",
       "    .dataframe tbody tr th:only-of-type {\n",
       "        vertical-align: middle;\n",
       "    }\n",
       "\n",
       "    .dataframe tbody tr th {\n",
       "        vertical-align: top;\n",
       "    }\n",
       "\n",
       "    .dataframe thead th {\n",
       "        text-align: right;\n",
       "    }\n",
       "</style>\n",
       "<table border=\"1\" class=\"dataframe\">\n",
       "  <thead>\n",
       "    <tr style=\"text-align: right;\">\n",
       "      <th></th>\n",
       "      <th>Group</th>\n",
       "      <th>SubjectID</th>\n",
       "      <th>Sex</th>\n",
       "      <th>Grade</th>\n",
       "      <th>Age</th>\n",
       "      <th>IQ</th>\n",
       "      <th>Reading_speed</th>\n",
       "    </tr>\n",
       "  </thead>\n",
       "  <tbody>\n",
       "    <tr>\n",
       "      <th>0</th>\n",
       "      <td>1</td>\n",
       "      <td>10</td>\n",
       "      <td>1</td>\n",
       "      <td>4</td>\n",
       "      <td>10</td>\n",
       "      <td>23</td>\n",
       "      <td>102.0</td>\n",
       "    </tr>\n",
       "    <tr>\n",
       "      <th>1</th>\n",
       "      <td>1</td>\n",
       "      <td>108</td>\n",
       "      <td>1</td>\n",
       "      <td>4</td>\n",
       "      <td>10</td>\n",
       "      <td>34</td>\n",
       "      <td>139.0</td>\n",
       "    </tr>\n",
       "    <tr>\n",
       "      <th>2</th>\n",
       "      <td>1</td>\n",
       "      <td>11</td>\n",
       "      <td>2</td>\n",
       "      <td>4</td>\n",
       "      <td>10</td>\n",
       "      <td>34</td>\n",
       "      <td>110.0</td>\n",
       "    </tr>\n",
       "    <tr>\n",
       "      <th>3</th>\n",
       "      <td>1</td>\n",
       "      <td>11_norm1</td>\n",
       "      <td>1</td>\n",
       "      <td>2</td>\n",
       "      <td>9</td>\n",
       "      <td>28</td>\n",
       "      <td>71.0</td>\n",
       "    </tr>\n",
       "    <tr>\n",
       "      <th>4</th>\n",
       "      <td>1</td>\n",
       "      <td>12_norm1</td>\n",
       "      <td>2</td>\n",
       "      <td>2</td>\n",
       "      <td>8</td>\n",
       "      <td>32</td>\n",
       "      <td>60.0</td>\n",
       "    </tr>\n",
       "    <tr>\n",
       "      <th>...</th>\n",
       "      <td>...</td>\n",
       "      <td>...</td>\n",
       "      <td>...</td>\n",
       "      <td>...</td>\n",
       "      <td>...</td>\n",
       "      <td>...</td>\n",
       "      <td>...</td>\n",
       "    </tr>\n",
       "    <tr>\n",
       "      <th>17</th>\n",
       "      <td>2</td>\n",
       "      <td>s25</td>\n",
       "      <td>1</td>\n",
       "      <td>1</td>\n",
       "      <td>7</td>\n",
       "      <td>30</td>\n",
       "      <td>25.0</td>\n",
       "    </tr>\n",
       "    <tr>\n",
       "      <th>18</th>\n",
       "      <td>2</td>\n",
       "      <td>s26</td>\n",
       "      <td>2</td>\n",
       "      <td>2</td>\n",
       "      <td>8</td>\n",
       "      <td>31</td>\n",
       "      <td>50.0</td>\n",
       "    </tr>\n",
       "    <tr>\n",
       "      <th>19</th>\n",
       "      <td>2</td>\n",
       "      <td>s29</td>\n",
       "      <td>2</td>\n",
       "      <td>1</td>\n",
       "      <td>6</td>\n",
       "      <td>27</td>\n",
       "      <td>29.0</td>\n",
       "    </tr>\n",
       "    <tr>\n",
       "      <th>20</th>\n",
       "      <td>2</td>\n",
       "      <td>s58</td>\n",
       "      <td>1</td>\n",
       "      <td>1</td>\n",
       "      <td>8</td>\n",
       "      <td>32</td>\n",
       "      <td>26.0</td>\n",
       "    </tr>\n",
       "    <tr>\n",
       "      <th>21</th>\n",
       "      <td>2</td>\n",
       "      <td>s71</td>\n",
       "      <td>2</td>\n",
       "      <td>5</td>\n",
       "      <td>11</td>\n",
       "      <td>31</td>\n",
       "      <td>77.0</td>\n",
       "    </tr>\n",
       "  </tbody>\n",
       "</table>\n",
       "<p>224280 rows × 7 columns</p>\n",
       "</div>"
      ],
      "text/plain": [
       "    Group SubjectID  Sex  Grade  Age  IQ  Reading_speed\n",
       "0       1        10    1      4   10  23          102.0\n",
       "1       1       108    1      4   10  34          139.0\n",
       "2       1        11    2      4   10  34          110.0\n",
       "3       1  11_norm1    1      2    9  28           71.0\n",
       "4       1  12_norm1    2      2    8  32           60.0\n",
       "..    ...       ...  ...    ...  ...  ..            ...\n",
       "17      2       s25    1      1    7  30           25.0\n",
       "18      2       s26    2      2    8  31           50.0\n",
       "19      2       s29    2      1    6  27           29.0\n",
       "20      2       s58    1      1    8  32           26.0\n",
       "21      2       s71    2      5   11  31           77.0\n",
       "\n",
       "[224280 rows x 7 columns]"
      ]
     },
     "execution_count": 66,
     "metadata": {},
     "output_type": "execute_result"
    }
   ],
   "source": [
    "\n",
    "df_data_to_use = pd.concat([normals, dyslexics, at_risk])\n",
    "df_data_to_use\n",
    "\n"
   ]
  },
  {
   "cell_type": "code",
   "execution_count": 67,
   "id": "efa773a8",
   "metadata": {},
   "outputs": [],
   "source": [
    "\n",
    "\n",
    "x_org, y_org = dd.get_onehot_features_targets(\n",
    "    data=df_data_to_use,\n",
    "    c_features=c_features,\n",
    "    indicators=indicators,\n",
    "    targets=targets,\n",
    ")\n",
    "\n"
   ]
  },
  {
   "cell_type": "code",
   "execution_count": 68,
   "id": "5ee1201d",
   "metadata": {},
   "outputs": [
    {
     "data": {
      "text/html": [
       "<div>\n",
       "<style scoped>\n",
       "    .dataframe tbody tr th:only-of-type {\n",
       "        vertical-align: middle;\n",
       "    }\n",
       "\n",
       "    .dataframe tbody tr th {\n",
       "        vertical-align: top;\n",
       "    }\n",
       "\n",
       "    .dataframe thead th {\n",
       "        text-align: right;\n",
       "    }\n",
       "</style>\n",
       "<table border=\"1\" class=\"dataframe\">\n",
       "  <thead>\n",
       "    <tr style=\"text-align: right;\">\n",
       "      <th></th>\n",
       "      <th>Grade_2</th>\n",
       "      <th>Grade_3</th>\n",
       "      <th>Grade_4</th>\n",
       "      <th>IQ</th>\n",
       "      <th>Sex_2</th>\n",
       "      <th>Grade_1</th>\n",
       "      <th>Grade_5</th>\n",
       "      <th>Age</th>\n",
       "      <th>Grade_6</th>\n",
       "      <th>Sex_1</th>\n",
       "    </tr>\n",
       "  </thead>\n",
       "  <tbody>\n",
       "    <tr>\n",
       "      <th>0</th>\n",
       "      <td>0</td>\n",
       "      <td>0</td>\n",
       "      <td>1</td>\n",
       "      <td>23</td>\n",
       "      <td>0</td>\n",
       "      <td>0</td>\n",
       "      <td>0</td>\n",
       "      <td>10</td>\n",
       "      <td>0</td>\n",
       "      <td>1</td>\n",
       "    </tr>\n",
       "    <tr>\n",
       "      <th>1</th>\n",
       "      <td>0</td>\n",
       "      <td>0</td>\n",
       "      <td>1</td>\n",
       "      <td>34</td>\n",
       "      <td>0</td>\n",
       "      <td>0</td>\n",
       "      <td>0</td>\n",
       "      <td>10</td>\n",
       "      <td>0</td>\n",
       "      <td>1</td>\n",
       "    </tr>\n",
       "    <tr>\n",
       "      <th>2</th>\n",
       "      <td>0</td>\n",
       "      <td>0</td>\n",
       "      <td>1</td>\n",
       "      <td>34</td>\n",
       "      <td>1</td>\n",
       "      <td>0</td>\n",
       "      <td>0</td>\n",
       "      <td>10</td>\n",
       "      <td>0</td>\n",
       "      <td>0</td>\n",
       "    </tr>\n",
       "    <tr>\n",
       "      <th>3</th>\n",
       "      <td>1</td>\n",
       "      <td>0</td>\n",
       "      <td>0</td>\n",
       "      <td>28</td>\n",
       "      <td>0</td>\n",
       "      <td>0</td>\n",
       "      <td>0</td>\n",
       "      <td>9</td>\n",
       "      <td>0</td>\n",
       "      <td>1</td>\n",
       "    </tr>\n",
       "    <tr>\n",
       "      <th>4</th>\n",
       "      <td>1</td>\n",
       "      <td>0</td>\n",
       "      <td>0</td>\n",
       "      <td>32</td>\n",
       "      <td>1</td>\n",
       "      <td>0</td>\n",
       "      <td>0</td>\n",
       "      <td>8</td>\n",
       "      <td>0</td>\n",
       "      <td>0</td>\n",
       "    </tr>\n",
       "  </tbody>\n",
       "</table>\n",
       "</div>"
      ],
      "text/plain": [
       "   Grade_2  Grade_3  Grade_4  IQ  Sex_2  Grade_1  Grade_5  Age  Grade_6  Sex_1\n",
       "0        0        0        1  23      0        0        0   10        0      1\n",
       "1        0        0        1  34      0        0        0   10        0      1\n",
       "2        0        0        1  34      1        0        0   10        0      0\n",
       "3        1        0        0  28      0        0        0    9        0      1\n",
       "4        1        0        0  32      1        0        0    8        0      0"
      ]
     },
     "execution_count": 68,
     "metadata": {},
     "output_type": "execute_result"
    }
   ],
   "source": [
    "\n",
    "x_org.head()\n",
    "\n"
   ]
  },
  {
   "cell_type": "code",
   "execution_count": 69,
   "id": "cea6efe4",
   "metadata": {},
   "outputs": [],
   "source": [
    "# for i in range(x_org.Sex_1.values.shape[0]):\n",
    "#     print(x_org.Sex_1.values[i], x_org.Sex_2.values[i])"
   ]
  },
  {
   "cell_type": "code",
   "execution_count": 70,
   "id": "d4beffc0",
   "metadata": {},
   "outputs": [
    {
     "data": {
      "text/html": [
       "<div>\n",
       "<style scoped>\n",
       "    .dataframe tbody tr th:only-of-type {\n",
       "        vertical-align: middle;\n",
       "    }\n",
       "\n",
       "    .dataframe tbody tr th {\n",
       "        vertical-align: top;\n",
       "    }\n",
       "\n",
       "    .dataframe thead th {\n",
       "        text-align: right;\n",
       "    }\n",
       "</style>\n",
       "<table border=\"1\" class=\"dataframe\">\n",
       "  <thead>\n",
       "    <tr style=\"text-align: right;\">\n",
       "      <th></th>\n",
       "      <th>Group</th>\n",
       "      <th>Reading_speed</th>\n",
       "    </tr>\n",
       "  </thead>\n",
       "  <tbody>\n",
       "    <tr>\n",
       "      <th>0</th>\n",
       "      <td>1</td>\n",
       "      <td>102.0</td>\n",
       "    </tr>\n",
       "    <tr>\n",
       "      <th>1</th>\n",
       "      <td>1</td>\n",
       "      <td>139.0</td>\n",
       "    </tr>\n",
       "    <tr>\n",
       "      <th>2</th>\n",
       "      <td>1</td>\n",
       "      <td>110.0</td>\n",
       "    </tr>\n",
       "    <tr>\n",
       "      <th>3</th>\n",
       "      <td>1</td>\n",
       "      <td>71.0</td>\n",
       "    </tr>\n",
       "    <tr>\n",
       "      <th>4</th>\n",
       "      <td>1</td>\n",
       "      <td>60.0</td>\n",
       "    </tr>\n",
       "  </tbody>\n",
       "</table>\n",
       "</div>"
      ],
      "text/plain": [
       "   Group  Reading_speed\n",
       "0      1          102.0\n",
       "1      1          139.0\n",
       "2      1          110.0\n",
       "3      1           71.0\n",
       "4      1           60.0"
      ]
     },
     "execution_count": 70,
     "metadata": {},
     "output_type": "execute_result"
    }
   ],
   "source": [
    "\n",
    "y_org.head()\n",
    "\n"
   ]
  },
  {
   "cell_type": "code",
   "execution_count": 71,
   "id": "8ab4345f",
   "metadata": {},
   "outputs": [
    {
     "name": "stdout",
     "output_type": "stream",
     "text": [
      "learning_method: classification\n"
     ]
    }
   ],
   "source": [
    "\n",
    "\n",
    "if estimator_name.split(\"_\")[-1] == \"reg\":\n",
    "    learning_method = \"regression\"\n",
    "    y = y_org.Reading_speed.values\n",
    "\n",
    "elif estimator_name.split(\"_\")[-1] == \"cls\":\n",
    "    learning_method = \"classification\"\n",
    "    y = y_org.Group.values\n",
    "\n",
    "elif estimator_name.split(\"_\")[-1] == \"clu\":\n",
    "    from dd_package.models.clustering_estimators import ClusteringEstimators\n",
    "    y = y_org.Group.values\n",
    "else:\n",
    "    assert False, \"Undefined algorithm and thus undefined target values\"\n",
    "    \n",
    "print(\"learning_method:\", learning_method)\n",
    "\n"
   ]
  },
  {
   "cell_type": "code",
   "execution_count": 72,
   "id": "25adc324",
   "metadata": {},
   "outputs": [
    {
     "name": "stdout",
     "output_type": "stream",
     "text": [
      "pre-processing: mm\n",
      "Preprocessed data shape: (224280, 10)\n"
     ]
    }
   ],
   "source": [
    "\n",
    "x = preprocess_data(x=x_org, pp=\"mm\")  # only x is standardized\n",
    "\n"
   ]
  },
  {
   "cell_type": "code",
   "execution_count": 73,
   "id": "3fc3d58c",
   "metadata": {},
   "outputs": [],
   "source": [
    "\n",
    "data = dd.get_stratified_train_test_splits(\n",
    "        x=x, y=y,\n",
    "        labels=y_org.Group.values,\n",
    "        to_shuffle=to_shuffle,\n",
    "        n_splits=10\n",
    "    )\n",
    "\n"
   ]
  },
  {
   "cell_type": "code",
   "execution_count": 74,
   "id": "eb0a9117",
   "metadata": {},
   "outputs": [
    {
     "data": {
      "text/plain": [
       "defaultdict(collections.defaultdict,\n",
       "            {'1': defaultdict(list,\n",
       "                         {'x_train': array([[0.   , 0.   , 1.   , ..., 0.5  , 0.   , 1.   ],\n",
       "                                 [0.   , 0.   , 1.   , ..., 0.5  , 0.   , 1.   ],\n",
       "                                 [0.   , 0.   , 1.   , ..., 0.5  , 0.   , 0.   ],\n",
       "                                 ...,\n",
       "                                 [0.   , 0.   , 0.   , ..., 0.   , 0.   , 0.   ],\n",
       "                                 [0.   , 0.   , 0.   , ..., 0.25 , 0.   , 1.   ],\n",
       "                                 [0.   , 0.   , 0.   , ..., 0.625, 0.   , 0.   ]]),\n",
       "                          'x_test': array([[0.   , 0.   , 1.   , ..., 0.5  , 0.   , 0.   ],\n",
       "                                 [1.   , 0.   , 0.   , ..., 0.25 , 0.   , 0.   ],\n",
       "                                 [0.   , 0.   , 1.   , ..., 0.5  , 0.   , 0.   ],\n",
       "                                 ...,\n",
       "                                 [0.   , 0.   , 0.   , ..., 0.125, 0.   , 0.   ],\n",
       "                                 [1.   , 0.   , 0.   , ..., 0.375, 0.   , 1.   ],\n",
       "                                 [1.   , 0.   , 0.   , ..., 0.375, 0.   , 0.   ]]),\n",
       "                          'y_train': array([1, 1, 1, ..., 2, 2, 2]),\n",
       "                          'y_test': array([1, 1, 1, ..., 2, 2, 2])}),\n",
       "             '2': defaultdict(list,\n",
       "                         {'x_train': array([[0.   , 0.   , 1.   , ..., 0.5  , 0.   , 1.   ],\n",
       "                                 [0.   , 0.   , 1.   , ..., 0.5  , 0.   , 0.   ],\n",
       "                                 [1.   , 0.   , 0.   , ..., 0.375, 0.   , 1.   ],\n",
       "                                 ...,\n",
       "                                 [0.   , 0.   , 0.   , ..., 0.   , 0.   , 0.   ],\n",
       "                                 [0.   , 0.   , 0.   , ..., 0.25 , 0.   , 1.   ],\n",
       "                                 [0.   , 0.   , 0.   , ..., 0.625, 0.   , 0.   ]]),\n",
       "                          'x_test': array([[0.   , 0.   , 1.   , ..., 0.5  , 0.   , 1.   ],\n",
       "                                 [0.   , 0.   , 0.   , ..., 0.125, 0.   , 0.   ],\n",
       "                                 [0.   , 0.   , 1.   , ..., 0.5  , 0.   , 1.   ],\n",
       "                                 ...,\n",
       "                                 [0.   , 0.   , 0.   , ..., 0.625, 1.   , 0.   ],\n",
       "                                 [0.   , 0.   , 0.   , ..., 0.75 , 0.   , 0.   ],\n",
       "                                 [0.   , 0.   , 0.   , ..., 0.125, 0.   , 1.   ]]),\n",
       "                          'y_train': array([1, 1, 1, ..., 2, 2, 2]),\n",
       "                          'y_test': array([1, 1, 1, ..., 2, 2, 2])}),\n",
       "             '3': defaultdict(list,\n",
       "                         {'x_train': array([[0.   , 0.   , 1.   , ..., 0.5  , 0.   , 1.   ],\n",
       "                                 [0.   , 0.   , 1.   , ..., 0.5  , 0.   , 1.   ],\n",
       "                                 [0.   , 0.   , 1.   , ..., 0.5  , 0.   , 0.   ],\n",
       "                                 ...,\n",
       "                                 [0.   , 0.   , 0.   , ..., 0.   , 0.   , 0.   ],\n",
       "                                 [0.   , 0.   , 0.   , ..., 0.25 , 0.   , 1.   ],\n",
       "                                 [0.   , 0.   , 0.   , ..., 0.625, 0.   , 0.   ]]),\n",
       "                          'x_test': array([[0.   , 0.   , 1.   , ..., 0.5  , 0.   , 1.   ],\n",
       "                                 [0.   , 1.   , 0.   , ..., 0.375, 0.   , 1.   ],\n",
       "                                 [0.   , 0.   , 0.   , ..., 0.625, 0.   , 0.   ],\n",
       "                                 ...,\n",
       "                                 [0.   , 0.   , 0.   , ..., 0.25 , 0.   , 1.   ],\n",
       "                                 [1.   , 0.   , 0.   , ..., 0.25 , 0.   , 0.   ],\n",
       "                                 [0.   , 0.   , 0.   , ..., 0.625, 1.   , 0.   ]]),\n",
       "                          'y_train': array([1, 1, 1, ..., 2, 2, 2]),\n",
       "                          'y_test': array([1, 1, 1, ..., 2, 2, 2])}),\n",
       "             '4': defaultdict(list,\n",
       "                         {'x_train': array([[0.   , 0.   , 1.   , ..., 0.5  , 0.   , 1.   ],\n",
       "                                 [0.   , 0.   , 1.   , ..., 0.5  , 0.   , 1.   ],\n",
       "                                 [0.   , 0.   , 1.   , ..., 0.5  , 0.   , 0.   ],\n",
       "                                 ...,\n",
       "                                 [0.   , 0.   , 0.   , ..., 0.   , 0.   , 0.   ],\n",
       "                                 [0.   , 0.   , 0.   , ..., 0.25 , 0.   , 1.   ],\n",
       "                                 [0.   , 0.   , 0.   , ..., 0.625, 0.   , 0.   ]]),\n",
       "                          'x_test': array([[0.   , 0.   , 0.   , ..., 0.125, 0.   , 1.   ],\n",
       "                                 [1.   , 0.   , 0.   , ..., 0.25 , 0.   , 0.   ],\n",
       "                                 [0.   , 0.   , 1.   , ..., 0.625, 0.   , 0.   ],\n",
       "                                 ...,\n",
       "                                 [0.   , 0.   , 0.   , ..., 0.125, 0.   , 1.   ],\n",
       "                                 [0.   , 0.   , 0.   , ..., 0.75 , 1.   , 0.   ],\n",
       "                                 [0.   , 0.   , 0.   , ..., 0.125, 0.   , 1.   ]]),\n",
       "                          'y_train': array([1, 1, 1, ..., 2, 2, 2]),\n",
       "                          'y_test': array([1, 1, 1, ..., 2, 2, 2])}),\n",
       "             '5': defaultdict(list,\n",
       "                         {'x_train': array([[0.   , 0.   , 1.   , ..., 0.5  , 0.   , 1.   ],\n",
       "                                 [0.   , 0.   , 1.   , ..., 0.5  , 0.   , 1.   ],\n",
       "                                 [1.   , 0.   , 0.   , ..., 0.25 , 0.   , 0.   ],\n",
       "                                 ...,\n",
       "                                 [0.   , 0.   , 0.   , ..., 0.   , 0.   , 0.   ],\n",
       "                                 [0.   , 0.   , 0.   , ..., 0.25 , 0.   , 1.   ],\n",
       "                                 [0.   , 0.   , 0.   , ..., 0.625, 0.   , 0.   ]]),\n",
       "                          'x_test': array([[0.   , 0.   , 1.   , ..., 0.5  , 0.   , 0.   ],\n",
       "                                 [1.   , 0.   , 0.   , ..., 0.375, 0.   , 1.   ],\n",
       "                                 [0.   , 1.   , 0.   , ..., 0.375, 0.   , 0.   ],\n",
       "                                 ...,\n",
       "                                 [1.   , 0.   , 0.   , ..., 0.375, 0.   , 0.   ],\n",
       "                                 [0.   , 0.   , 0.   , ..., 0.75 , 1.   , 0.   ],\n",
       "                                 [1.   , 0.   , 0.   , ..., 0.375, 0.   , 0.   ]]),\n",
       "                          'y_train': array([1, 1, 1, ..., 2, 2, 2]),\n",
       "                          'y_test': array([1, 1, 1, ..., 2, 2, 2])}),\n",
       "             '6': defaultdict(list,\n",
       "                         {'x_train': array([[0.   , 0.   , 1.   , ..., 0.5  , 0.   , 1.   ],\n",
       "                                 [0.   , 0.   , 1.   , ..., 0.5  , 0.   , 1.   ],\n",
       "                                 [0.   , 0.   , 1.   , ..., 0.5  , 0.   , 0.   ],\n",
       "                                 ...,\n",
       "                                 [1.   , 0.   , 0.   , ..., 0.25 , 0.   , 0.   ],\n",
       "                                 [0.   , 0.   , 0.   , ..., 0.25 , 0.   , 1.   ],\n",
       "                                 [0.   , 0.   , 0.   , ..., 0.625, 0.   , 0.   ]]),\n",
       "                          'x_test': array([[1.   , 0.   , 0.   , ..., 0.375, 0.   , 0.   ],\n",
       "                                 [0.   , 0.   , 0.   , ..., 0.125, 0.   , 0.   ],\n",
       "                                 [1.   , 0.   , 0.   , ..., 0.25 , 0.   , 1.   ],\n",
       "                                 ...,\n",
       "                                 [0.   , 0.   , 1.   , ..., 0.5  , 0.   , 0.   ],\n",
       "                                 [0.   , 0.   , 0.   , ..., 0.125, 0.   , 0.   ],\n",
       "                                 [0.   , 0.   , 0.   , ..., 0.   , 0.   , 0.   ]]),\n",
       "                          'y_train': array([1, 1, 1, ..., 2, 2, 2]),\n",
       "                          'y_test': array([1, 1, 1, ..., 2, 2, 2])}),\n",
       "             '7': defaultdict(list,\n",
       "                         {'x_train': array([[0.   , 0.   , 1.   , ..., 0.5  , 0.   , 1.   ],\n",
       "                                 [0.   , 0.   , 1.   , ..., 0.5  , 0.   , 1.   ],\n",
       "                                 [0.   , 0.   , 1.   , ..., 0.5  , 0.   , 0.   ],\n",
       "                                 ...,\n",
       "                                 [0.   , 0.   , 0.   , ..., 0.   , 0.   , 0.   ],\n",
       "                                 [0.   , 0.   , 0.   , ..., 0.25 , 0.   , 1.   ],\n",
       "                                 [0.   , 0.   , 0.   , ..., 0.625, 0.   , 0.   ]]),\n",
       "                          'x_test': array([[1.   , 0.   , 0.   , ..., 0.25 , 0.   , 0.   ],\n",
       "                                 [0.   , 1.   , 0.   , ..., 0.375, 0.   , 1.   ],\n",
       "                                 [0.   , 0.   , 1.   , ..., 0.5  , 0.   , 0.   ],\n",
       "                                 ...,\n",
       "                                 [0.   , 0.   , 0.   , ..., 0.75 , 1.   , 1.   ],\n",
       "                                 [0.   , 0.   , 1.   , ..., 0.5  , 0.   , 0.   ],\n",
       "                                 [1.   , 0.   , 0.   , ..., 0.375, 0.   , 0.   ]]),\n",
       "                          'y_train': array([1, 1, 1, ..., 2, 2, 2]),\n",
       "                          'y_test': array([1, 1, 1, ..., 2, 2, 2])}),\n",
       "             '8': defaultdict(list,\n",
       "                         {'x_train': array([[0.   , 0.   , 1.   , ..., 0.5  , 0.   , 1.   ],\n",
       "                                 [0.   , 0.   , 1.   , ..., 0.5  , 0.   , 0.   ],\n",
       "                                 [1.   , 0.   , 0.   , ..., 0.375, 0.   , 1.   ],\n",
       "                                 ...,\n",
       "                                 [1.   , 0.   , 0.   , ..., 0.25 , 0.   , 0.   ],\n",
       "                                 [0.   , 0.   , 0.   , ..., 0.   , 0.   , 0.   ],\n",
       "                                 [0.   , 0.   , 0.   , ..., 0.25 , 0.   , 1.   ]]),\n",
       "                          'x_test': array([[0.   , 0.   , 1.   , ..., 0.5  , 0.   , 1.   ],\n",
       "                                 [1.   , 0.   , 0.   , ..., 0.375, 0.   , 1.   ],\n",
       "                                 [0.   , 1.   , 0.   , ..., 0.375, 0.   , 0.   ],\n",
       "                                 ...,\n",
       "                                 [0.   , 0.   , 0.   , ..., 0.75 , 1.   , 0.   ],\n",
       "                                 [0.   , 0.   , 0.   , ..., 0.125, 0.   , 1.   ],\n",
       "                                 [0.   , 0.   , 0.   , ..., 0.625, 0.   , 0.   ]]),\n",
       "                          'y_train': array([1, 1, 1, ..., 2, 2, 2]),\n",
       "                          'y_test': array([1, 1, 1, ..., 2, 2, 2])}),\n",
       "             '9': defaultdict(list,\n",
       "                         {'x_train': array([[0.   , 0.   , 1.   , ..., 0.5  , 0.   , 1.   ],\n",
       "                                 [0.   , 0.   , 1.   , ..., 0.5  , 0.   , 1.   ],\n",
       "                                 [0.   , 0.   , 1.   , ..., 0.5  , 0.   , 0.   ],\n",
       "                                 ...,\n",
       "                                 [0.   , 0.   , 0.   , ..., 0.   , 0.   , 0.   ],\n",
       "                                 [0.   , 0.   , 0.   , ..., 0.25 , 0.   , 1.   ],\n",
       "                                 [0.   , 0.   , 0.   , ..., 0.625, 0.   , 0.   ]]),\n",
       "                          'x_test': array([[0.   , 0.   , 0.   , ..., 0.25 , 0.   , 0.   ],\n",
       "                                 [0.   , 1.   , 0.   , ..., 0.375, 0.   , 1.   ],\n",
       "                                 [0.   , 1.   , 0.   , ..., 0.375, 0.   , 1.   ],\n",
       "                                 ...,\n",
       "                                 [0.   , 0.   , 0.   , ..., 0.75 , 1.   , 0.   ],\n",
       "                                 [0.   , 0.   , 0.   , ..., 0.   , 0.   , 0.   ],\n",
       "                                 [0.   , 0.   , 0.   , ..., 0.625, 0.   , 0.   ]]),\n",
       "                          'y_train': array([1, 1, 1, ..., 2, 2, 2]),\n",
       "                          'y_test': array([1, 1, 1, ..., 2, 2, 2])}),\n",
       "             '10': defaultdict(list,\n",
       "                         {'x_train': array([[0.   , 0.   , 1.   , ..., 0.5  , 0.   , 1.   ],\n",
       "                                 [0.   , 0.   , 1.   , ..., 0.5  , 0.   , 1.   ],\n",
       "                                 [0.   , 0.   , 1.   , ..., 0.5  , 0.   , 0.   ],\n",
       "                                 ...,\n",
       "                                 [0.   , 0.   , 0.   , ..., 0.125, 0.   , 1.   ],\n",
       "                                 [0.   , 0.   , 0.   , ..., 0.   , 0.   , 0.   ],\n",
       "                                 [0.   , 0.   , 0.   , ..., 0.625, 0.   , 0.   ]]),\n",
       "                          'x_test': array([[1.   , 0.   , 0.   , ..., 0.25 , 0.   , 0.   ],\n",
       "                                 [0.   , 0.   , 1.   , ..., 0.625, 0.   , 1.   ],\n",
       "                                 [1.   , 0.   , 0.   , ..., 0.25 , 0.   , 0.   ],\n",
       "                                 ...,\n",
       "                                 [0.   , 1.   , 0.   , ..., 0.375, 0.   , 1.   ],\n",
       "                                 [1.   , 0.   , 0.   , ..., 0.25 , 0.   , 0.   ],\n",
       "                                 [0.   , 0.   , 0.   , ..., 0.25 , 0.   , 1.   ]]),\n",
       "                          'y_train': array([1, 1, 1, ..., 2, 2, 2]),\n",
       "                          'y_test': array([1, 1, 1, ..., 2, 2, 2])})})"
      ]
     },
     "execution_count": 74,
     "metadata": {},
     "output_type": "execute_result"
    }
   ],
   "source": [
    "\n",
    "data\n",
    "\n"
   ]
  },
  {
   "cell_type": "markdown",
   "id": "f918b5f5",
   "metadata": {},
   "source": [
    "## Load the tuned parameters"
   ]
  },
  {
   "cell_type": "code",
   "execution_count": 78,
   "id": "6f61c0ec",
   "metadata": {},
   "outputs": [
    {
     "data": {
      "text/plain": [
       "'dd_fix_demo-rf_cls--shuffled:True--exclude at risk:0'"
      ]
     },
     "execution_count": 78,
     "metadata": {},
     "output_type": "execute_result"
    }
   ],
   "source": [
    "\n",
    "specifier = \"dd_fix_demo\" + \"-\" + estimator_name + \\\n",
    "\"--shuffled:\" + str(to_shuffle) + \\\n",
    "\"--exclude at risk:\" + str(to_exclude_at_risk)\n",
    "\n",
    "configs.specifier = specifier\n",
    "\n",
    "configs.specifier"
   ]
  },
  {
   "cell_type": "code",
   "execution_count": 79,
   "id": "8e9b413d",
   "metadata": {},
   "outputs": [
    {
     "data": {
      "text/plain": [
       "OrderedDict([('min_samples_leaf', 1),\n",
       "             ('min_samples_split', 9),\n",
       "             ('n_estimators', 9923)])"
      ]
     },
     "execution_count": 79,
     "metadata": {},
     "output_type": "execute_result"
    }
   ],
   "source": [
    "\n",
    "tuned_params = load_a_dict(\n",
    "    name=configs.specifier,\n",
    "    save_path=configs.params_path\n",
    "        )\n",
    "\n",
    "tuned_params\n",
    "\n"
   ]
  },
  {
   "cell_type": "code",
   "execution_count": 80,
   "id": "9abedb43",
   "metadata": {},
   "outputs": [
    {
     "data": {
      "text/plain": [
       "RandomForestClassifier(min_samples_split=9, n_estimators=9923, verbose=1)"
      ]
     },
     "execution_count": 80,
     "metadata": {},
     "output_type": "execute_result"
    }
   ],
   "source": [
    "\n",
    "mdl = sklearn.ensemble.RandomForestClassifier(\n",
    "    min_samples_leaf=tuned_params['min_samples_leaf'],\n",
    "    min_samples_split=tuned_params['min_samples_split'],\n",
    "    n_estimators=tuned_params['n_estimators'],\n",
    "    verbose=1\n",
    ")\n",
    "\n",
    "mdl\n"
   ]
  },
  {
   "cell_type": "code",
   "execution_count": 81,
   "id": "7e356bed",
   "metadata": {},
   "outputs": [],
   "source": [
    "x_train = data[\"4\"][\"x_train\"]\n",
    "x_test = data[\"4\"][\"x_test\"]\n",
    "y_train = data[\"4\"][\"y_train\"]\n",
    "y_test = data[\"4\"][\"y_test\"]\n",
    "\n"
   ]
  },
  {
   "cell_type": "code",
   "execution_count": 82,
   "id": "0116ecaf",
   "metadata": {},
   "outputs": [],
   "source": [
    "\n",
    "class_names = ['Norm', 'At-risk', 'Dyslexic']\n",
    "\n",
    "\n"
   ]
  },
  {
   "cell_type": "code",
   "execution_count": 83,
   "id": "eba6e78d",
   "metadata": {},
   "outputs": [],
   "source": [
    "# from joblib import dump, load\n",
    "\n",
    "\n",
    "# mdl = load(configs.models_path.joinpath(configs.specifier+\".joblib\"))\n",
    "# mdl\n"
   ]
  },
  {
   "cell_type": "code",
   "execution_count": 84,
   "id": "74d19bfd",
   "metadata": {
    "scrolled": false
   },
   "outputs": [],
   "source": [
    "\n",
    "# results = load_a_dict(\n",
    "#     name=configs.specifier,\n",
    "#     save_path=configs.results_path,\n",
    "#         )\n",
    "\n",
    "\n",
    "\n",
    "\n",
    "# for i in range(1, 11):\n",
    "#     i = str(i)\n",
    "#     y_test_ = results[i][\"y_test\"]\n",
    "#     y_pred_ = results[i][\"y_pred\"]\n",
    "#     y_prob_ = results[i][\"y_pred_prob\"]\n",
    "    \n",
    "#     cm = sklearn.metrics.confusion_matrix(\n",
    "#     y_true=y_test_, \n",
    "#     y_pred=y_pred_\n",
    "#     )\n",
    "    \n",
    "#     disp = sklearn.metrics.ConfusionMatrixDisplay(confusion_matrix=cm,\n",
    "#                               display_labels=class_names\n",
    "#                              )\n",
    "#     disp.plot()\n",
    "#     plt.show()\n",
    "    \n",
    "    \n",
    "#     print(\n",
    "#         \"Kappa:\", sklearn.metrics.cohen_kappa_score(y1=y_test_, y2=y_pred_),\n",
    "        \n",
    "#         \"AUC ROC:\", sklearn.metrics.roc_auc_score(y_test_, y_prob_,\n",
    "#                                                   multi_class=\"ovr\",\n",
    "#                                                   average=\"weighted\")\n",
    "#     )\n",
    "\n",
    "\n",
    "\n"
   ]
  },
  {
   "cell_type": "code",
   "execution_count": 85,
   "id": "40c0873f",
   "metadata": {},
   "outputs": [],
   "source": [
    "\n",
    "\n",
    "# print_the_evaluated_results(\n",
    "#     results=results, \n",
    "#     learning_method=learning_method\n",
    "# )\n",
    "\n"
   ]
  },
  {
   "cell_type": "code",
   "execution_count": 86,
   "id": "bcf0d848",
   "metadata": {},
   "outputs": [
    {
     "data": {
      "text/plain": [
       "((201852,), (22428, 10))"
      ]
     },
     "execution_count": 86,
     "metadata": {},
     "output_type": "execute_result"
    }
   ],
   "source": [
    "y_train.shape, x_test.shape"
   ]
  },
  {
   "cell_type": "code",
   "execution_count": 87,
   "id": "6a9e7e1e",
   "metadata": {},
   "outputs": [
    {
     "name": "stderr",
     "output_type": "stream",
     "text": [
      "[Parallel(n_jobs=1)]: Using backend SequentialBackend with 1 concurrent workers.\n",
      "[Parallel(n_jobs=1)]: Done 9923 out of 9923 | elapsed:  7.4min finished\n"
     ]
    },
    {
     "data": {
      "text/plain": [
       "RandomForestClassifier(min_samples_split=9, n_estimators=9923, verbose=1)"
      ]
     },
     "execution_count": 87,
     "metadata": {},
     "output_type": "execute_result"
    }
   ],
   "source": [
    "\n",
    "\n",
    "mdl.fit(x_train, y_train)\n",
    "\n",
    "\n"
   ]
  },
  {
   "cell_type": "code",
   "execution_count": 88,
   "id": "e7e539a1",
   "metadata": {},
   "outputs": [
    {
     "name": "stdout",
     "output_type": "stream",
     "text": [
      "model fitted\n"
     ]
    }
   ],
   "source": [
    "\n",
    "print(\"model fitted\")\n",
    "\n"
   ]
  },
  {
   "cell_type": "code",
   "execution_count": 89,
   "id": "50104864",
   "metadata": {},
   "outputs": [
    {
     "name": "stderr",
     "output_type": "stream",
     "text": [
      "[Parallel(n_jobs=1)]: Using backend SequentialBackend with 1 concurrent workers.\n",
      "[Parallel(n_jobs=1)]: Done 9923 out of 9923 | elapsed:    0.9s finished\n"
     ]
    },
    {
     "data": {
      "text/plain": [
       "array([[0.438, 0.   , 0.562],\n",
       "       [1.   , 0.   , 0.   ],\n",
       "       [0.697, 0.   , 0.303],\n",
       "       [1.   , 0.   , 0.   ],\n",
       "       [1.   , 0.   , 0.   ]])"
      ]
     },
     "execution_count": 89,
     "metadata": {},
     "output_type": "execute_result"
    }
   ],
   "source": [
    "mdl.predict_proba(x_test[5:10:, :])\n",
    "\n",
    "\n"
   ]
  },
  {
   "cell_type": "code",
   "execution_count": 90,
   "id": "24eb04ad",
   "metadata": {},
   "outputs": [
    {
     "name": "stderr",
     "output_type": "stream",
     "text": [
      "[Parallel(n_jobs=1)]: Using backend SequentialBackend with 1 concurrent workers.\n",
      "[Parallel(n_jobs=1)]: Done 9923 out of 9923 | elapsed:    0.8s finished\n"
     ]
    },
    {
     "data": {
      "text/plain": [
       "array([3, 1, 1, 1, 1])"
      ]
     },
     "execution_count": 90,
     "metadata": {},
     "output_type": "execute_result"
    }
   ],
   "source": [
    "mdl.predict(x_test[5:10:, :])\n",
    "\n"
   ]
  },
  {
   "cell_type": "code",
   "execution_count": 91,
   "id": "c78b5719",
   "metadata": {},
   "outputs": [
    {
     "name": "stderr",
     "output_type": "stream",
     "text": [
      "[Parallel(n_jobs=1)]: Using backend SequentialBackend with 1 concurrent workers.\n",
      "[Parallel(n_jobs=1)]: Done 9923 out of 9923 | elapsed:   15.4s finished\n"
     ]
    },
    {
     "data": {
      "image/png": "[encoded data removed]",
      "text/plain": [
       "<Figure size 432x288 with 2 Axes>"
      ]
     },
     "metadata": {
      "needs_background": "light"
     },
     "output_type": "display_data"
    }
   ],
   "source": [
    "\n",
    "\n",
    "disp = sklearn.metrics.plot_confusion_matrix(\n",
    "    mdl, x_test, y_test, \n",
    "    display_labels=class_names, \n",
    "    cmap=plt.cm.Blues, \n",
    "    xticks_rotation='vertical'\n",
    ")\n",
    "\n",
    "\n"
   ]
  },
  {
   "cell_type": "code",
   "execution_count": 92,
   "id": "6d8e731c",
   "metadata": {},
   "outputs": [
    {
     "name": "stderr",
     "output_type": "stream",
     "text": [
      "[Parallel(n_jobs=1)]: Using backend SequentialBackend with 1 concurrent workers.\n",
      "[Parallel(n_jobs=1)]: Done 9923 out of 9923 | elapsed:   15.5s finished\n"
     ]
    },
    {
     "data": {
      "text/plain": [
       "0.9478638574941654"
      ]
     },
     "execution_count": 92,
     "metadata": {},
     "output_type": "execute_result"
    }
   ],
   "source": [
    "\n",
    "\n",
    "sklearn.metrics.roc_auc_score(y_test, \n",
    "                              mdl.predict_proba(x_test),\n",
    "                              multi_class=\"ovr\",\n",
    "                              average=\"weighted\"\n",
    "                             )\n",
    "\n",
    "\n"
   ]
  },
  {
   "cell_type": "code",
   "execution_count": 93,
   "id": "5ce9c852",
   "metadata": {},
   "outputs": [
    {
     "name": "stderr",
     "output_type": "stream",
     "text": [
      "[Parallel(n_jobs=1)]: Using backend SequentialBackend with 1 concurrent workers.\n",
      "[Parallel(n_jobs=1)]: Done 9923 out of 9923 | elapsed:   15.5s finished\n"
     ]
    }
   ],
   "source": [
    "\n",
    "y_pred = mdl.predict(x_test)\n"
   ]
  },
  {
   "cell_type": "code",
   "execution_count": 94,
   "id": "e77eeb98",
   "metadata": {},
   "outputs": [
    {
     "data": {
      "text/plain": [
       "0.5306797975448836"
      ]
     },
     "execution_count": 94,
     "metadata": {},
     "output_type": "execute_result"
    }
   ],
   "source": [
    "\n",
    "\n",
    "sklearn.metrics.adjusted_rand_score(y_test, y_pred)\n"
   ]
  },
  {
   "cell_type": "code",
   "execution_count": 95,
   "id": "e89fa218",
   "metadata": {},
   "outputs": [
    {
     "data": {
      "text/plain": [
       "0.4478253454750643"
      ]
     },
     "execution_count": 95,
     "metadata": {},
     "output_type": "execute_result"
    }
   ],
   "source": [
    "\n",
    "sklearn.metrics.normalized_mutual_info_score(y_test, y_pred)\n"
   ]
  },
  {
   "cell_type": "code",
   "execution_count": 96,
   "id": "cd9b3cea",
   "metadata": {},
   "outputs": [
    {
     "data": {
      "text/plain": [
       "0.8470625577831304"
      ]
     },
     "execution_count": 96,
     "metadata": {},
     "output_type": "execute_result"
    }
   ],
   "source": [
    "\n",
    "\n",
    "sklearn.metrics.precision_score(y_test, \n",
    "                                y_pred, \n",
    "                                average='weighted')\n",
    "\n"
   ]
  },
  {
   "cell_type": "code",
   "execution_count": 97,
   "id": "ee1bdeb1",
   "metadata": {},
   "outputs": [
    {
     "data": {
      "text/plain": [
       "0.8336008560727662"
      ]
     },
     "execution_count": 97,
     "metadata": {},
     "output_type": "execute_result"
    }
   ],
   "source": [
    "\n",
    "\n",
    "sklearn.metrics.recall_score(y_test, y_pred, average='weighted')\n",
    "\n"
   ]
  },
  {
   "cell_type": "code",
   "execution_count": 98,
   "id": "15020e7c",
   "metadata": {},
   "outputs": [
    {
     "data": {
      "text/plain": [
       "0.8359391304386701"
      ]
     },
     "execution_count": 98,
     "metadata": {},
     "output_type": "execute_result"
    }
   ],
   "source": [
    "\n",
    "sklearn.metrics.f1_score(y_test, y_pred, average='weighted')\n",
    "\n"
   ]
  },
  {
   "cell_type": "code",
   "execution_count": 99,
   "id": "9895376b",
   "metadata": {},
   "outputs": [
    {
     "data": {
      "text/plain": [
       "0.8336008560727662"
      ]
     },
     "execution_count": 99,
     "metadata": {},
     "output_type": "execute_result"
    }
   ],
   "source": [
    "\n",
    "sklearn.metrics.accuracy_score(y_test, y_pred)\n"
   ]
  },
  {
   "cell_type": "code",
   "execution_count": 100,
   "id": "681ae686",
   "metadata": {},
   "outputs": [
    {
     "data": {
      "text/plain": [
       "0.6996114065365053"
      ]
     },
     "execution_count": 100,
     "metadata": {},
     "output_type": "execute_result"
    }
   ],
   "source": [
    "\n",
    "\n",
    "sklearn.metrics.cohen_kappa_score(y_test, y_pred)\n",
    "\n"
   ]
  },
  {
   "cell_type": "markdown",
   "id": "907bf893",
   "metadata": {},
   "source": [
    "- \n",
    "\n",
    "\n"
   ]
  },
  {
   "cell_type": "code",
   "execution_count": 101,
   "id": "7991c75e",
   "metadata": {
    "scrolled": true
   },
   "outputs": [
    {
     "data": {
      "text/plain": [
       "True"
      ]
     },
     "execution_count": 101,
     "metadata": {},
     "output_type": "execute_result"
    }
   ],
   "source": [
    "\n",
    "\n",
    "len(list(x_org.columns)) == x_test.shape[1]\n",
    "\n",
    "\n"
   ]
  },
  {
   "cell_type": "code",
   "execution_count": 102,
   "id": "b116c14b",
   "metadata": {},
   "outputs": [],
   "source": [
    "explainer = shap.Explainer(mdl.predict, x_test, feature_names=list(x_org.columns))\n",
    "\n"
   ]
  },
  {
   "cell_type": "code",
   "execution_count": 103,
   "id": "0ee30593",
   "metadata": {},
   "outputs": [
    {
     "name": "stderr",
     "output_type": "stream",
     "text": [
      "[Parallel(n_jobs=1)]: Using backend SequentialBackend with 1 concurrent workers.\n",
      "[Parallel(n_jobs=1)]: Done 9923 out of 9923 | elapsed:   22.1s finished\n",
      "Exact explainer:   0%|                                                                                                                     | 1/22428 [00:00<?, ?it/s][Parallel(n_jobs=1)]: Using backend SequentialBackend with 1 concurrent workers.\n",
      "[Parallel(n_jobs=1)]: Done 9923 out of 9923 | elapsed:   17.6s finished\n",
      "[Parallel(n_jobs=1)]: Using backend SequentialBackend with 1 concurrent workers.\n",
      "[Parallel(n_jobs=1)]: Done 9923 out of 9923 | elapsed:    1.4s finished\n",
      "Exact explainer:   0%|                                                                                                          | 3/22428 [00:43<59:08:55,  9.50s/it][Parallel(n_jobs=1)]: Using backend SequentialBackend with 1 concurrent workers.\n",
      "[Parallel(n_jobs=1)]: Done 9923 out of 9923 | elapsed:   17.0s finished\n",
      "[Parallel(n_jobs=1)]: Using backend SequentialBackend with 1 concurrent workers.\n",
      "[Parallel(n_jobs=1)]: Done 9923 out of 9923 | elapsed:    1.3s finished\n",
      "Exact explainer:   0%|                                                                                                          | 4/22428 [01:02<82:14:22, 13.20s/it][Parallel(n_jobs=1)]: Using backend SequentialBackend with 1 concurrent workers.\n",
      "[Parallel(n_jobs=1)]: Done 9923 out of 9923 | elapsed:   17.1s finished\n",
      "[Parallel(n_jobs=1)]: Using backend SequentialBackend with 1 concurrent workers.\n",
      "[Parallel(n_jobs=1)]: Done 9923 out of 9923 | elapsed:    1.5s finished\n",
      "Exact explainer:   0%|                                                                                                          | 5/22428 [01:20<94:38:50, 15.20s/it][Parallel(n_jobs=1)]: Using backend SequentialBackend with 1 concurrent workers.\n",
      "[Parallel(n_jobs=1)]: Done 9923 out of 9923 | elapsed:   24.2s finished\n",
      "[Parallel(n_jobs=1)]: Using backend SequentialBackend with 1 concurrent workers.\n",
      "[Parallel(n_jobs=1)]: Done 9923 out of 9923 | elapsed:    1.4s finished\n",
      "Exact explainer:   0%|                                                                                                         | 6/22428 [01:46<117:03:31, 18.79s/it][Parallel(n_jobs=1)]: Using backend SequentialBackend with 1 concurrent workers.\n",
      "[Parallel(n_jobs=1)]: Done 9923 out of 9923 | elapsed:   17.3s finished\n",
      "[Parallel(n_jobs=1)]: Using backend SequentialBackend with 1 concurrent workers.\n",
      "[Parallel(n_jobs=1)]: Done 9923 out of 9923 | elapsed:    1.3s finished\n",
      "Exact explainer:   0%|                                                                                                         | 7/22428 [02:04<116:39:23, 18.73s/it][Parallel(n_jobs=1)]: Using backend SequentialBackend with 1 concurrent workers.\n",
      "[Parallel(n_jobs=1)]: Done 9923 out of 9923 | elapsed:   20.9s finished\n",
      "[Parallel(n_jobs=1)]: Using backend SequentialBackend with 1 concurrent workers.\n",
      "[Parallel(n_jobs=1)]: Done 9923 out of 9923 | elapsed:    1.4s finished\n",
      "Exact explainer:   0%|                                                                                                         | 8/22428 [02:27<123:48:24, 19.88s/it][Parallel(n_jobs=1)]: Using backend SequentialBackend with 1 concurrent workers.\n",
      "[Parallel(n_jobs=1)]: Done 9923 out of 9923 | elapsed:   21.0s finished\n",
      "[Parallel(n_jobs=1)]: Using backend SequentialBackend with 1 concurrent workers.\n",
      "[Parallel(n_jobs=1)]: Done 9923 out of 9923 | elapsed:    1.4s finished\n",
      "Exact explainer:   0%|                                                                                                         | 9/22428 [02:49<128:36:28, 20.65s/it][Parallel(n_jobs=1)]: Using backend SequentialBackend with 1 concurrent workers.\n",
      "[Parallel(n_jobs=1)]: Done 9923 out of 9923 | elapsed:   18.3s finished\n",
      "[Parallel(n_jobs=1)]: Using backend SequentialBackend with 1 concurrent workers.\n",
      "[Parallel(n_jobs=1)]: Done 9923 out of 9923 | elapsed:    1.4s finished\n",
      "Exact explainer:   0%|                                                                                                        | 10/22428 [03:09<126:41:47, 20.35s/it][Parallel(n_jobs=1)]: Using backend SequentialBackend with 1 concurrent workers.\n",
      "[Parallel(n_jobs=1)]: Done 9923 out of 9923 | elapsed:   16.8s finished\n",
      "[Parallel(n_jobs=1)]: Using backend SequentialBackend with 1 concurrent workers.\n",
      "[Parallel(n_jobs=1)]: Done 9923 out of 9923 | elapsed:    1.4s finished\n",
      "Exact explainer:   0%|                                                                                                        | 11/22428 [03:27<122:37:23, 19.69s/it][Parallel(n_jobs=1)]: Using backend SequentialBackend with 1 concurrent workers.\n",
      "[Parallel(n_jobs=1)]: Done 9923 out of 9923 | elapsed:   17.3s finished\n",
      "[Parallel(n_jobs=1)]: Using backend SequentialBackend with 1 concurrent workers.\n",
      "[Parallel(n_jobs=1)]: Done 9923 out of 9923 | elapsed:    1.4s finished\n",
      "Exact explainer:   0%|                                                                                                        | 12/22428 [03:46<120:49:51, 19.41s/it][Parallel(n_jobs=1)]: Using backend SequentialBackend with 1 concurrent workers.\n",
      "[Parallel(n_jobs=1)]: Done 9923 out of 9923 | elapsed:   21.0s finished\n",
      "[Parallel(n_jobs=1)]: Using backend SequentialBackend with 1 concurrent workers.\n",
      "[Parallel(n_jobs=1)]: Done 9923 out of 9923 | elapsed:    1.4s finished\n",
      "Exact explainer:   0%|                                                                                                        | 13/22428 [04:08<126:24:07, 20.30s/it][Parallel(n_jobs=1)]: Using backend SequentialBackend with 1 concurrent workers.\n",
      "[Parallel(n_jobs=1)]: Done 9923 out of 9923 | elapsed:   22.0s finished\n",
      "[Parallel(n_jobs=1)]: Using backend SequentialBackend with 1 concurrent workers.\n",
      "[Parallel(n_jobs=1)]: Done 9923 out of 9923 | elapsed:    1.4s finished\n",
      "Exact explainer:   0%|                                                                                                        | 14/22428 [04:31<132:07:11, 21.22s/it][Parallel(n_jobs=1)]: Using backend SequentialBackend with 1 concurrent workers.\n",
      "[Parallel(n_jobs=1)]: Done 9923 out of 9923 | elapsed:   21.0s finished\n",
      "[Parallel(n_jobs=1)]: Using backend SequentialBackend with 1 concurrent workers.\n",
      "[Parallel(n_jobs=1)]: Done 9923 out of 9923 | elapsed:    1.4s finished\n",
      "Exact explainer:   0%|                                                                                                        | 15/22428 [04:54<134:15:24, 21.56s/it][Parallel(n_jobs=1)]: Using backend SequentialBackend with 1 concurrent workers.\n",
      "Exact explainer:   0%|                                                                                                        | 15/22428 [05:08<137:22:26, 22.07s/it]\n"
     ]
    },
    {
     "ename": "KeyboardInterrupt",
     "evalue": "",
     "output_type": "error",
     "traceback": [
      "\u001b[0;31m---------------------------------------------------------------------------\u001b[0m",
      "\u001b[0;31mKeyboardInterrupt\u001b[0m                         Traceback (most recent call last)",
      "\u001b[0;32m/tmp/ipykernel_25243/1836371976.py\u001b[0m in \u001b[0;36m<module>\u001b[0;34m\u001b[0m\n\u001b[0;32m----> 1\u001b[0;31m \u001b[0mshap_values\u001b[0m \u001b[0;34m=\u001b[0m \u001b[0mexplainer\u001b[0m\u001b[0;34m(\u001b[0m\u001b[0mx_test\u001b[0m\u001b[0;34m)\u001b[0m\u001b[0;34m\u001b[0m\u001b[0;34m\u001b[0m\u001b[0m\n\u001b[0m\u001b[1;32m      2\u001b[0m \u001b[0;34m\u001b[0m\u001b[0m\n\u001b[1;32m      3\u001b[0m \u001b[0;34m\u001b[0m\u001b[0m\n",
      "\u001b[0;32m~/venv_Jan2022/lib/python3.9/site-packages/shap/explainers/_exact.py\u001b[0m in \u001b[0;36m__call__\u001b[0;34m(self, max_evals, main_effects, error_bounds, batch_size, interactions, silent, *args)\u001b[0m\n\u001b[1;32m     67\u001b[0m         \u001b[0;31m# we entirely rely on the general call implementation, we override just to remove **kwargs\u001b[0m\u001b[0;34m\u001b[0m\u001b[0;34m\u001b[0m\u001b[0m\n\u001b[1;32m     68\u001b[0m         \u001b[0;31m# from the function signature\u001b[0m\u001b[0;34m\u001b[0m\u001b[0;34m\u001b[0m\u001b[0m\n\u001b[0;32m---> 69\u001b[0;31m         return super(Exact, self).__call__(\n\u001b[0m\u001b[1;32m     70\u001b[0m             \u001b[0;34m*\u001b[0m\u001b[0margs\u001b[0m\u001b[0;34m,\u001b[0m \u001b[0mmax_evals\u001b[0m\u001b[0;34m=\u001b[0m\u001b[0mmax_evals\u001b[0m\u001b[0;34m,\u001b[0m \u001b[0mmain_effects\u001b[0m\u001b[0;34m=\u001b[0m\u001b[0mmain_effects\u001b[0m\u001b[0;34m,\u001b[0m \u001b[0merror_bounds\u001b[0m\u001b[0;34m=\u001b[0m\u001b[0merror_bounds\u001b[0m\u001b[0;34m,\u001b[0m\u001b[0;34m\u001b[0m\u001b[0;34m\u001b[0m\u001b[0m\n\u001b[1;32m     71\u001b[0m             \u001b[0mbatch_size\u001b[0m\u001b[0;34m=\u001b[0m\u001b[0mbatch_size\u001b[0m\u001b[0;34m,\u001b[0m \u001b[0minteractions\u001b[0m\u001b[0;34m=\u001b[0m\u001b[0minteractions\u001b[0m\u001b[0;34m,\u001b[0m \u001b[0msilent\u001b[0m\u001b[0;34m=\u001b[0m\u001b[0msilent\u001b[0m\u001b[0;34m\u001b[0m\u001b[0;34m\u001b[0m\u001b[0m\n",
      "\u001b[0;32m~/venv_Jan2022/lib/python3.9/site-packages/shap/explainers/_explainer.py\u001b[0m in \u001b[0;36m__call__\u001b[0;34m(self, max_evals, main_effects, error_bounds, batch_size, outputs, silent, *args, **kwargs)\u001b[0m\n\u001b[1;32m    256\u001b[0m             \u001b[0mfeature_names\u001b[0m \u001b[0;34m=\u001b[0m \u001b[0;34m[\u001b[0m\u001b[0;34m[\u001b[0m\u001b[0;34m]\u001b[0m \u001b[0;32mfor\u001b[0m \u001b[0m_\u001b[0m \u001b[0;32min\u001b[0m \u001b[0mrange\u001b[0m\u001b[0;34m(\u001b[0m\u001b[0mlen\u001b[0m\u001b[0;34m(\u001b[0m\u001b[0margs\u001b[0m\u001b[0;34m)\u001b[0m\u001b[0;34m)\u001b[0m\u001b[0;34m]\u001b[0m\u001b[0;34m\u001b[0m\u001b[0;34m\u001b[0m\u001b[0m\n\u001b[1;32m    257\u001b[0m         \u001b[0;32mfor\u001b[0m \u001b[0mrow_args\u001b[0m \u001b[0;32min\u001b[0m \u001b[0mshow_progress\u001b[0m\u001b[0;34m(\u001b[0m\u001b[0mzip\u001b[0m\u001b[0;34m(\u001b[0m\u001b[0;34m*\u001b[0m\u001b[0margs\u001b[0m\u001b[0;34m)\u001b[0m\u001b[0;34m,\u001b[0m \u001b[0mnum_rows\u001b[0m\u001b[0;34m,\u001b[0m \u001b[0mself\u001b[0m\u001b[0;34m.\u001b[0m\u001b[0m__class__\u001b[0m\u001b[0;34m.\u001b[0m\u001b[0m__name__\u001b[0m\u001b[0;34m+\u001b[0m\u001b[0;34m\" explainer\"\u001b[0m\u001b[0;34m,\u001b[0m \u001b[0msilent\u001b[0m\u001b[0;34m)\u001b[0m\u001b[0;34m:\u001b[0m\u001b[0;34m\u001b[0m\u001b[0;34m\u001b[0m\u001b[0m\n\u001b[0;32m--> 258\u001b[0;31m             row_result = self.explain_row(\n\u001b[0m\u001b[1;32m    259\u001b[0m                 \u001b[0;34m*\u001b[0m\u001b[0mrow_args\u001b[0m\u001b[0;34m,\u001b[0m \u001b[0mmax_evals\u001b[0m\u001b[0;34m=\u001b[0m\u001b[0mmax_evals\u001b[0m\u001b[0;34m,\u001b[0m \u001b[0mmain_effects\u001b[0m\u001b[0;34m=\u001b[0m\u001b[0mmain_effects\u001b[0m\u001b[0;34m,\u001b[0m \u001b[0merror_bounds\u001b[0m\u001b[0;34m=\u001b[0m\u001b[0merror_bounds\u001b[0m\u001b[0;34m,\u001b[0m\u001b[0;34m\u001b[0m\u001b[0;34m\u001b[0m\u001b[0m\n\u001b[1;32m    260\u001b[0m                 \u001b[0mbatch_size\u001b[0m\u001b[0;34m=\u001b[0m\u001b[0mbatch_size\u001b[0m\u001b[0;34m,\u001b[0m \u001b[0moutputs\u001b[0m\u001b[0;34m=\u001b[0m\u001b[0moutputs\u001b[0m\u001b[0;34m,\u001b[0m \u001b[0msilent\u001b[0m\u001b[0;34m=\u001b[0m\u001b[0msilent\u001b[0m\u001b[0;34m,\u001b[0m \u001b[0;34m**\u001b[0m\u001b[0mkwargs\u001b[0m\u001b[0;34m\u001b[0m\u001b[0;34m\u001b[0m\u001b[0m\n",
      "\u001b[0;32m~/venv_Jan2022/lib/python3.9/site-packages/shap/explainers/_exact.py\u001b[0m in \u001b[0;36mexplain_row\u001b[0;34m(self, max_evals, main_effects, error_bounds, batch_size, outputs, interactions, silent, *row_args)\u001b[0m\n\u001b[1;32m    111\u001b[0m \u001b[0;34m\u001b[0m\u001b[0m\n\u001b[1;32m    112\u001b[0m             \u001b[0;31m# run the model\u001b[0m\u001b[0;34m\u001b[0m\u001b[0;34m\u001b[0m\u001b[0m\n\u001b[0;32m--> 113\u001b[0;31m             \u001b[0moutputs\u001b[0m \u001b[0;34m=\u001b[0m \u001b[0mfm\u001b[0m\u001b[0;34m(\u001b[0m\u001b[0mextended_delta_indexes\u001b[0m\u001b[0;34m,\u001b[0m \u001b[0mzero_index\u001b[0m\u001b[0;34m=\u001b[0m\u001b[0;36m0\u001b[0m\u001b[0;34m,\u001b[0m \u001b[0mbatch_size\u001b[0m\u001b[0;34m=\u001b[0m\u001b[0mbatch_size\u001b[0m\u001b[0;34m)\u001b[0m\u001b[0;34m\u001b[0m\u001b[0;34m\u001b[0m\u001b[0m\n\u001b[0m\u001b[1;32m    114\u001b[0m \u001b[0;34m\u001b[0m\u001b[0m\n\u001b[1;32m    115\u001b[0m             \u001b[0;31m# Shapley values\u001b[0m\u001b[0;34m\u001b[0m\u001b[0;34m\u001b[0m\u001b[0m\n",
      "\u001b[0;32m~/venv_Jan2022/lib/python3.9/site-packages/shap/utils/_masked_model.py\u001b[0m in \u001b[0;36m__call__\u001b[0;34m(self, masks, zero_index, batch_size)\u001b[0m\n\u001b[1;32m     55\u001b[0m         \u001b[0;32mif\u001b[0m \u001b[0mlen\u001b[0m\u001b[0;34m(\u001b[0m\u001b[0mmasks\u001b[0m\u001b[0;34m.\u001b[0m\u001b[0mshape\u001b[0m\u001b[0;34m)\u001b[0m \u001b[0;34m==\u001b[0m \u001b[0;36m1\u001b[0m\u001b[0;34m:\u001b[0m\u001b[0;34m\u001b[0m\u001b[0;34m\u001b[0m\u001b[0m\n\u001b[1;32m     56\u001b[0m             \u001b[0;32mif\u001b[0m \u001b[0mgetattr\u001b[0m\u001b[0;34m(\u001b[0m\u001b[0mself\u001b[0m\u001b[0;34m.\u001b[0m\u001b[0mmasker\u001b[0m\u001b[0;34m,\u001b[0m \u001b[0;34m\"supports_delta_masking\"\u001b[0m\u001b[0;34m,\u001b[0m \u001b[0;32mFalse\u001b[0m\u001b[0;34m)\u001b[0m\u001b[0;34m:\u001b[0m\u001b[0;34m\u001b[0m\u001b[0;34m\u001b[0m\u001b[0m\n\u001b[0;32m---> 57\u001b[0;31m                 \u001b[0;32mreturn\u001b[0m \u001b[0mself\u001b[0m\u001b[0;34m.\u001b[0m\u001b[0m_delta_masking_call\u001b[0m\u001b[0;34m(\u001b[0m\u001b[0mmasks\u001b[0m\u001b[0;34m,\u001b[0m \u001b[0mzero_index\u001b[0m\u001b[0;34m=\u001b[0m\u001b[0mzero_index\u001b[0m\u001b[0;34m,\u001b[0m \u001b[0mbatch_size\u001b[0m\u001b[0;34m=\u001b[0m\u001b[0mbatch_size\u001b[0m\u001b[0;34m)\u001b[0m\u001b[0;34m\u001b[0m\u001b[0;34m\u001b[0m\u001b[0m\n\u001b[0m\u001b[1;32m     58\u001b[0m \u001b[0;34m\u001b[0m\u001b[0m\n\u001b[1;32m     59\u001b[0m             \u001b[0;31m# we need to convert from delta masking to a full masking call because we were given a delta masking\u001b[0m\u001b[0;34m\u001b[0m\u001b[0;34m\u001b[0m\u001b[0m\n",
      "\u001b[0;32m~/venv_Jan2022/lib/python3.9/site-packages/shap/utils/_masked_model.py\u001b[0m in \u001b[0;36m_delta_masking_call\u001b[0;34m(self, masks, zero_index, batch_size)\u001b[0m\n\u001b[1;32m    197\u001b[0m \u001b[0;34m\u001b[0m\u001b[0m\n\u001b[1;32m    198\u001b[0m         \u001b[0;31m# joined_masked_inputs = self._stack_inputs(all_masked_inputs)\u001b[0m\u001b[0;34m\u001b[0m\u001b[0;34m\u001b[0m\u001b[0m\n\u001b[0;32m--> 199\u001b[0;31m         \u001b[0moutputs\u001b[0m \u001b[0;34m=\u001b[0m \u001b[0mself\u001b[0m\u001b[0;34m.\u001b[0m\u001b[0mmodel\u001b[0m\u001b[0;34m(\u001b[0m\u001b[0;34m*\u001b[0m\u001b[0msubset_masked_inputs\u001b[0m\u001b[0;34m)\u001b[0m\u001b[0;34m\u001b[0m\u001b[0;34m\u001b[0m\u001b[0m\n\u001b[0m\u001b[1;32m    200\u001b[0m         \u001b[0m_assert_output_input_match\u001b[0m\u001b[0;34m(\u001b[0m\u001b[0msubset_masked_inputs\u001b[0m\u001b[0;34m,\u001b[0m \u001b[0moutputs\u001b[0m\u001b[0;34m)\u001b[0m\u001b[0;34m\u001b[0m\u001b[0;34m\u001b[0m\u001b[0m\n\u001b[1;32m    201\u001b[0m \u001b[0;34m\u001b[0m\u001b[0m\n",
      "\u001b[0;32m~/venv_Jan2022/lib/python3.9/site-packages/shap/models/_model.py\u001b[0m in \u001b[0;36m__call__\u001b[0;34m(self, *args)\u001b[0m\n\u001b[1;32m     19\u001b[0m \u001b[0;34m\u001b[0m\u001b[0m\n\u001b[1;32m     20\u001b[0m     \u001b[0;32mdef\u001b[0m \u001b[0m__call__\u001b[0m\u001b[0;34m(\u001b[0m\u001b[0mself\u001b[0m\u001b[0;34m,\u001b[0m \u001b[0;34m*\u001b[0m\u001b[0margs\u001b[0m\u001b[0;34m)\u001b[0m\u001b[0;34m:\u001b[0m\u001b[0;34m\u001b[0m\u001b[0;34m\u001b[0m\u001b[0m\n\u001b[0;32m---> 21\u001b[0;31m         \u001b[0;32mreturn\u001b[0m \u001b[0mnp\u001b[0m\u001b[0;34m.\u001b[0m\u001b[0marray\u001b[0m\u001b[0;34m(\u001b[0m\u001b[0mself\u001b[0m\u001b[0;34m.\u001b[0m\u001b[0minner_model\u001b[0m\u001b[0;34m(\u001b[0m\u001b[0;34m*\u001b[0m\u001b[0margs\u001b[0m\u001b[0;34m)\u001b[0m\u001b[0;34m)\u001b[0m\u001b[0;34m\u001b[0m\u001b[0;34m\u001b[0m\u001b[0m\n\u001b[0m\u001b[1;32m     22\u001b[0m \u001b[0;34m\u001b[0m\u001b[0m\n\u001b[1;32m     23\u001b[0m     \u001b[0;32mdef\u001b[0m \u001b[0msave\u001b[0m\u001b[0;34m(\u001b[0m\u001b[0mself\u001b[0m\u001b[0;34m,\u001b[0m \u001b[0mout_file\u001b[0m\u001b[0;34m)\u001b[0m\u001b[0;34m:\u001b[0m\u001b[0;34m\u001b[0m\u001b[0;34m\u001b[0m\u001b[0m\n",
      "\u001b[0;32m~/anaconda3/lib/python3.9/site-packages/sklearn/ensemble/_forest.py\u001b[0m in \u001b[0;36mpredict\u001b[0;34m(self, X)\u001b[0m\n\u001b[1;32m    628\u001b[0m             \u001b[0mThe\u001b[0m \u001b[0mpredicted\u001b[0m \u001b[0mclasses\u001b[0m\u001b[0;34m.\u001b[0m\u001b[0;34m\u001b[0m\u001b[0;34m\u001b[0m\u001b[0m\n\u001b[1;32m    629\u001b[0m         \"\"\"\n\u001b[0;32m--> 630\u001b[0;31m         \u001b[0mproba\u001b[0m \u001b[0;34m=\u001b[0m \u001b[0mself\u001b[0m\u001b[0;34m.\u001b[0m\u001b[0mpredict_proba\u001b[0m\u001b[0;34m(\u001b[0m\u001b[0mX\u001b[0m\u001b[0;34m)\u001b[0m\u001b[0;34m\u001b[0m\u001b[0;34m\u001b[0m\u001b[0m\n\u001b[0m\u001b[1;32m    631\u001b[0m \u001b[0;34m\u001b[0m\u001b[0m\n\u001b[1;32m    632\u001b[0m         \u001b[0;32mif\u001b[0m \u001b[0mself\u001b[0m\u001b[0;34m.\u001b[0m\u001b[0mn_outputs_\u001b[0m \u001b[0;34m==\u001b[0m \u001b[0;36m1\u001b[0m\u001b[0;34m:\u001b[0m\u001b[0;34m\u001b[0m\u001b[0;34m\u001b[0m\u001b[0m\n",
      "\u001b[0;32m~/anaconda3/lib/python3.9/site-packages/sklearn/ensemble/_forest.py\u001b[0m in \u001b[0;36mpredict_proba\u001b[0;34m(self, X)\u001b[0m\n\u001b[1;32m    681\u001b[0m                      for j in np.atleast_1d(self.n_classes_)]\n\u001b[1;32m    682\u001b[0m         \u001b[0mlock\u001b[0m \u001b[0;34m=\u001b[0m \u001b[0mthreading\u001b[0m\u001b[0;34m.\u001b[0m\u001b[0mLock\u001b[0m\u001b[0;34m(\u001b[0m\u001b[0;34m)\u001b[0m\u001b[0;34m\u001b[0m\u001b[0;34m\u001b[0m\u001b[0m\n\u001b[0;32m--> 683\u001b[0;31m         Parallel(n_jobs=n_jobs, verbose=self.verbose,\n\u001b[0m\u001b[1;32m    684\u001b[0m                  \u001b[0;34m**\u001b[0m\u001b[0m_joblib_parallel_args\u001b[0m\u001b[0;34m(\u001b[0m\u001b[0mrequire\u001b[0m\u001b[0;34m=\u001b[0m\u001b[0;34m\"sharedmem\"\u001b[0m\u001b[0;34m)\u001b[0m\u001b[0;34m)\u001b[0m\u001b[0;34m(\u001b[0m\u001b[0;34m\u001b[0m\u001b[0;34m\u001b[0m\u001b[0m\n\u001b[1;32m    685\u001b[0m             delayed(_accumulate_prediction)(e.predict_proba, X, all_proba,\n",
      "\u001b[0;32m~/anaconda3/lib/python3.9/site-packages/joblib/parallel.py\u001b[0m in \u001b[0;36m__call__\u001b[0;34m(self, iterable)\u001b[0m\n\u001b[1;32m   1044\u001b[0m                 \u001b[0mself\u001b[0m\u001b[0;34m.\u001b[0m\u001b[0m_iterating\u001b[0m \u001b[0;34m=\u001b[0m \u001b[0mself\u001b[0m\u001b[0;34m.\u001b[0m\u001b[0m_original_iterator\u001b[0m \u001b[0;32mis\u001b[0m \u001b[0;32mnot\u001b[0m \u001b[0;32mNone\u001b[0m\u001b[0;34m\u001b[0m\u001b[0;34m\u001b[0m\u001b[0m\n\u001b[1;32m   1045\u001b[0m \u001b[0;34m\u001b[0m\u001b[0m\n\u001b[0;32m-> 1046\u001b[0;31m             \u001b[0;32mwhile\u001b[0m \u001b[0mself\u001b[0m\u001b[0;34m.\u001b[0m\u001b[0mdispatch_one_batch\u001b[0m\u001b[0;34m(\u001b[0m\u001b[0miterator\u001b[0m\u001b[0;34m)\u001b[0m\u001b[0;34m:\u001b[0m\u001b[0;34m\u001b[0m\u001b[0;34m\u001b[0m\u001b[0m\n\u001b[0m\u001b[1;32m   1047\u001b[0m                 \u001b[0;32mpass\u001b[0m\u001b[0;34m\u001b[0m\u001b[0;34m\u001b[0m\u001b[0m\n\u001b[1;32m   1048\u001b[0m \u001b[0;34m\u001b[0m\u001b[0m\n",
      "\u001b[0;32m~/anaconda3/lib/python3.9/site-packages/joblib/parallel.py\u001b[0m in \u001b[0;36mdispatch_one_batch\u001b[0;34m(self, iterator)\u001b[0m\n\u001b[1;32m    859\u001b[0m                 \u001b[0;32mreturn\u001b[0m \u001b[0;32mFalse\u001b[0m\u001b[0;34m\u001b[0m\u001b[0;34m\u001b[0m\u001b[0m\n\u001b[1;32m    860\u001b[0m             \u001b[0;32melse\u001b[0m\u001b[0;34m:\u001b[0m\u001b[0;34m\u001b[0m\u001b[0;34m\u001b[0m\u001b[0m\n\u001b[0;32m--> 861\u001b[0;31m                 \u001b[0mself\u001b[0m\u001b[0;34m.\u001b[0m\u001b[0m_dispatch\u001b[0m\u001b[0;34m(\u001b[0m\u001b[0mtasks\u001b[0m\u001b[0;34m)\u001b[0m\u001b[0;34m\u001b[0m\u001b[0;34m\u001b[0m\u001b[0m\n\u001b[0m\u001b[1;32m    862\u001b[0m                 \u001b[0;32mreturn\u001b[0m \u001b[0;32mTrue\u001b[0m\u001b[0;34m\u001b[0m\u001b[0;34m\u001b[0m\u001b[0m\n\u001b[1;32m    863\u001b[0m \u001b[0;34m\u001b[0m\u001b[0m\n",
      "\u001b[0;32m~/anaconda3/lib/python3.9/site-packages/joblib/parallel.py\u001b[0m in \u001b[0;36m_dispatch\u001b[0;34m(self, batch)\u001b[0m\n\u001b[1;32m    777\u001b[0m         \u001b[0;32mwith\u001b[0m \u001b[0mself\u001b[0m\u001b[0;34m.\u001b[0m\u001b[0m_lock\u001b[0m\u001b[0;34m:\u001b[0m\u001b[0;34m\u001b[0m\u001b[0;34m\u001b[0m\u001b[0m\n\u001b[1;32m    778\u001b[0m             \u001b[0mjob_idx\u001b[0m \u001b[0;34m=\u001b[0m \u001b[0mlen\u001b[0m\u001b[0;34m(\u001b[0m\u001b[0mself\u001b[0m\u001b[0;34m.\u001b[0m\u001b[0m_jobs\u001b[0m\u001b[0;34m)\u001b[0m\u001b[0;34m\u001b[0m\u001b[0;34m\u001b[0m\u001b[0m\n\u001b[0;32m--> 779\u001b[0;31m             \u001b[0mjob\u001b[0m \u001b[0;34m=\u001b[0m \u001b[0mself\u001b[0m\u001b[0;34m.\u001b[0m\u001b[0m_backend\u001b[0m\u001b[0;34m.\u001b[0m\u001b[0mapply_async\u001b[0m\u001b[0;34m(\u001b[0m\u001b[0mbatch\u001b[0m\u001b[0;34m,\u001b[0m \u001b[0mcallback\u001b[0m\u001b[0;34m=\u001b[0m\u001b[0mcb\u001b[0m\u001b[0;34m)\u001b[0m\u001b[0;34m\u001b[0m\u001b[0;34m\u001b[0m\u001b[0m\n\u001b[0m\u001b[1;32m    780\u001b[0m             \u001b[0;31m# A job can complete so quickly than its callback is\u001b[0m\u001b[0;34m\u001b[0m\u001b[0;34m\u001b[0m\u001b[0m\n\u001b[1;32m    781\u001b[0m             \u001b[0;31m# called before we get here, causing self._jobs to\u001b[0m\u001b[0;34m\u001b[0m\u001b[0;34m\u001b[0m\u001b[0m\n",
      "\u001b[0;32m~/anaconda3/lib/python3.9/site-packages/joblib/_parallel_backends.py\u001b[0m in \u001b[0;36mapply_async\u001b[0;34m(self, func, callback)\u001b[0m\n\u001b[1;32m    206\u001b[0m     \u001b[0;32mdef\u001b[0m \u001b[0mapply_async\u001b[0m\u001b[0;34m(\u001b[0m\u001b[0mself\u001b[0m\u001b[0;34m,\u001b[0m \u001b[0mfunc\u001b[0m\u001b[0;34m,\u001b[0m \u001b[0mcallback\u001b[0m\u001b[0;34m=\u001b[0m\u001b[0;32mNone\u001b[0m\u001b[0;34m)\u001b[0m\u001b[0;34m:\u001b[0m\u001b[0;34m\u001b[0m\u001b[0;34m\u001b[0m\u001b[0m\n\u001b[1;32m    207\u001b[0m         \u001b[0;34m\"\"\"Schedule a func to be run\"\"\"\u001b[0m\u001b[0;34m\u001b[0m\u001b[0;34m\u001b[0m\u001b[0m\n\u001b[0;32m--> 208\u001b[0;31m         \u001b[0mresult\u001b[0m \u001b[0;34m=\u001b[0m \u001b[0mImmediateResult\u001b[0m\u001b[0;34m(\u001b[0m\u001b[0mfunc\u001b[0m\u001b[0;34m)\u001b[0m\u001b[0;34m\u001b[0m\u001b[0;34m\u001b[0m\u001b[0m\n\u001b[0m\u001b[1;32m    209\u001b[0m         \u001b[0;32mif\u001b[0m \u001b[0mcallback\u001b[0m\u001b[0;34m:\u001b[0m\u001b[0;34m\u001b[0m\u001b[0;34m\u001b[0m\u001b[0m\n\u001b[1;32m    210\u001b[0m             \u001b[0mcallback\u001b[0m\u001b[0;34m(\u001b[0m\u001b[0mresult\u001b[0m\u001b[0;34m)\u001b[0m\u001b[0;34m\u001b[0m\u001b[0;34m\u001b[0m\u001b[0m\n",
      "\u001b[0;32m~/anaconda3/lib/python3.9/site-packages/joblib/_parallel_backends.py\u001b[0m in \u001b[0;36m__init__\u001b[0;34m(self, batch)\u001b[0m\n\u001b[1;32m    570\u001b[0m         \u001b[0;31m# Don't delay the application, to avoid keeping the input\u001b[0m\u001b[0;34m\u001b[0m\u001b[0;34m\u001b[0m\u001b[0m\n\u001b[1;32m    571\u001b[0m         \u001b[0;31m# arguments in memory\u001b[0m\u001b[0;34m\u001b[0m\u001b[0;34m\u001b[0m\u001b[0m\n\u001b[0;32m--> 572\u001b[0;31m         \u001b[0mself\u001b[0m\u001b[0;34m.\u001b[0m\u001b[0mresults\u001b[0m \u001b[0;34m=\u001b[0m \u001b[0mbatch\u001b[0m\u001b[0;34m(\u001b[0m\u001b[0;34m)\u001b[0m\u001b[0;34m\u001b[0m\u001b[0;34m\u001b[0m\u001b[0m\n\u001b[0m\u001b[1;32m    573\u001b[0m \u001b[0;34m\u001b[0m\u001b[0m\n\u001b[1;32m    574\u001b[0m     \u001b[0;32mdef\u001b[0m \u001b[0mget\u001b[0m\u001b[0;34m(\u001b[0m\u001b[0mself\u001b[0m\u001b[0;34m)\u001b[0m\u001b[0;34m:\u001b[0m\u001b[0;34m\u001b[0m\u001b[0;34m\u001b[0m\u001b[0m\n",
      "\u001b[0;32m~/anaconda3/lib/python3.9/site-packages/joblib/parallel.py\u001b[0m in \u001b[0;36m__call__\u001b[0;34m(self)\u001b[0m\n\u001b[1;32m    260\u001b[0m         \u001b[0;31m# change the default number of processes to -1\u001b[0m\u001b[0;34m\u001b[0m\u001b[0;34m\u001b[0m\u001b[0m\n\u001b[1;32m    261\u001b[0m         \u001b[0;32mwith\u001b[0m \u001b[0mparallel_backend\u001b[0m\u001b[0;34m(\u001b[0m\u001b[0mself\u001b[0m\u001b[0;34m.\u001b[0m\u001b[0m_backend\u001b[0m\u001b[0;34m,\u001b[0m \u001b[0mn_jobs\u001b[0m\u001b[0;34m=\u001b[0m\u001b[0mself\u001b[0m\u001b[0;34m.\u001b[0m\u001b[0m_n_jobs\u001b[0m\u001b[0;34m)\u001b[0m\u001b[0;34m:\u001b[0m\u001b[0;34m\u001b[0m\u001b[0;34m\u001b[0m\u001b[0m\n\u001b[0;32m--> 262\u001b[0;31m             return [func(*args, **kwargs)\n\u001b[0m\u001b[1;32m    263\u001b[0m                     for func, args, kwargs in self.items]\n\u001b[1;32m    264\u001b[0m \u001b[0;34m\u001b[0m\u001b[0m\n",
      "\u001b[0;32m~/anaconda3/lib/python3.9/site-packages/joblib/parallel.py\u001b[0m in \u001b[0;36m<listcomp>\u001b[0;34m(.0)\u001b[0m\n\u001b[1;32m    260\u001b[0m         \u001b[0;31m# change the default number of processes to -1\u001b[0m\u001b[0;34m\u001b[0m\u001b[0;34m\u001b[0m\u001b[0m\n\u001b[1;32m    261\u001b[0m         \u001b[0;32mwith\u001b[0m \u001b[0mparallel_backend\u001b[0m\u001b[0;34m(\u001b[0m\u001b[0mself\u001b[0m\u001b[0;34m.\u001b[0m\u001b[0m_backend\u001b[0m\u001b[0;34m,\u001b[0m \u001b[0mn_jobs\u001b[0m\u001b[0;34m=\u001b[0m\u001b[0mself\u001b[0m\u001b[0;34m.\u001b[0m\u001b[0m_n_jobs\u001b[0m\u001b[0;34m)\u001b[0m\u001b[0;34m:\u001b[0m\u001b[0;34m\u001b[0m\u001b[0;34m\u001b[0m\u001b[0m\n\u001b[0;32m--> 262\u001b[0;31m             return [func(*args, **kwargs)\n\u001b[0m\u001b[1;32m    263\u001b[0m                     for func, args, kwargs in self.items]\n\u001b[1;32m    264\u001b[0m \u001b[0;34m\u001b[0m\u001b[0m\n",
      "\u001b[0;32m~/anaconda3/lib/python3.9/site-packages/sklearn/utils/fixes.py\u001b[0m in \u001b[0;36m__call__\u001b[0;34m(self, *args, **kwargs)\u001b[0m\n\u001b[1;32m    220\u001b[0m     \u001b[0;32mdef\u001b[0m \u001b[0m__call__\u001b[0m\u001b[0;34m(\u001b[0m\u001b[0mself\u001b[0m\u001b[0;34m,\u001b[0m \u001b[0;34m*\u001b[0m\u001b[0margs\u001b[0m\u001b[0;34m,\u001b[0m \u001b[0;34m**\u001b[0m\u001b[0mkwargs\u001b[0m\u001b[0;34m)\u001b[0m\u001b[0;34m:\u001b[0m\u001b[0;34m\u001b[0m\u001b[0;34m\u001b[0m\u001b[0m\n\u001b[1;32m    221\u001b[0m         \u001b[0;32mwith\u001b[0m \u001b[0mconfig_context\u001b[0m\u001b[0;34m(\u001b[0m\u001b[0;34m**\u001b[0m\u001b[0mself\u001b[0m\u001b[0;34m.\u001b[0m\u001b[0mconfig\u001b[0m\u001b[0;34m)\u001b[0m\u001b[0;34m:\u001b[0m\u001b[0;34m\u001b[0m\u001b[0;34m\u001b[0m\u001b[0m\n\u001b[0;32m--> 222\u001b[0;31m             \u001b[0;32mreturn\u001b[0m \u001b[0mself\u001b[0m\u001b[0;34m.\u001b[0m\u001b[0mfunction\u001b[0m\u001b[0;34m(\u001b[0m\u001b[0;34m*\u001b[0m\u001b[0margs\u001b[0m\u001b[0;34m,\u001b[0m \u001b[0;34m**\u001b[0m\u001b[0mkwargs\u001b[0m\u001b[0;34m)\u001b[0m\u001b[0;34m\u001b[0m\u001b[0;34m\u001b[0m\u001b[0m\n\u001b[0m",
      "\u001b[0;32m~/anaconda3/lib/python3.9/site-packages/sklearn/ensemble/_forest.py\u001b[0m in \u001b[0;36m_accumulate_prediction\u001b[0;34m(predict, X, out, lock)\u001b[0m\n\u001b[1;32m    465\u001b[0m     \u001b[0mcomplains\u001b[0m \u001b[0mthat\u001b[0m \u001b[0mit\u001b[0m \u001b[0mcannot\u001b[0m \u001b[0mpickle\u001b[0m \u001b[0mit\u001b[0m \u001b[0mwhen\u001b[0m \u001b[0mplaced\u001b[0m \u001b[0mthere\u001b[0m\u001b[0;34m.\u001b[0m\u001b[0;34m\u001b[0m\u001b[0;34m\u001b[0m\u001b[0m\n\u001b[1;32m    466\u001b[0m     \"\"\"\n\u001b[0;32m--> 467\u001b[0;31m     \u001b[0mprediction\u001b[0m \u001b[0;34m=\u001b[0m \u001b[0mpredict\u001b[0m\u001b[0;34m(\u001b[0m\u001b[0mX\u001b[0m\u001b[0;34m,\u001b[0m \u001b[0mcheck_input\u001b[0m\u001b[0;34m=\u001b[0m\u001b[0;32mFalse\u001b[0m\u001b[0;34m)\u001b[0m\u001b[0;34m\u001b[0m\u001b[0;34m\u001b[0m\u001b[0m\n\u001b[0m\u001b[1;32m    468\u001b[0m     \u001b[0;32mwith\u001b[0m \u001b[0mlock\u001b[0m\u001b[0;34m:\u001b[0m\u001b[0;34m\u001b[0m\u001b[0;34m\u001b[0m\u001b[0m\n\u001b[1;32m    469\u001b[0m         \u001b[0;32mif\u001b[0m \u001b[0mlen\u001b[0m\u001b[0;34m(\u001b[0m\u001b[0mout\u001b[0m\u001b[0;34m)\u001b[0m \u001b[0;34m==\u001b[0m \u001b[0;36m1\u001b[0m\u001b[0;34m:\u001b[0m\u001b[0;34m\u001b[0m\u001b[0;34m\u001b[0m\u001b[0m\n",
      "\u001b[0;32m~/anaconda3/lib/python3.9/site-packages/sklearn/tree/_classes.py\u001b[0m in \u001b[0;36mpredict_proba\u001b[0;34m(self, X, check_input)\u001b[0m\n\u001b[1;32m    934\u001b[0m         \u001b[0mcheck_is_fitted\u001b[0m\u001b[0;34m(\u001b[0m\u001b[0mself\u001b[0m\u001b[0;34m)\u001b[0m\u001b[0;34m\u001b[0m\u001b[0;34m\u001b[0m\u001b[0m\n\u001b[1;32m    935\u001b[0m         \u001b[0mX\u001b[0m \u001b[0;34m=\u001b[0m \u001b[0mself\u001b[0m\u001b[0;34m.\u001b[0m\u001b[0m_validate_X_predict\u001b[0m\u001b[0;34m(\u001b[0m\u001b[0mX\u001b[0m\u001b[0;34m,\u001b[0m \u001b[0mcheck_input\u001b[0m\u001b[0;34m)\u001b[0m\u001b[0;34m\u001b[0m\u001b[0;34m\u001b[0m\u001b[0m\n\u001b[0;32m--> 936\u001b[0;31m         \u001b[0mproba\u001b[0m \u001b[0;34m=\u001b[0m \u001b[0mself\u001b[0m\u001b[0;34m.\u001b[0m\u001b[0mtree_\u001b[0m\u001b[0;34m.\u001b[0m\u001b[0mpredict\u001b[0m\u001b[0;34m(\u001b[0m\u001b[0mX\u001b[0m\u001b[0;34m)\u001b[0m\u001b[0;34m\u001b[0m\u001b[0;34m\u001b[0m\u001b[0m\n\u001b[0m\u001b[1;32m    937\u001b[0m \u001b[0;34m\u001b[0m\u001b[0m\n\u001b[1;32m    938\u001b[0m         \u001b[0;32mif\u001b[0m \u001b[0mself\u001b[0m\u001b[0;34m.\u001b[0m\u001b[0mn_outputs_\u001b[0m \u001b[0;34m==\u001b[0m \u001b[0;36m1\u001b[0m\u001b[0;34m:\u001b[0m\u001b[0;34m\u001b[0m\u001b[0;34m\u001b[0m\u001b[0m\n",
      "\u001b[0;31mKeyboardInterrupt\u001b[0m: "
     ]
    }
   ],
   "source": [
    "\n",
    "\n",
    "shap_values = explainer(x_test)\n",
    "\n",
    "\n"
   ]
  },
  {
   "cell_type": "code",
   "execution_count": null,
   "id": "b5cf830e",
   "metadata": {},
   "outputs": [],
   "source": [
    "\n",
    "\n",
    "print(\"Shap values are determined!\")\n",
    "\n"
   ]
  },
  {
   "cell_type": "code",
   "execution_count": null,
   "id": "d2a32aa4",
   "metadata": {},
   "outputs": [],
   "source": [
    "\n",
    "\n",
    "y_test.shape, x_test.shape, shap_values.values.shape\n",
    "\n"
   ]
  },
  {
   "cell_type": "markdown",
   "id": "fa473f2d",
   "metadata": {},
   "source": [
    "- what does row explain?  sorted features' importance in ascending order, low to high.\n",
    "- what does each dot explain? data points\n",
    "- what does color explain? data points per feature value\n",
    "\n",
    "Interpret: \n",
    "\n",
    "- "
   ]
  },
  {
   "cell_type": "code",
   "execution_count": null,
   "id": "a2ed1bf3",
   "metadata": {},
   "outputs": [],
   "source": [
    "# shap.summary_plot(shap_values, \n",
    "#                   x_test, \n",
    "#                   plot_type=\"bar\", \n",
    "#                   class_names=class_names, \n",
    "#                   feature_names=list(x_org.columns),\n",
    "#                   alpha=0.1,\n",
    "#                   color_bar=True,\n",
    "#                   color_bar_label=True\n",
    "#                  )\n",
    "\n"
   ]
  },
  {
   "cell_type": "markdown",
   "id": "f829bea0",
   "metadata": {},
   "source": [
    "### Shap bar plot\n",
    "\n"
   ]
  },
  {
   "cell_type": "code",
   "execution_count": null,
   "id": "a144467a",
   "metadata": {},
   "outputs": [],
   "source": [
    "\n",
    "shap.plots.bar(shap_values, max_display=99, show=False)\n",
    "# plt.gcf()\n",
    "# plt.savefig(\"plots/bar.png\")\n",
    "\n"
   ]
  },
  {
   "cell_type": "markdown",
   "id": "01191600",
   "metadata": {},
   "source": [
    "\n",
    "- The bar plot above depicgts the Mean Absolute SHAP (MAS) values for each feature across the entire data. MAS, on average, quantifies, the magnitude of each feature's contribution towards the predicted class labels. The higher the MAS value for a a feature the more influential that feature is.\n",
    "\n",
    "\n",
    "- The gender SHAP values sums up to 0.35 turning it two one of the most influentioal features. \n",
    "- IQ, Age and the third and fourth grades are the other important features in predicing the class labels.\n",
    "- Althoght the remaining features have less significant SHAP values, still they all plan a role in predicting class labels.\n",
    "\n",
    "- More info on beeswarm-bar plot "
   ]
  },
  {
   "cell_type": "code",
   "execution_count": null,
   "id": "5c183018",
   "metadata": {},
   "outputs": [],
   "source": [
    "plt.gcf()\n",
    "shap.plots.bar(shap_values.abs.max(0), max_display=99, show=False)\n",
    "plt.subplot(2, 1, 2)\n",
    "shap.plots.beeswarm(\n",
    "    shap_values.abs, color=\"shap_red\", max_display=99, show=False, plot_size=None\n",
    ")\n",
    "ax = plt.gca()\n",
    "masv = {}\n",
    "\n",
    "for feature in ax.get_yticklabels():\n",
    "    name = feature.get_text()\n",
    "    col_ind = x_org.columns.get_loc(name)\n",
    "    mean_abs_sv = np.mean(np.abs(shap_values.values[:, col_ind]))\n",
    "    masv[name] = mean_abs_sv\n",
    "ax.scatter(\n",
    "    masv.values(),\n",
    "    [i for i in range(len(x_org.columns))],\n",
    "    zorder=99,\n",
    "    label=\"Mean Absolute SHAP Value\",\n",
    "    c=\"k\",\n",
    "    marker=\"|\",\n",
    "    linewidths=3,\n",
    "    s=100,\n",
    ")\n",
    "ax.legend(frameon=True)\n",
    "plt.tight_layout()\n",
    "\n",
    "\n",
    "# plt.savefig(\"plots/bar_beeswarm.png\")\n",
    "\n"
   ]
  },
  {
   "cell_type": "markdown",
   "id": "dc8bb721",
   "metadata": {},
   "source": [
    "##### Beeswarm-bar plot: \n",
    "\n",
    "In addition to observe the same pattern on the relative importannce of features, one can observe that:\n",
    "\n",
    "- There are quite a few sixth grade participants with very high SHAP values despite of its low MAS value in general.\n",
    "\n",
    "- "
   ]
  },
  {
   "cell_type": "markdown",
   "id": "370018ea",
   "metadata": {},
   "source": [
    "\n",
    "\n",
    "### SHAP Beeswarm Plots\n",
    "\n",
    "\n",
    "- Permutation importance numerically measures the importance of features. This simplifies the comparison between features.  However, the considered interaction between features during the features importance determination process, as can be considered a severe drawback of this method. SHAP summary plots give us a birds-eye view of feature importance and what is driving it. \n",
    "\n",
    "- The points are distributed horizontally along the x-axis according to their SHAP value. In places where there is a high density of SHAP values, the points are stacked vertically. Examining how the SHAP values are distributed reveals how a variable may influence the model's predictions.\n",
    "\n",
    "- The colour bar corresponds to the raw values (not to be confused with the SHAP values) of the variables for each instance (i.e. point) on the graph. If the value of a variable for a particular instance is relatively high, it appears as a red dot. Relatively low variable values appear as blue dots. Examining the color distribution horizontally along the x-axis for each variable provides insights into the general relationship between a variable's raw values and its SHAP values.\n",
    "\n",
    "\n",
    "- These (the columns) are the input variables, ranked from top to bottom by their mean absolute SHAP values for the entire dataset. Note: this ranking is exactly the same as for the bar plot.\n",
    "\n"
   ]
  },
  {
   "cell_type": "code",
   "execution_count": null,
   "id": "0b8c01c5",
   "metadata": {},
   "outputs": [],
   "source": [
    "shap.summary_plot(shap_values=shap_values.values, \n",
    "                  features=x_test,\n",
    "                  class_names=[\"Norm\", \"at-risk\", \"Dyslexic\"],\n",
    "                  feature_names=list(x_org.columns), \n",
    "                 )\n",
    "\n"
   ]
  },
  {
   "cell_type": "markdown",
   "id": "2a2a42aa",
   "metadata": {},
   "source": [
    "\n",
    "- None-female (male) students have the highest negative SHAP values, implying the significance of this feature on prediction results. \n",
    "\n",
    "\n",
    "- Only the two extremes of students' \"IQ\" have direct impacts models prediction.\n",
    "\n",
    "\n",
    "- Similar to IQ features, only the two extremes of \"Age\" feature plays an important role in models prediction.\n",
    "\n",
    "\n",
    "- Most of the 3rd and 4th grade students, unlike the rest of grades, have high SHAP values which demostrates the importance of these two features.\n",
    "\n",
    "\n",
    "- Fixation along Y-axis is more important than X-axis. \n",
    "\n",
    "\n",
    "- The 6th grade has no low impact on model's prediction result. \n",
    "\n",
    "\n",
    "\n"
   ]
  },
  {
   "cell_type": "markdown",
   "id": "86149a27",
   "metadata": {},
   "source": [
    "### SHAP Dependence Contribution Plots\n",
    "\n",
    "A dependence plot is a scatter plot that shows the effect a single feature has on the predictions made by the model. SHAP dependence contribution plots provide a similar insight to PDP's, but they add a lot more detail.\n",
    "\n",
    "\n",
    "- Each dot is a single prediction (row) from the dataset.\n",
    "- The x-axis is the actual value from the dataset.\n",
    "- The y-axis is the SHAP value for that feature, which represents how much knowing that feature’s value changes the output of the model for that sample’s prediction."
   ]
  },
  {
   "cell_type": "code",
   "execution_count": null,
   "id": "4c8c3cf9",
   "metadata": {},
   "outputs": [],
   "source": [
    "n = 5\n",
    "fig, ax = plt.subplots(1, n, figsize=(15, 5))\n",
    "\n",
    "for i, (k, v) in enumerate(sorted(masv.items(), key=lambda x: x[1], reverse=True)):\n",
    "    if i < n:\n",
    "        shap.plots.scatter(shap_values[:, k], ax=ax[i], show=False, alpha=0.6)\n",
    "        ax[i].grid(axis=\"y\")\n",
    "        if i != 0:\n",
    "            ax[i].set_ylabel(\"\")\n",
    "            ax[i].spines[\"left\"].set_visible(False)\n",
    "            ax[i].set_ylim(ax[0].get_ylim())\n",
    "            ax[i].set_yticklabels([\"\" for _ in range(len(ax[0].get_yticks()))])\n",
    "        else:\n",
    "            ax[i].set_ylabel(\"SHAP value\")\n",
    "# fig.savefig(\"plots/scatter_top5.png\")"
   ]
  },
  {
   "cell_type": "markdown",
   "id": "880d899b",
   "metadata": {},
   "source": [
    "\n",
    "- The vertical spread of SHAP values at a fixed raw variable value is due to interaction effects with other variables. For example, here we see that sex_1 equal to unity (female) can have SHAP values that range from $-0.6 to 0.15$ depending on the other data for those particular instances. \n",
    "\n",
    "\n",
    "- The shapes of the distributions of points provide insights into the relationship between a variable's values and its SHAP values. We cannot see any specific relation between any individual feature and its importance (its SHAP values).\n",
    "\n"
   ]
  },
  {
   "cell_type": "code",
   "execution_count": null,
   "id": "be69651e",
   "metadata": {},
   "outputs": [],
   "source": [
    "# n = 5\n",
    "# fig, ax = plt.subplots(1, n, figsize=(15, 5))\n",
    "\n",
    "# for i, (k, v) in enumerate(sorted(masv.items(), key=lambda x: x[1], reverse=True)):\n",
    "#     if i < n:\n",
    "#         shap.plots.scatter(shap_values[:, k], ax=ax[i], show=False, alpha=0.6)\n",
    "#         ax[i].grid(axis=\"y\")\n",
    "#         if i != 0:\n",
    "#             ax[i].set_ylabel(\"\")\n",
    "#             ax[i].spines[\"left\"].set_visible(False)\n",
    "#             ax[i].set_ylim(ax[0].get_ylim())\n",
    "#             ax[i].set_yticklabels([\"\" for _ in range(len(ax[0].get_yticks()))])\n",
    "#         else:\n",
    "#             ax[i].set_ylabel(\"SHAP value\")\n",
    "# # fig.savefig(\"plots/scatter_top5.png\")"
   ]
  },
  {
   "cell_type": "markdown",
   "id": "4aaacaef",
   "metadata": {},
   "source": [
    "##### Dependece plots:\n",
    "\n",
    "- \n"
   ]
  },
  {
   "cell_type": "code",
   "execution_count": null,
   "id": "3b241b5d",
   "metadata": {},
   "outputs": [],
   "source": [
    "\n",
    "\n"
   ]
  },
  {
   "cell_type": "code",
   "execution_count": null,
   "id": "9455ecd0",
   "metadata": {
    "scrolled": false
   },
   "outputs": [],
   "source": [
    "for i in range(x_test.shape[1]):\n",
    "    fig, ax = plt.subplots()\n",
    "    shap.plots.scatter(shap_values[:, i], color=shap_values, ax=ax)\n",
    "\n"
   ]
  },
  {
   "cell_type": "markdown",
   "id": "1c19adcc",
   "metadata": {},
   "source": [
    "- "
   ]
  },
  {
   "cell_type": "markdown",
   "id": "2f290157",
   "metadata": {},
   "source": [
    "\n",
    "## Individual force plots of 3 randomly selected samples of each class\n"
   ]
  },
  {
   "cell_type": "code",
   "execution_count": null,
   "id": "3c9cead3",
   "metadata": {},
   "outputs": [],
   "source": [
    "\n",
    "\n",
    "\n",
    "normals = np.where(y_test == 1)[0]\n",
    "at_risks = np.where(y_test == 2)[0]\n",
    "dyslexics = np.where(y_test == 3)[0]\n",
    "\n",
    "\n",
    "\n",
    "n_size = 5\n",
    "np.random.seed(43)\n",
    "normals_rnd = np.random.choice(normals, n_size)\n",
    "at_risks_rnd = np.random.choice(at_risks, n_size)\n",
    "dyslexics_rnd = np.random.choice(dyslexics, n_size)\n",
    "\n",
    "\n"
   ]
  },
  {
   "cell_type": "code",
   "execution_count": null,
   "id": "2497ff02",
   "metadata": {},
   "outputs": [],
   "source": [
    "normals_rnd\n",
    "\n"
   ]
  },
  {
   "cell_type": "code",
   "execution_count": null,
   "id": "44b851a6",
   "metadata": {},
   "outputs": [],
   "source": [
    "at_risks_rnd\n"
   ]
  },
  {
   "cell_type": "code",
   "execution_count": null,
   "id": "67d17f59",
   "metadata": {},
   "outputs": [],
   "source": [
    "\n",
    "dyslexics_rnd\n"
   ]
  },
  {
   "cell_type": "code",
   "execution_count": null,
   "id": "f913fa37",
   "metadata": {},
   "outputs": [],
   "source": [
    "for n in normals_rnd:\n",
    "    shap.plots.force(shap_values[n], show=False, matplotlib=True)\n",
    "    \n",
    "    "
   ]
  },
  {
   "cell_type": "code",
   "execution_count": null,
   "id": "44e99272",
   "metadata": {},
   "outputs": [],
   "source": [
    "for r in at_risks_rnd:\n",
    "    shap.plots.force(shap_values[r], show=False, matplotlib=True)\n",
    "    \n",
    "    "
   ]
  },
  {
   "cell_type": "code",
   "execution_count": null,
   "id": "f7ddb7e8",
   "metadata": {},
   "outputs": [],
   "source": [
    "for d in dyslexics_rnd:\n",
    "    shap.plots.force(shap_values[d], show=False, matplotlib=True)\n",
    "    \n",
    "    "
   ]
  },
  {
   "cell_type": "code",
   "execution_count": null,
   "id": "960a9c3b",
   "metadata": {},
   "outputs": [],
   "source": [
    "\n",
    "\n"
   ]
  },
  {
   "cell_type": "code",
   "execution_count": null,
   "id": "7fceca1a",
   "metadata": {},
   "outputs": [],
   "source": [
    "\n",
    "\n"
   ]
  },
  {
   "cell_type": "code",
   "execution_count": null,
   "id": "ce257c75",
   "metadata": {},
   "outputs": [],
   "source": []
  }
 ],
 "metadata": {
  "kernelspec": {
   "display_name": "venv_Jan2022",
   "language": "python",
   "name": "venv_jan2022"
  },
  "language_info": {
   "codemirror_mode": {
    "name": "ipython",
    "version": 3
   },
   "file_extension": ".py",
   "mimetype": "text/x-python",
   "name": "python",
   "nbconvert_exporter": "python",
   "pygments_lexer": "ipython3",
   "version": "3.9.7"
  }
 },
 "nbformat": 4,
 "nbformat_minor": 5
}
