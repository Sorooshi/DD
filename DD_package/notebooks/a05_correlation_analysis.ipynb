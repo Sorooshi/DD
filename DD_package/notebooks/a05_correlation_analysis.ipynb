{
 "cells": [
  {
   "cell_type": "code",
   "execution_count": 4,
   "id": "7d4b6dac",
   "metadata": {},
   "outputs": [],
   "source": [
    "\n",
    "\n",
    "\n",
    "import os\n",
    "import sys\n",
    "import time\n",
    "import numpy as np\n",
    "import pandas as pd\n",
    "import seaborn as sns\n",
    "from pathlib import Path\n",
    "import matplotlib.pyplot as plt \n",
    "from collections import defaultdict \n",
    "from types import SimpleNamespace\n",
    "\n",
    "\n",
    "from sklearn.metrics import cohen_kappa_score\n"
   ]
  },
  {
   "cell_type": "code",
   "execution_count": 2,
   "id": "0d455b26",
   "metadata": {},
   "outputs": [],
   "source": [
    "\n",
    "\n",
    "sys.path.append(\"../\")\n",
    "\n",
    "from dd_package.data.dyslexia_data import DyslexiaData\n",
    "from dd_package.data.preprocess import preprocess_data\n",
    "\n",
    "from dd_package.models.regression_estimators import RegressionEstimators\n",
    "\n",
    "from dd_package.common.utils import save_a_dict, load_a_dict\n",
    "\n",
    "\n",
    "\n"
   ]
  },
  {
   "cell_type": "code",
   "execution_count": 8,
   "id": "3c7259f1",
   "metadata": {},
   "outputs": [],
   "source": [
    "tmp = load_a_dict(name=\"dd_demo-gnb_cls--shuffled:False--exclude at risk:0\", \n",
    "                  save_path=\"../../Results/\")"
   ]
  },
  {
   "cell_type": "code",
   "execution_count": 10,
   "id": "9644a374",
   "metadata": {},
   "outputs": [],
   "source": [
    "kappa = []\n",
    "for k, v in tmp.items():\n",
    "    kappa.append(cohen_kappa_score(v[\"y_test\"], v[\"y_pred\"]))\n",
    "    \n",
    "    "
   ]
  },
  {
   "cell_type": "code",
   "execution_count": 11,
   "id": "eb585583",
   "metadata": {},
   "outputs": [
    {
     "data": {
      "text/plain": [
       "(0.01640279047009372, 0.028393289788702217)"
      ]
     },
     "execution_count": 11,
     "metadata": {},
     "output_type": "execute_result"
    }
   ],
   "source": [
    "np.asarray(kappa).mean(), np.asarray(kappa).std(), "
   ]
  },
  {
   "cell_type": "code",
   "execution_count": null,
   "id": "a9f305b6",
   "metadata": {},
   "outputs": [],
   "source": [
    "\n",
    "\n",
    "\n",
    "dd = DyslexiaData(path=\"../../datasets/\", n_repeats=5)\n",
    "\n",
    "\n",
    "\n",
    "demos = dd.get_demo_datasets()\n",
    "ias = dd.get_ia_datasets()\n",
    "fixs = dd.get_fix_datasets()\n",
    "\n",
    "\n",
    "\n"
   ]
  },
  {
   "cell_type": "code",
   "execution_count": null,
   "id": "b576fb84",
   "metadata": {},
   "outputs": [],
   "source": [
    "\n",
    "\n",
    "d_d = demos[\"dyslexia\"]\n",
    "\n",
    "d_d.head()\n",
    "\n"
   ]
  },
  {
   "cell_type": "code",
   "execution_count": null,
   "id": "fb82c543",
   "metadata": {},
   "outputs": [],
   "source": [
    "\n",
    "ia_d = ias[\"dyslexia\"]\n",
    "ia_d.head()\n",
    "\n"
   ]
  },
  {
   "cell_type": "code",
   "execution_count": null,
   "id": "61172a71",
   "metadata": {},
   "outputs": [],
   "source": [
    "\n",
    "fix_d = fixs[\"dyslexia\"]\n",
    "fix_d.head()\n",
    "\n",
    "\n"
   ]
  },
  {
   "cell_type": "code",
   "execution_count": null,
   "id": "0dfee4eb",
   "metadata": {},
   "outputs": [],
   "source": [
    "\n",
    "\n",
    "d_n = demos[\"norm\"]\n",
    "\n",
    "d_n.head()\n",
    "\n"
   ]
  },
  {
   "cell_type": "code",
   "execution_count": null,
   "id": "8f614695",
   "metadata": {},
   "outputs": [],
   "source": [
    "\n",
    "\n",
    "ia_n = ias[\"norm\"]\n",
    "\n",
    "ia_n.head()\n",
    "\n",
    "\n"
   ]
  },
  {
   "cell_type": "code",
   "execution_count": null,
   "id": "0e9c5c7e",
   "metadata": {},
   "outputs": [],
   "source": [
    "\n",
    "\n",
    "fix_n = fixs[\"norm\"]\n",
    "\n",
    "fix_n.head()\n",
    "\n",
    "\n",
    "\n"
   ]
  },
  {
   "cell_type": "code",
   "execution_count": null,
   "id": "8291bfe4",
   "metadata": {},
   "outputs": [],
   "source": [
    "\n",
    "d_r = demos[\"risk\"]\n",
    "\n",
    "d_r.head()\n",
    "\n"
   ]
  },
  {
   "cell_type": "code",
   "execution_count": null,
   "id": "a0d9460f",
   "metadata": {},
   "outputs": [],
   "source": [
    "\n",
    "ia_r = ias[\"risk\"]\n",
    "\n",
    "ia_r.head()\n",
    "\n",
    "\n"
   ]
  },
  {
   "cell_type": "code",
   "execution_count": null,
   "id": "2ee24fe4",
   "metadata": {},
   "outputs": [],
   "source": [
    "\n",
    "fix_r = fixs[\"risk\"]\n",
    "\n",
    "fix_r.head()\n",
    "\n",
    "\n"
   ]
  },
  {
   "cell_type": "code",
   "execution_count": null,
   "id": "c542c743",
   "metadata": {},
   "outputs": [],
   "source": []
  },
  {
   "cell_type": "code",
   "execution_count": null,
   "id": "1e178c2a",
   "metadata": {},
   "outputs": [],
   "source": []
  },
  {
   "cell_type": "code",
   "execution_count": null,
   "id": "64f7e092",
   "metadata": {},
   "outputs": [],
   "source": [
    "\n",
    "demo = dd.concat_classes_demo()  # .reset_index(drop=True)\n",
    "\n",
    "demo\n",
    "\n"
   ]
  },
  {
   "cell_type": "code",
   "execution_count": null,
   "id": "bccd3024",
   "metadata": {},
   "outputs": [],
   "source": [
    "set(demo.Group)"
   ]
  },
  {
   "cell_type": "code",
   "execution_count": null,
   "id": "a5553683",
   "metadata": {},
   "outputs": [],
   "source": [
    "\n",
    "# demo.replace(to_replace={\"Group\":{1:\"N\", 2:\"D\", 3:\"R\"}}, inplace=True)\n",
    "\n",
    "\n",
    "\n",
    "# demo\n",
    "\n"
   ]
  },
  {
   "cell_type": "code",
   "execution_count": null,
   "id": "77e8aca3",
   "metadata": {},
   "outputs": [],
   "source": [
    "\n",
    "\n",
    "\n",
    "ia = dd.concat_classes_ia()  # .reset_index(drop=True)\n",
    "\n",
    "ia\n",
    "\n",
    "\n",
    "\n"
   ]
  },
  {
   "cell_type": "code",
   "execution_count": null,
   "id": "ece940c8",
   "metadata": {},
   "outputs": [],
   "source": [
    "\n",
    "\n",
    "\n",
    "\n",
    "fix = dd.concat_classes_fix()  # .reset_index(drop=True)\n",
    "\n",
    "fix\n",
    "\n",
    "\n",
    "\n",
    "\n"
   ]
  },
  {
   "cell_type": "code",
   "execution_count": null,
   "id": "8ae38e45",
   "metadata": {},
   "outputs": [],
   "source": [
    "\n",
    "\n",
    "ia.shape, demo.shape\n",
    "\n"
   ]
  },
  {
   "cell_type": "code",
   "execution_count": null,
   "id": "2db30de4",
   "metadata": {},
   "outputs": [],
   "source": [
    "set(demo.Group)\n"
   ]
  },
  {
   "cell_type": "code",
   "execution_count": null,
   "id": "8ad11d44",
   "metadata": {},
   "outputs": [],
   "source": [
    "\n",
    "\n",
    "\n",
    "\n",
    "_ia = ia.loc[ia.Group != 2]\n",
    "_fix = fix.loc[fix.Group != 2]\n",
    "_demo = demo.loc[demo.Group != 2]\n",
    "\n",
    "\n"
   ]
  },
  {
   "cell_type": "code",
   "execution_count": null,
   "id": "18029cde",
   "metadata": {},
   "outputs": [],
   "source": [
    "\n",
    "_ia.shape, _demo.shape\n",
    "\n"
   ]
  },
  {
   "cell_type": "code",
   "execution_count": null,
   "id": "e74f923b",
   "metadata": {},
   "outputs": [],
   "source": [
    "(demo.shape[0] - _demo.shape[0]) == demos[\"risk\"].shape[0]\n"
   ]
  },
  {
   "cell_type": "markdown",
   "id": "0ad41299",
   "metadata": {},
   "source": [
    "# Correlation Analysis"
   ]
  },
  {
   "cell_type": "code",
   "execution_count": null,
   "id": "ebc73f0c",
   "metadata": {},
   "outputs": [],
   "source": [
    "corr_demo = demo.corr()\n",
    "\n",
    "corr_demo"
   ]
  },
  {
   "cell_type": "code",
   "execution_count": null,
   "id": "8fc0b103",
   "metadata": {},
   "outputs": [],
   "source": [
    "\n",
    "demo_norm_corr = demos[\"norm\"].corr()\n",
    "\n",
    "demo_norm_corr\n",
    "\n",
    "\n"
   ]
  },
  {
   "cell_type": "code",
   "execution_count": null,
   "id": "7ffcbe0c",
   "metadata": {},
   "outputs": [],
   "source": [
    "corr_demo - demo_norm_corr"
   ]
  },
  {
   "cell_type": "code",
   "execution_count": null,
   "id": "187e76db",
   "metadata": {},
   "outputs": [],
   "source": []
  },
  {
   "cell_type": "code",
   "execution_count": null,
   "id": "8ec550e7",
   "metadata": {},
   "outputs": [],
   "source": []
  },
  {
   "cell_type": "code",
   "execution_count": null,
   "id": "6b7f70c2",
   "metadata": {},
   "outputs": [],
   "source": [
    "\n",
    "\n",
    "ia_corre = ia.corr()\n",
    " \n",
    "ia_corre\n",
    "    "
   ]
  },
  {
   "cell_type": "code",
   "execution_count": null,
   "id": "0b11f03d",
   "metadata": {},
   "outputs": [],
   "source": []
  },
  {
   "cell_type": "code",
   "execution_count": null,
   "id": "0d961ba5",
   "metadata": {},
   "outputs": [],
   "source": [
    "\n",
    "\n",
    "fix_corr = fix.corr()\n",
    "\n",
    "fix_corr\n"
   ]
  },
  {
   "cell_type": "code",
   "execution_count": null,
   "id": "1d152b2c",
   "metadata": {},
   "outputs": [],
   "source": [
    "\n",
    "\n",
    "\n"
   ]
  },
  {
   "cell_type": "code",
   "execution_count": null,
   "id": "10d78ccd",
   "metadata": {},
   "outputs": [],
   "source": [
    "\n",
    "\n",
    "\n",
    "\n",
    "\n",
    "\n",
    "ia_demo = dd.concat_dfs(df1=_ia,  \n",
    "                        df2=_demo,\n",
    "                        features1=ia.columns, \n",
    "                        features2=[\"Reading_speed\", ],\n",
    "                        )\n",
    "\n",
    "ia_demo\n",
    "\n",
    "\n",
    "\n",
    "\n"
   ]
  },
  {
   "cell_type": "code",
   "execution_count": null,
   "id": "f6df8acc",
   "metadata": {},
   "outputs": [],
   "source": [
    "ia.shape"
   ]
  },
  {
   "cell_type": "code",
   "execution_count": null,
   "id": "2f693e94",
   "metadata": {},
   "outputs": [],
   "source": [
    "\n",
    "ia_demo_corr = ia_demo.corr()\n",
    "\n",
    "ia_demo_corr"
   ]
  },
  {
   "cell_type": "code",
   "execution_count": null,
   "id": "317d3181",
   "metadata": {},
   "outputs": [],
   "source": [
    "\n",
    "\n"
   ]
  },
  {
   "cell_type": "code",
   "execution_count": null,
   "id": "baa18eb9",
   "metadata": {},
   "outputs": [],
   "source": [
    "\n",
    "\n",
    "fix_demo = dd.concat_dfs(df1=fix,  \n",
    "                         df2=demo,\n",
    "                         features1=fix.columns, \n",
    "                         features2=demo.columns[2:],\n",
    "                        )\n",
    "\n",
    "\n",
    "\n",
    "fix_demo\n",
    "\n"
   ]
  },
  {
   "cell_type": "code",
   "execution_count": null,
   "id": "ca637d66",
   "metadata": {},
   "outputs": [],
   "source": [
    "\n",
    "fix_demo_corr = fix_demo.corr()\n",
    "\n",
    "fix_demo_corr"
   ]
  },
  {
   "cell_type": "code",
   "execution_count": null,
   "id": "20552227",
   "metadata": {},
   "outputs": [],
   "source": [
    "\n",
    "\n",
    "demo.columns[2:]"
   ]
  },
  {
   "cell_type": "code",
   "execution_count": null,
   "id": "c3e2b7f5",
   "metadata": {},
   "outputs": [],
   "source": [
    "\n",
    "\n",
    "def concat_dfs(df1, df2, features1, features2):\n",
    "\n",
    "    \"\"\" concatenates df2 to df1, that is, it casts df2's dimensions df1. \"\"\"\n",
    "\n",
    "    data = []\n",
    "    subject_ids = df2.SubjectID\n",
    "    for subject_id in subject_ids:\n",
    "        print(\"subject_id:\", subject_id)\n",
    "        tmp1 = df1.loc[(df1.SubjectID == subject_id)]\n",
    "        tmp1 = tmp1.loc[:, features1].reset_index(drop=True)\n",
    "        print(\"tmp1: \", tmp1.shape)\n",
    "        tmp2 = df2.loc[df2.SubjectID == subject_id]\n",
    "        tmp2 = tmp2.loc[:, features2]\n",
    "        # print(\"tmp2:\", tmp2.shape, type(tmp2))\n",
    "\n",
    "        n = tmp1.shape[0]\n",
    "        if n == tmp2.shape[0]:\n",
    "            tmp2 = pd.concat([tmp1], ignore_index=True)\n",
    "        else:\n",
    "            tmp2 = pd.concat([tmp2] * n, ignore_index=True)  # .reset_index(drop=True)\n",
    "            print(\"tmp2:\", tmp2.shape)\n",
    "\n",
    "        tmp3 = pd.concat([tmp1, tmp2], axis=1, )\n",
    "        print(\"tmp3:\", tmp3.shape)\n",
    "\n",
    "        if tmp3.shape[0] != tmp1.shape[0] or tmp3.shape[0] != tmp2.shape[0]:\n",
    "            print(\n",
    "                subject_id,\n",
    "                \"in consistencies in number of observations (rows)\"\n",
    "            )\n",
    "\n",
    "        if tmp3.shape[1] != tmp1.shape[1] + tmp2.shape[1]:\n",
    "            print(\n",
    "                subject_id,\n",
    "                \"inconsistencies in feature space (columns)\"\n",
    "            )\n",
    "\n",
    "        data.append(tmp3)\n",
    "\n",
    "    return pd.concat(data)\n",
    "\n",
    "\n"
   ]
  },
  {
   "cell_type": "code",
   "execution_count": null,
   "id": "699f44f6",
   "metadata": {},
   "outputs": [],
   "source": [
    "\n",
    "\n",
    "\n",
    "ia_reg = concat_dfs(\n",
    "    df1=_ia,\n",
    "    df2=_demo,\n",
    "    features1=_ia.columns,\n",
    "    features2=[\"Reading_speed\", ],\n",
    ")\n",
    "\n",
    "\n"
   ]
  },
  {
   "cell_type": "code",
   "execution_count": null,
   "id": "fe49b8f3",
   "metadata": {},
   "outputs": [],
   "source": [
    "\n",
    "ia.loc[ia.SubjectID == \"m107\"]\n",
    "\n"
   ]
  },
  {
   "cell_type": "code",
   "execution_count": null,
   "id": "32cc4698",
   "metadata": {},
   "outputs": [],
   "source": [
    "\n",
    "\n",
    "set(_demo.Group)\n",
    "\n"
   ]
  },
  {
   "cell_type": "code",
   "execution_count": null,
   "id": "e99e3440",
   "metadata": {},
   "outputs": [],
   "source": []
  }
 ],
 "metadata": {
  "kernelspec": {
   "display_name": "venv_Jan2022",
   "language": "python",
   "name": "venv_jan2022"
  },
  "language_info": {
   "codemirror_mode": {
    "name": "ipython",
    "version": 3
   },
   "file_extension": ".py",
   "mimetype": "text/x-python",
   "name": "python",
   "nbconvert_exporter": "python",
   "pygments_lexer": "ipython3",
   "version": "3.9.7"
  }
 },
 "nbformat": 4,
 "nbformat_minor": 5
}
