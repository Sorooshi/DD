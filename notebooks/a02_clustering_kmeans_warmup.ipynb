{
 "cells": [
  {
   "cell_type": "code",
   "execution_count": 1,
   "metadata": {},
   "outputs": [],
   "source": [
    "import warnings\n",
    "import numpy as np\n",
    "import pandas as pd\n",
    "from sklearn.metrics.cluster import contingency_matrix\n",
    "from sklearn.metrics import adjusted_rand_score as ari"
   ]
  },
  {
   "cell_type": "code",
   "execution_count": 2,
   "metadata": {},
   "outputs": [],
   "source": [
    "np.set_printoptions(suppress=True, precision=3, linewidth=250)"
   ]
  },
  {
   "cell_type": "markdown",
   "metadata": {},
   "source": [
    "### Loading Data set"
   ]
  },
  {
   "cell_type": "code",
   "execution_count": 3,
   "metadata": {},
   "outputs": [
    {
     "data": {
      "text/plain": [
       "((217, 9), (72, 9))"
      ]
     },
     "execution_count": 3,
     "metadata": {},
     "output_type": "execute_result"
    }
   ],
   "source": [
    "demo_xls = pd.ExcelFile(\"../data/demo.xlsx\")\n",
    "demo_norm = pd.read_excel(demo_xls,\n",
    "                          \"norm\").sort_values(by=[\"SubjID\"]).dropna()\n",
    "\n",
    "demo_dyslexia = pd.read_excel(demo_xls, \n",
    "                              \"dyslexia\").sort_values(by=[\"SubjID\"]).dropna()\n",
    "\n",
    "demo_norm.shape, demo_dyslexia.shape"
   ]
  },
  {
   "cell_type": "code",
   "execution_count": 4,
   "metadata": {},
   "outputs": [
    {
     "data": {
      "text/plain": [
       "Index(['Group', 'SubjID', 'Sex', 'Grade', 'Age', 'IQ', 'Reading_speed',\n",
       "       'Sound_detection', 'Sound_change'],\n",
       "      dtype='object')"
      ]
     },
     "execution_count": 4,
     "metadata": {},
     "output_type": "execute_result"
    }
   ],
   "source": [
    "demo_dyslexia.columns"
   ]
  },
  {
   "cell_type": "code",
   "execution_count": 5,
   "metadata": {},
   "outputs": [],
   "source": [
    "features = [\"SubjID\", \"Sex\", \"Grade\", \"Age\", \"IQ\", \"Sound_detection\", \"Sound_change\", ]\n",
    "\n",
    "targets = [\"SubjID\", \"Group\", \"Reading_speed\", ]\n"
   ]
  },
  {
   "cell_type": "code",
   "execution_count": 6,
   "metadata": {},
   "outputs": [
    {
     "data": {
      "text/html": [
       "<div>\n",
       "<style scoped>\n",
       "    .dataframe tbody tr th:only-of-type {\n",
       "        vertical-align: middle;\n",
       "    }\n",
       "\n",
       "    .dataframe tbody tr th {\n",
       "        vertical-align: top;\n",
       "    }\n",
       "\n",
       "    .dataframe thead th {\n",
       "        text-align: right;\n",
       "    }\n",
       "</style>\n",
       "<table border=\"1\" class=\"dataframe\">\n",
       "  <thead>\n",
       "    <tr style=\"text-align: right;\">\n",
       "      <th></th>\n",
       "      <th>SubjID</th>\n",
       "      <th>Sex</th>\n",
       "      <th>Grade</th>\n",
       "      <th>Age</th>\n",
       "      <th>IQ</th>\n",
       "      <th>Sound_detection</th>\n",
       "      <th>Sound_change</th>\n",
       "    </tr>\n",
       "  </thead>\n",
       "  <tbody>\n",
       "    <tr>\n",
       "      <th>182</th>\n",
       "      <td>108_norm2</td>\n",
       "      <td>fem</td>\n",
       "      <td>4</td>\n",
       "      <td>10</td>\n",
       "      <td>34</td>\n",
       "      <td>1.00</td>\n",
       "      <td>0.95</td>\n",
       "    </tr>\n",
       "    <tr>\n",
       "      <th>184</th>\n",
       "      <td>10_norm2</td>\n",
       "      <td>fem</td>\n",
       "      <td>4</td>\n",
       "      <td>10</td>\n",
       "      <td>23</td>\n",
       "      <td>0.62</td>\n",
       "      <td>0.91</td>\n",
       "    </tr>\n",
       "    <tr>\n",
       "      <th>215</th>\n",
       "      <td>11_norm1</td>\n",
       "      <td>fem</td>\n",
       "      <td>2</td>\n",
       "      <td>9</td>\n",
       "      <td>28</td>\n",
       "      <td>0.95</td>\n",
       "      <td>0.91</td>\n",
       "    </tr>\n",
       "    <tr>\n",
       "      <th>185</th>\n",
       "      <td>11_norm2</td>\n",
       "      <td>masc</td>\n",
       "      <td>4</td>\n",
       "      <td>10</td>\n",
       "      <td>34</td>\n",
       "      <td>1.00</td>\n",
       "      <td>0.79</td>\n",
       "    </tr>\n",
       "    <tr>\n",
       "      <th>210</th>\n",
       "      <td>12_norm1</td>\n",
       "      <td>masc</td>\n",
       "      <td>2</td>\n",
       "      <td>8</td>\n",
       "      <td>32</td>\n",
       "      <td>0.95</td>\n",
       "      <td>0.62</td>\n",
       "    </tr>\n",
       "  </tbody>\n",
       "</table>\n",
       "</div>"
      ],
      "text/plain": [
       "        SubjID   Sex  Grade  Age  IQ  Sound_detection  Sound_change\n",
       "182  108_norm2   fem      4   10  34             1.00          0.95\n",
       "184   10_norm2   fem      4   10  23             0.62          0.91\n",
       "215   11_norm1   fem      2    9  28             0.95          0.91\n",
       "185   11_norm2  masc      4   10  34             1.00          0.79\n",
       "210   12_norm1  masc      2    8  32             0.95          0.62"
      ]
     },
     "execution_count": 6,
     "metadata": {},
     "output_type": "execute_result"
    }
   ],
   "source": [
    "\n",
    "x_df = pd.concat([demo_norm.loc[:, features], demo_dyslexia.loc[:, features]])\n",
    "x_df.head()\n",
    "\n"
   ]
  },
  {
   "cell_type": "code",
   "execution_count": 7,
   "metadata": {},
   "outputs": [
    {
     "data": {
      "text/html": [
       "<div>\n",
       "<style scoped>\n",
       "    .dataframe tbody tr th:only-of-type {\n",
       "        vertical-align: middle;\n",
       "    }\n",
       "\n",
       "    .dataframe tbody tr th {\n",
       "        vertical-align: top;\n",
       "    }\n",
       "\n",
       "    .dataframe thead th {\n",
       "        text-align: right;\n",
       "    }\n",
       "</style>\n",
       "<table border=\"1\" class=\"dataframe\">\n",
       "  <thead>\n",
       "    <tr style=\"text-align: right;\">\n",
       "      <th></th>\n",
       "      <th>SubjID</th>\n",
       "      <th>Sex</th>\n",
       "      <th>Grade</th>\n",
       "      <th>Age</th>\n",
       "      <th>IQ</th>\n",
       "      <th>Sound_detection</th>\n",
       "      <th>Sound_change</th>\n",
       "    </tr>\n",
       "  </thead>\n",
       "  <tbody>\n",
       "    <tr>\n",
       "      <th>182</th>\n",
       "      <td>108_norm2</td>\n",
       "      <td>1</td>\n",
       "      <td>4</td>\n",
       "      <td>10</td>\n",
       "      <td>34</td>\n",
       "      <td>1.00</td>\n",
       "      <td>0.95</td>\n",
       "    </tr>\n",
       "    <tr>\n",
       "      <th>184</th>\n",
       "      <td>10_norm2</td>\n",
       "      <td>1</td>\n",
       "      <td>4</td>\n",
       "      <td>10</td>\n",
       "      <td>23</td>\n",
       "      <td>0.62</td>\n",
       "      <td>0.91</td>\n",
       "    </tr>\n",
       "    <tr>\n",
       "      <th>215</th>\n",
       "      <td>11_norm1</td>\n",
       "      <td>1</td>\n",
       "      <td>2</td>\n",
       "      <td>9</td>\n",
       "      <td>28</td>\n",
       "      <td>0.95</td>\n",
       "      <td>0.91</td>\n",
       "    </tr>\n",
       "    <tr>\n",
       "      <th>185</th>\n",
       "      <td>11_norm2</td>\n",
       "      <td>-1</td>\n",
       "      <td>4</td>\n",
       "      <td>10</td>\n",
       "      <td>34</td>\n",
       "      <td>1.00</td>\n",
       "      <td>0.79</td>\n",
       "    </tr>\n",
       "    <tr>\n",
       "      <th>210</th>\n",
       "      <td>12_norm1</td>\n",
       "      <td>-1</td>\n",
       "      <td>2</td>\n",
       "      <td>8</td>\n",
       "      <td>32</td>\n",
       "      <td>0.95</td>\n",
       "      <td>0.62</td>\n",
       "    </tr>\n",
       "  </tbody>\n",
       "</table>\n",
       "</div>"
      ],
      "text/plain": [
       "        SubjID  Sex  Grade  Age  IQ  Sound_detection  Sound_change\n",
       "182  108_norm2    1      4   10  34             1.00          0.95\n",
       "184   10_norm2    1      4   10  23             0.62          0.91\n",
       "215   11_norm1    1      2    9  28             0.95          0.91\n",
       "185   11_norm2   -1      4   10  34             1.00          0.79\n",
       "210   12_norm1   -1      2    8  32             0.95          0.62"
      ]
     },
     "execution_count": 7,
     "metadata": {},
     "output_type": "execute_result"
    }
   ],
   "source": [
    "x_df[\"Sex\"].replace({\"fem\":1, \"f\":1, \"masc\":-1, \"m\":-1}, inplace=True)\n",
    "x_df.head()"
   ]
  },
  {
   "cell_type": "code",
   "execution_count": 8,
   "metadata": {},
   "outputs": [
    {
     "data": {
      "text/html": [
       "<div>\n",
       "<style scoped>\n",
       "    .dataframe tbody tr th:only-of-type {\n",
       "        vertical-align: middle;\n",
       "    }\n",
       "\n",
       "    .dataframe tbody tr th {\n",
       "        vertical-align: top;\n",
       "    }\n",
       "\n",
       "    .dataframe thead th {\n",
       "        text-align: right;\n",
       "    }\n",
       "</style>\n",
       "<table border=\"1\" class=\"dataframe\">\n",
       "  <thead>\n",
       "    <tr style=\"text-align: right;\">\n",
       "      <th></th>\n",
       "      <th>SubjID</th>\n",
       "      <th>Group</th>\n",
       "      <th>Reading_speed</th>\n",
       "    </tr>\n",
       "  </thead>\n",
       "  <tbody>\n",
       "    <tr>\n",
       "      <th>182</th>\n",
       "      <td>108_norm2</td>\n",
       "      <td>norm</td>\n",
       "      <td>139</td>\n",
       "    </tr>\n",
       "    <tr>\n",
       "      <th>184</th>\n",
       "      <td>10_norm2</td>\n",
       "      <td>norm</td>\n",
       "      <td>102</td>\n",
       "    </tr>\n",
       "    <tr>\n",
       "      <th>215</th>\n",
       "      <td>11_norm1</td>\n",
       "      <td>norm</td>\n",
       "      <td>71</td>\n",
       "    </tr>\n",
       "    <tr>\n",
       "      <th>185</th>\n",
       "      <td>11_norm2</td>\n",
       "      <td>norm</td>\n",
       "      <td>110</td>\n",
       "    </tr>\n",
       "    <tr>\n",
       "      <th>210</th>\n",
       "      <td>12_norm1</td>\n",
       "      <td>norm</td>\n",
       "      <td>60</td>\n",
       "    </tr>\n",
       "  </tbody>\n",
       "</table>\n",
       "</div>"
      ],
      "text/plain": [
       "        SubjID Group  Reading_speed\n",
       "182  108_norm2  norm            139\n",
       "184   10_norm2  norm            102\n",
       "215   11_norm1  norm             71\n",
       "185   11_norm2  norm            110\n",
       "210   12_norm1  norm             60"
      ]
     },
     "execution_count": 8,
     "metadata": {},
     "output_type": "execute_result"
    }
   ],
   "source": [
    "\n",
    "y_df = pd.concat([demo_norm.loc[:, targets], demo_dyslexia.loc[:, targets],  ])\n",
    "y_df.head()"
   ]
  },
  {
   "cell_type": "code",
   "execution_count": 9,
   "metadata": {},
   "outputs": [
    {
     "data": {
      "text/html": [
       "<div>\n",
       "<style scoped>\n",
       "    .dataframe tbody tr th:only-of-type {\n",
       "        vertical-align: middle;\n",
       "    }\n",
       "\n",
       "    .dataframe tbody tr th {\n",
       "        vertical-align: top;\n",
       "    }\n",
       "\n",
       "    .dataframe thead th {\n",
       "        text-align: right;\n",
       "    }\n",
       "</style>\n",
       "<table border=\"1\" class=\"dataframe\">\n",
       "  <thead>\n",
       "    <tr style=\"text-align: right;\">\n",
       "      <th></th>\n",
       "      <th>SubjID</th>\n",
       "      <th>Group</th>\n",
       "      <th>Reading_speed</th>\n",
       "    </tr>\n",
       "  </thead>\n",
       "  <tbody>\n",
       "    <tr>\n",
       "      <th>182</th>\n",
       "      <td>108_norm2</td>\n",
       "      <td>0</td>\n",
       "      <td>139</td>\n",
       "    </tr>\n",
       "    <tr>\n",
       "      <th>184</th>\n",
       "      <td>10_norm2</td>\n",
       "      <td>0</td>\n",
       "      <td>102</td>\n",
       "    </tr>\n",
       "    <tr>\n",
       "      <th>215</th>\n",
       "      <td>11_norm1</td>\n",
       "      <td>0</td>\n",
       "      <td>71</td>\n",
       "    </tr>\n",
       "    <tr>\n",
       "      <th>185</th>\n",
       "      <td>11_norm2</td>\n",
       "      <td>0</td>\n",
       "      <td>110</td>\n",
       "    </tr>\n",
       "    <tr>\n",
       "      <th>210</th>\n",
       "      <td>12_norm1</td>\n",
       "      <td>0</td>\n",
       "      <td>60</td>\n",
       "    </tr>\n",
       "  </tbody>\n",
       "</table>\n",
       "</div>"
      ],
      "text/plain": [
       "        SubjID  Group  Reading_speed\n",
       "182  108_norm2      0            139\n",
       "184   10_norm2      0            102\n",
       "215   11_norm1      0             71\n",
       "185   11_norm2      0            110\n",
       "210   12_norm1      0             60"
      ]
     },
     "execution_count": 9,
     "metadata": {},
     "output_type": "execute_result"
    }
   ],
   "source": [
    "y_df[\"Group\"].replace({\"norm\":0, \"dyslexia\":1}, inplace=True)\n",
    "y_df.head()"
   ]
  },
  {
   "cell_type": "code",
   "execution_count": null,
   "metadata": {},
   "outputs": [],
   "source": []
  },
  {
   "cell_type": "markdown",
   "metadata": {},
   "source": [
    "### Data Standardization"
   ]
  },
  {
   "cell_type": "code",
   "execution_count": 10,
   "metadata": {},
   "outputs": [],
   "source": [
    "def standardizer(x):\n",
    "    \n",
    "    \"\"\"\n",
    "        standardize entity-to-feature data matrix by \n",
    "          applying Z-scoring and Range standardization methods\n",
    "        \n",
    "        Arguments: \n",
    "            x, numpy array, entity-to-feature data matrix\n",
    "        \n",
    "        Returns:\n",
    "            Z-scored and Range standardized data matrices\n",
    "    \"\"\"\n",
    "    \n",
    "    x_ave = np.mean(x, axis=0)\n",
    "    x_rng = np.ptp(x, axis=0)\n",
    "    x_std = np.std(x, axis=0)\n",
    "    x_zscr_std = np.divide(np.subtract(x, x_ave), x_std)   # Z-scoring standardization\n",
    "    x_rng_std = np.divide(np.subtract(x, x_ave), x_rng)  # Range standardization \n",
    "    return x_zscr_std, x_rng_std\n"
   ]
  },
  {
   "cell_type": "markdown",
   "metadata": {},
   "source": [
    "### Applying Batch K-Means "
   ]
  },
  {
   "cell_type": "code",
   "execution_count": 11,
   "metadata": {},
   "outputs": [],
   "source": [
    "\n",
    "\n",
    "def apply_kmeans(x_org, n_clusters, n_repeats, std_method='r'):\n",
    "    \n",
    "    from sklearn.cluster import KMeans\n",
    "\n",
    "\n",
    "    \"\"\"\n",
    "        Calls Kmeans algorithm from Sklearn library.\n",
    "        Parameters:\n",
    "            x, a numpy arrary, entity-to-feature matrix,\n",
    "            n_clusters, int, number of clusters to detect,\n",
    "            n_repeats, int, number of repeats for different initilization\n",
    "        Return:\n",
    "            centroids, clusters labels over\n",
    "    \"\"\"\n",
    "    \n",
    "    tmp_inertia = 0\n",
    "    clusters, best_clusters = {}, {}\n",
    "    indices, best_indices = {}, {}\n",
    "    cluster_means, best_cluster_means = {}, {}\n",
    "    differences, best_differences = {}, {}\n",
    "    rel_differences, best_rel_differences = {}, {}\n",
    "    inertia, best_inertia = {}, {}\n",
    "    g_mean = np.mean(x_org, axis=0)\n",
    "    \n",
    "    x_zscr_std, x_rng_std = standardizer(x=x_org)\n",
    "        \n",
    "    for i in range(n_repeats):\n",
    "        clusters[i] = {}\n",
    "        cluster_means[i] = {}\n",
    "        differences[i] = {}\n",
    "        rel_differences[i] = {}\n",
    "        indices[i] = {}\n",
    "        inertia[i] = {}\n",
    "        \n",
    "        # instantiate KMeans Alg. object\n",
    "        km = KMeans(n_clusters=n_clusters, init='random', n_init=1, max_iter=1000,\n",
    "                    tol=1e-5, random_state=i, algorithm='full', )  # verbose=1\n",
    "        if std_method.lower() == 'r' or \\\n",
    "        std_method.lower() == 'rng' or \\\n",
    "        std_method.lower() == 'range':\n",
    "            km.fit(x_rng_std)  # Compute k-means by calling fit method \n",
    "        else:\n",
    "            km.fit(x_zscr_std)  # Compute k-means by calling fit method \n",
    "        \n",
    "        # Store the computation results per each initilization\n",
    "        for k in range(n_clusters):\n",
    "            clusters[i][k] = x_org[np.where(km.labels_==k)]\n",
    "            indices[i][k] = np.where(km.labels_==k)[0]\n",
    "            \n",
    "        inertia[i] = km.inertia_\n",
    "        \n",
    "        for k in range(n_clusters):\n",
    "            cluster_means[i][k] = np.mean(clusters[i][k], axis=0)    \n",
    "            differences[i][k] = np.subtract(cluster_means[i][k], g_mean)\n",
    "            rel_differences[i][k] = 100*(np.divide(\n",
    "                np.subtract(cluster_means[i][k], g_mean), g_mean)\n",
    "                                        )\n",
    "        # to chose the best clustering results regarding the inertia\n",
    "        if i == 0 :\n",
    "            tmp_inertia = km.inertia_\n",
    "            delta = 0\n",
    "        if i != 0:\n",
    "            delta = tmp_inertia - km.inertia_\n",
    "        if delta >= 0:\n",
    "            tmp_inertia = km.inertia_    \n",
    "            for k in range(n_clusters):\n",
    "                best_clusters[k] = x_org[np.where(km.labels_==k)]\n",
    "                best_indices[k] = np.where(km.labels_==k)[0]\n",
    "            for k in range(n_clusters):\n",
    "                best_cluster_means[k] = np.mean(best_clusters[k], axis=0)\n",
    "                best_differences[k] = np.subtract(best_cluster_means[k], g_mean)\n",
    "                best_rel_differences[k] = 100*(np.divide(\n",
    "                    np.subtract(best_cluster_means[k], g_mean), g_mean)\n",
    "                                              )\n",
    "            best_inertia = km.inertia_\n",
    "    \n",
    "    return  clusters, best_clusters, indices, \\\n",
    "best_indices, cluster_means, best_cluster_means, \\\n",
    "differences, rel_differences, best_differences, \\\n",
    "best_rel_differences , inertia, best_inertia"
   ]
  },
  {
   "cell_type": "markdown",
   "metadata": {},
   "source": [
    "##### Calling the aforementioned function for n_clusters = 4 and demonstrating results"
   ]
  },
  {
   "cell_type": "code",
   "execution_count": 12,
   "metadata": {},
   "outputs": [],
   "source": [
    "n_clusters_1 = 2\n",
    "n_clusters_2 = 3"
   ]
  },
  {
   "cell_type": "code",
   "execution_count": 13,
   "metadata": {},
   "outputs": [
    {
     "data": {
      "text/plain": [
       "array([[ 1.   ,  4.   , 10.   , 34.   ,  1.   ,  0.95 ],\n",
       "       [ 1.   ,  4.   , 10.   , 23.   ,  0.62 ,  0.91 ],\n",
       "       [ 1.   ,  2.   ,  9.   , 28.   ,  0.95 ,  0.91 ],\n",
       "       ...,\n",
       "       [ 1.   ,  3.   ,  9.   , 34.   ,  0.875,  0.5  ],\n",
       "       [ 1.   ,  3.   , 10.   , 31.   ,  0.958,  0.917],\n",
       "       [-1.   ,  3.   , 10.   , 32.   ,  0.957,  0.875]])"
      ]
     },
     "execution_count": 13,
     "metadata": {},
     "output_type": "execute_result"
    }
   ],
   "source": [
    "x_df.iloc[:, 1:].values"
   ]
  },
  {
   "cell_type": "code",
   "execution_count": 14,
   "metadata": {},
   "outputs": [],
   "source": [
    "clusters_1, best_clusters_1, indices_1, best_indices_1,\\\n",
    "cluster_means_1, best_cluster_means_1,\\\n",
    "differences_1, rel_differences_1, \\\n",
    "best_differences_1, best_rel_differences_1, \\\n",
    "inertia_1, best_intertia_1 = apply_kmeans(x_org=x_df.iloc[:, 1:].values, \n",
    "                                          n_clusters=n_clusters_1,\n",
    "                                          n_repeats=10, \n",
    "                                          std_method='z')"
   ]
  },
  {
   "cell_type": "markdown",
   "metadata": {},
   "source": [
    "##### Demonstrating all the results"
   ]
  },
  {
   "cell_type": "code",
   "execution_count": 15,
   "metadata": {},
   "outputs": [],
   "source": [
    "def demonstrate_results(x, features, clusters, indices, cluster_means,\n",
    "                        differences, rel_differences, inertia):\n",
    "    for repeat, results in clusters.items():\n",
    "        print(\"results for the initilization number:\", repeat,\n",
    "              \"inertia:\", inertia[repeat],)\n",
    "        \n",
    "        for cluster, result in results.items():\n",
    "            print(\"cluster number  : \" + str(cluster+1),\n",
    "                  \"Number of el.\", len(indices[repeat][cluster]))\n",
    "            print(\"cluster mean    : \", cluster_means[repeat][cluster])\n",
    "            print(\"grand mean      : \", \n",
    "                  np.mean(x, axis=0))\n",
    "            print(\"differences     : \", differences[repeat][cluster])\n",
    "            print(\"rel. differences: \", rel_differences[repeat][cluster])\n",
    "        print( ) \n",
    "        print(\"********************************************************************************\")\n",
    "        print( )\n",
    "    return "
   ]
  },
  {
   "cell_type": "code",
   "execution_count": 16,
   "metadata": {
    "scrolled": true
   },
   "outputs": [
    {
     "name": "stdout",
     "output_type": "stream",
     "text": [
      "results for the initilization number: 0 inertia: 1263.2686269691771\n",
      "cluster number  : 1 Number of el. 159\n",
      "cluster mean    :  [-0.195  4.201 10.478 32.654  0.916  0.837]\n",
      "grand mean      :  [ 3.104  9.374 31.26   0.898  0.767]\n",
      "differences     :  [-0.074  1.097  1.104  1.395  0.018  0.07 ]\n",
      "rel. differences:  [60.988 35.358 11.781  4.461  2.052  9.122]\n",
      "cluster number  : 2 Number of el. 130\n",
      "cluster mean    :  [-0.031  1.762  8.023 29.554  0.876  0.682]\n",
      "grand mean      :  [ 3.104  9.374 31.26   0.898  0.767]\n",
      "differences     :  [ 0.09  -1.342 -1.351 -1.706 -0.023 -0.086]\n",
      "rel. differences:  [-74.593 -43.246 -14.409  -5.456  -2.51  -11.157]\n",
      "\n",
      "********************************************************************************\n",
      "\n",
      "results for the initilization number: 1 inertia: 1263.2686269691771\n",
      "cluster number  : 1 Number of el. 130\n",
      "cluster mean    :  [-0.031  1.762  8.023 29.554  0.876  0.682]\n",
      "grand mean      :  [ 3.104  9.374 31.26   0.898  0.767]\n",
      "differences     :  [ 0.09  -1.342 -1.351 -1.706 -0.023 -0.086]\n",
      "rel. differences:  [-74.593 -43.246 -14.409  -5.456  -2.51  -11.157]\n",
      "cluster number  : 2 Number of el. 159\n",
      "cluster mean    :  [-0.195  4.201 10.478 32.654  0.916  0.837]\n",
      "grand mean      :  [ 3.104  9.374 31.26   0.898  0.767]\n",
      "differences     :  [-0.074  1.097  1.104  1.395  0.018  0.07 ]\n",
      "rel. differences:  [60.988 35.358 11.781  4.461  2.052  9.122]\n",
      "\n",
      "********************************************************************************\n",
      "\n",
      "results for the initilization number: 2 inertia: 1263.2686269691771\n",
      "cluster number  : 1 Number of el. 159\n",
      "cluster mean    :  [-0.195  4.201 10.478 32.654  0.916  0.837]\n",
      "grand mean      :  [ 3.104  9.374 31.26   0.898  0.767]\n",
      "differences     :  [-0.074  1.097  1.104  1.395  0.018  0.07 ]\n",
      "rel. differences:  [60.988 35.358 11.781  4.461  2.052  9.122]\n",
      "cluster number  : 2 Number of el. 130\n",
      "cluster mean    :  [-0.031  1.762  8.023 29.554  0.876  0.682]\n",
      "grand mean      :  [ 3.104  9.374 31.26   0.898  0.767]\n",
      "differences     :  [ 0.09  -1.342 -1.351 -1.706 -0.023 -0.086]\n",
      "rel. differences:  [-74.593 -43.246 -14.409  -5.456  -2.51  -11.157]\n",
      "\n",
      "********************************************************************************\n",
      "\n",
      "results for the initilization number: 3 inertia: 1263.2935807295062\n",
      "cluster number  : 1 Number of el. 131\n",
      "cluster mean    :  [-0.023  1.771  8.031 29.588  0.876  0.682]\n",
      "grand mean      :  [ 3.104  9.374 31.26   0.898  0.767]\n",
      "differences     :  [ 0.098 -1.333 -1.343 -1.672 -0.022 -0.086]\n",
      "rel. differences:  [-81.091 -42.941 -14.329  -5.348  -2.446 -11.178]\n",
      "cluster number  : 2 Number of el. 158\n",
      "cluster mean    :  [-0.203  4.209 10.487 32.646  0.916  0.839]\n",
      "grand mean      :  [ 3.104  9.374 31.26   0.898  0.767]\n",
      "differences     :  [-0.081  1.105  1.114  1.386  0.018  0.071]\n",
      "rel. differences:  [67.233 35.603 11.88   4.434  2.028  9.268]\n",
      "\n",
      "********************************************************************************\n",
      "\n",
      "results for the initilization number: 4 inertia: 1263.2686269691771\n",
      "cluster number  : 1 Number of el. 159\n",
      "cluster mean    :  [-0.195  4.201 10.478 32.654  0.916  0.837]\n",
      "grand mean      :  [ 3.104  9.374 31.26   0.898  0.767]\n",
      "differences     :  [-0.074  1.097  1.104  1.395  0.018  0.07 ]\n",
      "rel. differences:  [60.988 35.358 11.781  4.461  2.052  9.122]\n",
      "cluster number  : 2 Number of el. 130\n",
      "cluster mean    :  [-0.031  1.762  8.023 29.554  0.876  0.682]\n",
      "grand mean      :  [ 3.104  9.374 31.26   0.898  0.767]\n",
      "differences     :  [ 0.09  -1.342 -1.351 -1.706 -0.023 -0.086]\n",
      "rel. differences:  [-74.593 -43.246 -14.409  -5.456  -2.51  -11.157]\n",
      "\n",
      "********************************************************************************\n",
      "\n",
      "results for the initilization number: 5 inertia: 1426.3516929970424\n",
      "cluster number  : 1 Number of el. 126\n",
      "cluster mean    :  [ 1.     2.976  9.198 31.73   0.914  0.804]\n",
      "grand mean      :  [ 3.104  9.374 31.26   0.898  0.767]\n",
      "differences     :  [ 1.121 -0.128 -0.175  0.471  0.016  0.037]\n",
      "rel. differences:  [-925.714   -4.112   -1.87     1.506    1.752    4.797]\n",
      "cluster number  : 2 Number of el. 163\n",
      "cluster mean    :  [-0.988  3.202  9.509 30.896  0.886  0.739]\n",
      "grand mean      :  [ 3.104  9.374 31.26   0.898  0.767]\n",
      "differences     :  [-0.867  0.099  0.136 -0.364 -0.012 -0.028]\n",
      "rel. differences:  [715.583   3.178   1.446  -1.164  -1.354  -3.708]\n",
      "\n",
      "********************************************************************************\n",
      "\n",
      "results for the initilization number: 6 inertia: 1263.2935807295062\n",
      "cluster number  : 1 Number of el. 131\n",
      "cluster mean    :  [-0.023  1.771  8.031 29.588  0.876  0.682]\n",
      "grand mean      :  [ 3.104  9.374 31.26   0.898  0.767]\n",
      "differences     :  [ 0.098 -1.333 -1.343 -1.672 -0.022 -0.086]\n",
      "rel. differences:  [-81.091 -42.941 -14.329  -5.348  -2.446 -11.178]\n",
      "cluster number  : 2 Number of el. 158\n",
      "cluster mean    :  [-0.203  4.209 10.487 32.646  0.916  0.839]\n",
      "grand mean      :  [ 3.104  9.374 31.26   0.898  0.767]\n",
      "differences     :  [-0.081  1.105  1.114  1.386  0.018  0.071]\n",
      "rel. differences:  [67.233 35.603 11.88   4.434  2.028  9.268]\n",
      "\n",
      "********************************************************************************\n",
      "\n",
      "results for the initilization number: 7 inertia: 1263.2686269691771\n",
      "cluster number  : 1 Number of el. 130\n",
      "cluster mean    :  [-0.031  1.762  8.023 29.554  0.876  0.682]\n",
      "grand mean      :  [ 3.104  9.374 31.26   0.898  0.767]\n",
      "differences     :  [ 0.09  -1.342 -1.351 -1.706 -0.023 -0.086]\n",
      "rel. differences:  [-74.593 -43.246 -14.409  -5.456  -2.51  -11.157]\n",
      "cluster number  : 2 Number of el. 159\n",
      "cluster mean    :  [-0.195  4.201 10.478 32.654  0.916  0.837]\n",
      "grand mean      :  [ 3.104  9.374 31.26   0.898  0.767]\n",
      "differences     :  [-0.074  1.097  1.104  1.395  0.018  0.07 ]\n",
      "rel. differences:  [60.988 35.358 11.781  4.461  2.052  9.122]\n",
      "\n",
      "********************************************************************************\n",
      "\n",
      "results for the initilization number: 8 inertia: 1263.2935807295062\n",
      "cluster number  : 1 Number of el. 158\n",
      "cluster mean    :  [-0.203  4.209 10.487 32.646  0.916  0.839]\n",
      "grand mean      :  [ 3.104  9.374 31.26   0.898  0.767]\n",
      "differences     :  [-0.081  1.105  1.114  1.386  0.018  0.071]\n",
      "rel. differences:  [67.233 35.603 11.88   4.434  2.028  9.268]\n",
      "cluster number  : 2 Number of el. 131\n",
      "cluster mean    :  [-0.023  1.771  8.031 29.588  0.876  0.682]\n",
      "grand mean      :  [ 3.104  9.374 31.26   0.898  0.767]\n",
      "differences     :  [ 0.098 -1.333 -1.343 -1.672 -0.022 -0.086]\n",
      "rel. differences:  [-81.091 -42.941 -14.329  -5.348  -2.446 -11.178]\n",
      "\n",
      "********************************************************************************\n",
      "\n",
      "results for the initilization number: 9 inertia: 1263.2935807295062\n",
      "cluster number  : 1 Number of el. 158\n",
      "cluster mean    :  [-0.203  4.209 10.487 32.646  0.916  0.839]\n",
      "grand mean      :  [ 3.104  9.374 31.26   0.898  0.767]\n",
      "differences     :  [-0.081  1.105  1.114  1.386  0.018  0.071]\n",
      "rel. differences:  [67.233 35.603 11.88   4.434  2.028  9.268]\n",
      "cluster number  : 2 Number of el. 131\n",
      "cluster mean    :  [-0.023  1.771  8.031 29.588  0.876  0.682]\n",
      "grand mean      :  [ 3.104  9.374 31.26   0.898  0.767]\n",
      "differences     :  [ 0.098 -1.333 -1.343 -1.672 -0.022 -0.086]\n",
      "rel. differences:  [-81.091 -42.941 -14.329  -5.348  -2.446 -11.178]\n",
      "\n",
      "********************************************************************************\n",
      "\n"
     ]
    }
   ],
   "source": [
    "# features = [feature.strip().split(\",\")[0] for feature in features_]\n",
    "\n",
    "demonstrate_results(x=x_df.iloc[:, 2:].values, \n",
    "                    features=features,\n",
    "                    clusters=clusters_1, \n",
    "                    indices=indices_1, \n",
    "                    cluster_means=cluster_means_1, \n",
    "                    differences=differences_1, \n",
    "                    rel_differences=rel_differences_1, \n",
    "                    inertia=inertia_1)"
   ]
  },
  {
   "cell_type": "markdown",
   "metadata": {},
   "source": [
    "##### Demostrating the best obtained results"
   ]
  },
  {
   "cell_type": "code",
   "execution_count": 17,
   "metadata": {},
   "outputs": [],
   "source": [
    "def demonstrate_best_results(x, features, clusters, indices,\n",
    "                             cluster_means, differences, rel_differences):\n",
    "    \n",
    "    for cluster, result in clusters.items():\n",
    "        print( )\n",
    "        print(\"cluster number  : \" + str(cluster+1),\n",
    "              \"Number of el.\", len(indices[cluster] ))\n",
    "        print(\"grand mean      : \", \n",
    "              np.mean(x, axis=0))\n",
    "        print(\"cluster mean    : \", cluster_means[cluster])\n",
    "        print(\"differences     : \", differences[cluster])\n",
    "        print(\"rel. differences: \", rel_differences[cluster])\n",
    "    "
   ]
  },
  {
   "cell_type": "code",
   "execution_count": 18,
   "metadata": {},
   "outputs": [
    {
     "data": {
      "text/plain": [
       "['Grade', 'Age', 'IQ', 'Sound_detection', 'Sound_change']"
      ]
     },
     "execution_count": 18,
     "metadata": {},
     "output_type": "execute_result"
    }
   ],
   "source": [
    "features[2:]"
   ]
  },
  {
   "cell_type": "code",
   "execution_count": 19,
   "metadata": {},
   "outputs": [
    {
     "name": "stdout",
     "output_type": "stream",
     "text": [
      "\n",
      "cluster number  : 1 Number of el. 130\n",
      "grand mean      :  [-0.121  3.104  9.374 31.26   0.898  0.767]\n",
      "cluster mean    :  [-0.031  1.762  8.023 29.554  0.876  0.682]\n",
      "differences     :  [ 0.09  -1.342 -1.351 -1.706 -0.023 -0.086]\n",
      "rel. differences:  [-74.593 -43.246 -14.409  -5.456  -2.51  -11.157]\n",
      "\n",
      "cluster number  : 2 Number of el. 159\n",
      "grand mean      :  [-0.121  3.104  9.374 31.26   0.898  0.767]\n",
      "cluster mean    :  [-0.195  4.201 10.478 32.654  0.916  0.837]\n",
      "differences     :  [-0.074  1.097  1.104  1.395  0.018  0.07 ]\n",
      "rel. differences:  [60.988 35.358 11.781  4.461  2.052  9.122]\n"
     ]
    }
   ],
   "source": [
    "demonstrate_best_results(x=x_df.iloc[:, 1:].values,\n",
    "                         features=features,\n",
    "                         clusters=best_clusters_1,\n",
    "                         indices=best_indices_1, \n",
    "                         cluster_means=best_cluster_means_1, \n",
    "                         differences=best_differences_1, \n",
    "                         rel_differences=best_rel_differences_1)"
   ]
  },
  {
   "cell_type": "code",
   "execution_count": null,
   "metadata": {},
   "outputs": [],
   "source": []
  },
  {
   "cell_type": "code",
   "execution_count": null,
   "metadata": {},
   "outputs": [],
   "source": [
    "clusters_2, best_clusters_2, indices_2, best_indices_2,\\\n",
    "cluster_means_2, best_cluster_means_2,\\\n",
    "differences_2, rel_differences_2, \\\n",
    "best_differences_2, best_rel_differences_2, \\\n",
    "inertia_2, best_intertia_2 = apply_kmeans(x_org=x_df.iloc[:, 1:].values, \n",
    "                                          n_clusters=n_clusters_2,\n",
    "                                          n_repeats=10, \n",
    "                                          std_method='z')"
   ]
  },
  {
   "cell_type": "code",
   "execution_count": null,
   "metadata": {
    "scrolled": false
   },
   "outputs": [],
   "source": [
    "demonstrate_best_results(x=x_df.iloc[:, 1:].values,\n",
    "                         features=features,\n",
    "                         clusters=best_clusters_2,\n",
    "                         indices=best_indices_2, \n",
    "                         cluster_means=best_cluster_means_2, \n",
    "                         differences=best_differences_2, \n",
    "                         rel_differences=best_rel_differences_2)"
   ]
  },
  {
   "cell_type": "code",
   "execution_count": null,
   "metadata": {},
   "outputs": [],
   "source": [
    "features[1:]"
   ]
  },
  {
   "cell_type": "code",
   "execution_count": null,
   "metadata": {},
   "outputs": [],
   "source": []
  },
  {
   "cell_type": "code",
   "execution_count": null,
   "metadata": {},
   "outputs": [],
   "source": []
  }
 ],
 "metadata": {
  "kernelspec": {
   "display_name": "Python 3 (ipykernel)",
   "language": "python",
   "name": "python3"
  },
  "language_info": {
   "codemirror_mode": {
    "name": "ipython",
    "version": 3
   },
   "file_extension": ".py",
   "mimetype": "text/x-python",
   "name": "python",
   "nbconvert_exporter": "python",
   "pygments_lexer": "ipython3",
   "version": "3.7.3"
  }
 },
 "nbformat": 4,
 "nbformat_minor": 2
}
